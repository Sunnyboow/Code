{
 "cells": [
  {
   "cell_type": "code",
   "execution_count": 124,
   "id": "9de4a046",
   "metadata": {},
   "outputs": [],
   "source": [
    "import pandas as pd\n",
    "import numpy as np\n",
    "import statistics as stat\n",
    "\n",
    "import matplotlib\n",
    "import matplotlib.pyplot as plt\n",
    "import seaborn as sns\n",
    "import geopandas as gpd\n",
    "import plotly.express as px"
   ]
  },
  {
   "cell_type": "code",
   "execution_count": 26,
   "id": "47f5db82",
   "metadata": {
    "scrolled": true
   },
   "outputs": [],
   "source": [
    "url= 'https://raw.githubusercontent.com/mwaskom/seaborn-data/refs/heads/master/tips.csv'\n",
    "df = pd.read_csv(url,index_col=0)\n",
    "df = df.reset_index()"
   ]
  },
  {
   "cell_type": "code",
   "execution_count": 27,
   "id": "c05b4e97",
   "metadata": {},
   "outputs": [
    {
     "data": {
      "text/html": [
       "<div>\n",
       "<style scoped>\n",
       "    .dataframe tbody tr th:only-of-type {\n",
       "        vertical-align: middle;\n",
       "    }\n",
       "\n",
       "    .dataframe tbody tr th {\n",
       "        vertical-align: top;\n",
       "    }\n",
       "\n",
       "    .dataframe thead th {\n",
       "        text-align: right;\n",
       "    }\n",
       "</style>\n",
       "<table border=\"1\" class=\"dataframe\">\n",
       "  <thead>\n",
       "    <tr style=\"text-align: right;\">\n",
       "      <th></th>\n",
       "      <th>total_bill</th>\n",
       "      <th>tip</th>\n",
       "      <th>sex</th>\n",
       "      <th>smoker</th>\n",
       "      <th>day</th>\n",
       "      <th>time</th>\n",
       "      <th>size</th>\n",
       "    </tr>\n",
       "  </thead>\n",
       "  <tbody>\n",
       "    <tr>\n",
       "      <th>0</th>\n",
       "      <td>16.99</td>\n",
       "      <td>1.01</td>\n",
       "      <td>Female</td>\n",
       "      <td>No</td>\n",
       "      <td>Sun</td>\n",
       "      <td>Dinner</td>\n",
       "      <td>2</td>\n",
       "    </tr>\n",
       "    <tr>\n",
       "      <th>1</th>\n",
       "      <td>10.34</td>\n",
       "      <td>1.66</td>\n",
       "      <td>Male</td>\n",
       "      <td>No</td>\n",
       "      <td>Sun</td>\n",
       "      <td>Dinner</td>\n",
       "      <td>3</td>\n",
       "    </tr>\n",
       "    <tr>\n",
       "      <th>2</th>\n",
       "      <td>21.01</td>\n",
       "      <td>3.50</td>\n",
       "      <td>Male</td>\n",
       "      <td>No</td>\n",
       "      <td>Sun</td>\n",
       "      <td>Dinner</td>\n",
       "      <td>3</td>\n",
       "    </tr>\n",
       "    <tr>\n",
       "      <th>3</th>\n",
       "      <td>23.68</td>\n",
       "      <td>3.31</td>\n",
       "      <td>Male</td>\n",
       "      <td>No</td>\n",
       "      <td>Sun</td>\n",
       "      <td>Dinner</td>\n",
       "      <td>2</td>\n",
       "    </tr>\n",
       "    <tr>\n",
       "      <th>4</th>\n",
       "      <td>24.59</td>\n",
       "      <td>3.61</td>\n",
       "      <td>Female</td>\n",
       "      <td>No</td>\n",
       "      <td>Sun</td>\n",
       "      <td>Dinner</td>\n",
       "      <td>4</td>\n",
       "    </tr>\n",
       "    <tr>\n",
       "      <th>...</th>\n",
       "      <td>...</td>\n",
       "      <td>...</td>\n",
       "      <td>...</td>\n",
       "      <td>...</td>\n",
       "      <td>...</td>\n",
       "      <td>...</td>\n",
       "      <td>...</td>\n",
       "    </tr>\n",
       "    <tr>\n",
       "      <th>239</th>\n",
       "      <td>29.03</td>\n",
       "      <td>5.92</td>\n",
       "      <td>Male</td>\n",
       "      <td>No</td>\n",
       "      <td>Sat</td>\n",
       "      <td>Dinner</td>\n",
       "      <td>3</td>\n",
       "    </tr>\n",
       "    <tr>\n",
       "      <th>240</th>\n",
       "      <td>27.18</td>\n",
       "      <td>2.00</td>\n",
       "      <td>Female</td>\n",
       "      <td>Yes</td>\n",
       "      <td>Sat</td>\n",
       "      <td>Dinner</td>\n",
       "      <td>2</td>\n",
       "    </tr>\n",
       "    <tr>\n",
       "      <th>241</th>\n",
       "      <td>22.67</td>\n",
       "      <td>2.00</td>\n",
       "      <td>Male</td>\n",
       "      <td>Yes</td>\n",
       "      <td>Sat</td>\n",
       "      <td>Dinner</td>\n",
       "      <td>2</td>\n",
       "    </tr>\n",
       "    <tr>\n",
       "      <th>242</th>\n",
       "      <td>17.82</td>\n",
       "      <td>1.75</td>\n",
       "      <td>Male</td>\n",
       "      <td>No</td>\n",
       "      <td>Sat</td>\n",
       "      <td>Dinner</td>\n",
       "      <td>2</td>\n",
       "    </tr>\n",
       "    <tr>\n",
       "      <th>243</th>\n",
       "      <td>18.78</td>\n",
       "      <td>3.00</td>\n",
       "      <td>Female</td>\n",
       "      <td>No</td>\n",
       "      <td>Thur</td>\n",
       "      <td>Dinner</td>\n",
       "      <td>2</td>\n",
       "    </tr>\n",
       "  </tbody>\n",
       "</table>\n",
       "<p>244 rows × 7 columns</p>\n",
       "</div>"
      ],
      "text/plain": [
       "     total_bill   tip     sex smoker   day    time  size\n",
       "0         16.99  1.01  Female     No   Sun  Dinner     2\n",
       "1         10.34  1.66    Male     No   Sun  Dinner     3\n",
       "2         21.01  3.50    Male     No   Sun  Dinner     3\n",
       "3         23.68  3.31    Male     No   Sun  Dinner     2\n",
       "4         24.59  3.61  Female     No   Sun  Dinner     4\n",
       "..          ...   ...     ...    ...   ...     ...   ...\n",
       "239       29.03  5.92    Male     No   Sat  Dinner     3\n",
       "240       27.18  2.00  Female    Yes   Sat  Dinner     2\n",
       "241       22.67  2.00    Male    Yes   Sat  Dinner     2\n",
       "242       17.82  1.75    Male     No   Sat  Dinner     2\n",
       "243       18.78  3.00  Female     No  Thur  Dinner     2\n",
       "\n",
       "[244 rows x 7 columns]"
      ]
     },
     "execution_count": 27,
     "metadata": {},
     "output_type": "execute_result"
    }
   ],
   "source": [
    "df"
   ]
  },
  {
   "cell_type": "code",
   "execution_count": 33,
   "id": "a81e24be",
   "metadata": {},
   "outputs": [],
   "source": [
    "df['tips_percent'] = df['tip']/df['total_bill']\n",
    "df"
   ]
  },
  {
   "cell_type": "code",
   "execution_count": 53,
   "id": "db8f4f29",
   "metadata": {},
   "outputs": [
    {
     "data": {
      "text/html": [
       "<div>\n",
       "<style scoped>\n",
       "    .dataframe tbody tr th:only-of-type {\n",
       "        vertical-align: middle;\n",
       "    }\n",
       "\n",
       "    .dataframe tbody tr th {\n",
       "        vertical-align: top;\n",
       "    }\n",
       "\n",
       "    .dataframe thead th {\n",
       "        text-align: right;\n",
       "    }\n",
       "</style>\n",
       "<table border=\"1\" class=\"dataframe\">\n",
       "  <thead>\n",
       "    <tr style=\"text-align: right;\">\n",
       "      <th></th>\n",
       "      <th>day</th>\n",
       "      <th>total_bill</th>\n",
       "    </tr>\n",
       "  </thead>\n",
       "  <tbody>\n",
       "    <tr>\n",
       "      <th>0</th>\n",
       "      <td>Fri</td>\n",
       "      <td>325.88</td>\n",
       "    </tr>\n",
       "    <tr>\n",
       "      <th>1</th>\n",
       "      <td>Sat</td>\n",
       "      <td>1778.40</td>\n",
       "    </tr>\n",
       "    <tr>\n",
       "      <th>2</th>\n",
       "      <td>Sun</td>\n",
       "      <td>1627.16</td>\n",
       "    </tr>\n",
       "    <tr>\n",
       "      <th>3</th>\n",
       "      <td>Thur</td>\n",
       "      <td>1096.33</td>\n",
       "    </tr>\n",
       "  </tbody>\n",
       "</table>\n",
       "</div>"
      ],
      "text/plain": [
       "    day  total_bill\n",
       "0   Fri      325.88\n",
       "1   Sat     1778.40\n",
       "2   Sun     1627.16\n",
       "3  Thur     1096.33"
      ]
     },
     "execution_count": 53,
     "metadata": {},
     "output_type": "execute_result"
    }
   ],
   "source": [
    "df_grouped = df.groupby('day')[['total_bill']].sum().reset_index()\n",
    "df_grouped"
   ]
  },
  {
   "cell_type": "code",
   "execution_count": 102,
   "id": "7e7af011",
   "metadata": {
    "scrolled": false
   },
   "outputs": [
    {
     "data": {
      "image/png": "[encoded data removed]",
      "text/plain": [
       "<Figure size 640x480 with 1 Axes>"
      ]
     },
     "metadata": {},
     "output_type": "display_data"
    }
   ],
   "source": [
    "# Графік загальних сум рахунків відвідувачів по дням\n",
    "df_grouped = df_grouped.sort_values('total_bill',ascending = False)\n",
    "\n",
    "sns.set(style=\"whitegrid\", color_codes=True)\n",
    "pal = sns.color_palette(\"Greens_d\", len(df_grouped))\n",
    "ax = sns.barplot(data=df_grouped, x=\"day\", y=\"total_bill\",palette=np.array(pal[::-1]))# palette='Set2')\n",
    "ax = ax.bar_label(ax.containers[0], fontsize=10)"
   ]
  },
  {
   "cell_type": "code",
   "execution_count": 116,
   "id": "be22da81",
   "metadata": {},
   "outputs": [
    {
     "data": {
      "text/plain": [
       "<matplotlib.legend.Legend at 0x2927eb1ff10>"
      ]
     },
     "execution_count": 116,
     "metadata": {},
     "output_type": "execute_result"
    },
    {
     "data": {
      "image/png": "[encoded data removed]",
      "text/plain": [
       "<Figure size 640x480 with 1 Axes>"
      ]
     },
     "metadata": {},
     "output_type": "display_data"
    }
   ],
   "source": [
    "# Графік розподілення %чайових від загального чеку та сеердній відсоток чайових\n",
    "m = stat.mean(df[\"tips_percent\"])\n",
    "sns.histplot(df[\"tips_percent\"], binwidth=0.04, edgecolor = 'k')\n",
    "plt.axvline(m,color = 'r',label = str(round(m,2)))\n",
    "plt.legend()"
   ]
  },
  {
   "cell_type": "code",
   "execution_count": 130,
   "id": "2b2cb7e0",
   "metadata": {},
   "outputs": [],
   "source": [
    "# Import data from USGS. датасет для того, щоб витягнути latitude, longitude для наступних маніпуляцій\n",
    "pd.set_option('display.max_columns', None)\n",
    "geo_data = pd.read_csv('https://raw.githubusercontent.com/kelvins/US-Cities-Database/main/csv/us_cities.csv')\n",
    "geo_data"
   ]
  },
  {
   "cell_type": "code",
   "execution_count": 140,
   "id": "c52ab8e8",
   "metadata": {
    "scrolled": true
   },
   "outputs": [],
   "source": [
    "#Знаходимо 1 latitude, longitude для кожного штату\n",
    "geo_data_gr = geo_data.groupby('STATE_CODE')[['LATITUDE','LONGITUDE']].median().reset_index()"
   ]
  },
  {
   "cell_type": "code",
   "execution_count": 137,
   "id": "a6b26175",
   "metadata": {
    "scrolled": true
   },
   "outputs": [
    {
     "data": {
      "text/html": [
       "<div>\n",
       "<style scoped>\n",
       "    .dataframe tbody tr th:only-of-type {\n",
       "        vertical-align: middle;\n",
       "    }\n",
       "\n",
       "    .dataframe tbody tr th {\n",
       "        vertical-align: top;\n",
       "    }\n",
       "\n",
       "    .dataframe thead th {\n",
       "        text-align: right;\n",
       "    }\n",
       "</style>\n",
       "<table border=\"1\" class=\"dataframe\">\n",
       "  <thead>\n",
       "    <tr style=\"text-align: right;\">\n",
       "      <th></th>\n",
       "      <th>total</th>\n",
       "      <th>speeding</th>\n",
       "      <th>alcohol</th>\n",
       "      <th>not_distracted</th>\n",
       "      <th>no_previous</th>\n",
       "      <th>ins_premium</th>\n",
       "      <th>ins_losses</th>\n",
       "      <th>abbrev</th>\n",
       "    </tr>\n",
       "  </thead>\n",
       "  <tbody>\n",
       "    <tr>\n",
       "      <th>0</th>\n",
       "      <td>18.8</td>\n",
       "      <td>7.332</td>\n",
       "      <td>5.640</td>\n",
       "      <td>18.048</td>\n",
       "      <td>15.040</td>\n",
       "      <td>784.55</td>\n",
       "      <td>145.08</td>\n",
       "      <td>AL</td>\n",
       "    </tr>\n",
       "    <tr>\n",
       "      <th>1</th>\n",
       "      <td>18.1</td>\n",
       "      <td>7.421</td>\n",
       "      <td>4.525</td>\n",
       "      <td>16.290</td>\n",
       "      <td>17.014</td>\n",
       "      <td>1053.48</td>\n",
       "      <td>133.93</td>\n",
       "      <td>AK</td>\n",
       "    </tr>\n",
       "    <tr>\n",
       "      <th>2</th>\n",
       "      <td>18.6</td>\n",
       "      <td>6.510</td>\n",
       "      <td>5.208</td>\n",
       "      <td>15.624</td>\n",
       "      <td>17.856</td>\n",
       "      <td>899.47</td>\n",
       "      <td>110.35</td>\n",
       "      <td>AZ</td>\n",
       "    </tr>\n",
       "    <tr>\n",
       "      <th>3</th>\n",
       "      <td>22.4</td>\n",
       "      <td>4.032</td>\n",
       "      <td>5.824</td>\n",
       "      <td>21.056</td>\n",
       "      <td>21.280</td>\n",
       "      <td>827.34</td>\n",
       "      <td>142.39</td>\n",
       "      <td>AR</td>\n",
       "    </tr>\n",
       "    <tr>\n",
       "      <th>4</th>\n",
       "      <td>12.0</td>\n",
       "      <td>4.200</td>\n",
       "      <td>3.360</td>\n",
       "      <td>10.920</td>\n",
       "      <td>10.680</td>\n",
       "      <td>878.41</td>\n",
       "      <td>165.63</td>\n",
       "      <td>CA</td>\n",
       "    </tr>\n",
       "    <tr>\n",
       "      <th>5</th>\n",
       "      <td>13.6</td>\n",
       "      <td>5.032</td>\n",
       "      <td>3.808</td>\n",
       "      <td>10.744</td>\n",
       "      <td>12.920</td>\n",
       "      <td>835.50</td>\n",
       "      <td>139.91</td>\n",
       "      <td>CO</td>\n",
       "    </tr>\n",
       "    <tr>\n",
       "      <th>6</th>\n",
       "      <td>10.8</td>\n",
       "      <td>4.968</td>\n",
       "      <td>3.888</td>\n",
       "      <td>9.396</td>\n",
       "      <td>8.856</td>\n",
       "      <td>1068.73</td>\n",
       "      <td>167.02</td>\n",
       "      <td>CT</td>\n",
       "    </tr>\n",
       "    <tr>\n",
       "      <th>7</th>\n",
       "      <td>16.2</td>\n",
       "      <td>6.156</td>\n",
       "      <td>4.860</td>\n",
       "      <td>14.094</td>\n",
       "      <td>16.038</td>\n",
       "      <td>1137.87</td>\n",
       "      <td>151.48</td>\n",
       "      <td>DE</td>\n",
       "    </tr>\n",
       "    <tr>\n",
       "      <th>8</th>\n",
       "      <td>5.9</td>\n",
       "      <td>2.006</td>\n",
       "      <td>1.593</td>\n",
       "      <td>5.900</td>\n",
       "      <td>5.900</td>\n",
       "      <td>1273.89</td>\n",
       "      <td>136.05</td>\n",
       "      <td>DC</td>\n",
       "    </tr>\n",
       "    <tr>\n",
       "      <th>9</th>\n",
       "      <td>17.9</td>\n",
       "      <td>3.759</td>\n",
       "      <td>5.191</td>\n",
       "      <td>16.468</td>\n",
       "      <td>16.826</td>\n",
       "      <td>1160.13</td>\n",
       "      <td>144.18</td>\n",
       "      <td>FL</td>\n",
       "    </tr>\n",
       "    <tr>\n",
       "      <th>10</th>\n",
       "      <td>15.6</td>\n",
       "      <td>2.964</td>\n",
       "      <td>3.900</td>\n",
       "      <td>14.820</td>\n",
       "      <td>14.508</td>\n",
       "      <td>913.15</td>\n",
       "      <td>142.80</td>\n",
       "      <td>GA</td>\n",
       "    </tr>\n",
       "    <tr>\n",
       "      <th>11</th>\n",
       "      <td>17.5</td>\n",
       "      <td>9.450</td>\n",
       "      <td>7.175</td>\n",
       "      <td>14.350</td>\n",
       "      <td>15.225</td>\n",
       "      <td>861.18</td>\n",
       "      <td>120.92</td>\n",
       "      <td>HI</td>\n",
       "    </tr>\n",
       "    <tr>\n",
       "      <th>12</th>\n",
       "      <td>15.3</td>\n",
       "      <td>5.508</td>\n",
       "      <td>4.437</td>\n",
       "      <td>13.005</td>\n",
       "      <td>14.994</td>\n",
       "      <td>641.96</td>\n",
       "      <td>82.75</td>\n",
       "      <td>ID</td>\n",
       "    </tr>\n",
       "    <tr>\n",
       "      <th>13</th>\n",
       "      <td>12.8</td>\n",
       "      <td>4.608</td>\n",
       "      <td>4.352</td>\n",
       "      <td>12.032</td>\n",
       "      <td>12.288</td>\n",
       "      <td>803.11</td>\n",
       "      <td>139.15</td>\n",
       "      <td>IL</td>\n",
       "    </tr>\n",
       "    <tr>\n",
       "      <th>14</th>\n",
       "      <td>14.5</td>\n",
       "      <td>3.625</td>\n",
       "      <td>4.205</td>\n",
       "      <td>13.775</td>\n",
       "      <td>13.775</td>\n",
       "      <td>710.46</td>\n",
       "      <td>108.92</td>\n",
       "      <td>IN</td>\n",
       "    </tr>\n",
       "    <tr>\n",
       "      <th>15</th>\n",
       "      <td>15.7</td>\n",
       "      <td>2.669</td>\n",
       "      <td>3.925</td>\n",
       "      <td>15.229</td>\n",
       "      <td>13.659</td>\n",
       "      <td>649.06</td>\n",
       "      <td>114.47</td>\n",
       "      <td>IA</td>\n",
       "    </tr>\n",
       "    <tr>\n",
       "      <th>16</th>\n",
       "      <td>17.8</td>\n",
       "      <td>4.806</td>\n",
       "      <td>4.272</td>\n",
       "      <td>13.706</td>\n",
       "      <td>15.130</td>\n",
       "      <td>780.45</td>\n",
       "      <td>133.80</td>\n",
       "      <td>KS</td>\n",
       "    </tr>\n",
       "    <tr>\n",
       "      <th>17</th>\n",
       "      <td>21.4</td>\n",
       "      <td>4.066</td>\n",
       "      <td>4.922</td>\n",
       "      <td>16.692</td>\n",
       "      <td>16.264</td>\n",
       "      <td>872.51</td>\n",
       "      <td>137.13</td>\n",
       "      <td>KY</td>\n",
       "    </tr>\n",
       "    <tr>\n",
       "      <th>18</th>\n",
       "      <td>20.5</td>\n",
       "      <td>7.175</td>\n",
       "      <td>6.765</td>\n",
       "      <td>14.965</td>\n",
       "      <td>20.090</td>\n",
       "      <td>1281.55</td>\n",
       "      <td>194.78</td>\n",
       "      <td>LA</td>\n",
       "    </tr>\n",
       "    <tr>\n",
       "      <th>19</th>\n",
       "      <td>15.1</td>\n",
       "      <td>5.738</td>\n",
       "      <td>4.530</td>\n",
       "      <td>13.137</td>\n",
       "      <td>12.684</td>\n",
       "      <td>661.88</td>\n",
       "      <td>96.57</td>\n",
       "      <td>ME</td>\n",
       "    </tr>\n",
       "    <tr>\n",
       "      <th>20</th>\n",
       "      <td>12.5</td>\n",
       "      <td>4.250</td>\n",
       "      <td>4.000</td>\n",
       "      <td>8.875</td>\n",
       "      <td>12.375</td>\n",
       "      <td>1048.78</td>\n",
       "      <td>192.70</td>\n",
       "      <td>MD</td>\n",
       "    </tr>\n",
       "    <tr>\n",
       "      <th>21</th>\n",
       "      <td>8.2</td>\n",
       "      <td>1.886</td>\n",
       "      <td>2.870</td>\n",
       "      <td>7.134</td>\n",
       "      <td>6.560</td>\n",
       "      <td>1011.14</td>\n",
       "      <td>135.63</td>\n",
       "      <td>MA</td>\n",
       "    </tr>\n",
       "    <tr>\n",
       "      <th>22</th>\n",
       "      <td>14.1</td>\n",
       "      <td>3.384</td>\n",
       "      <td>3.948</td>\n",
       "      <td>13.395</td>\n",
       "      <td>10.857</td>\n",
       "      <td>1110.61</td>\n",
       "      <td>152.26</td>\n",
       "      <td>MI</td>\n",
       "    </tr>\n",
       "    <tr>\n",
       "      <th>23</th>\n",
       "      <td>9.6</td>\n",
       "      <td>2.208</td>\n",
       "      <td>2.784</td>\n",
       "      <td>8.448</td>\n",
       "      <td>8.448</td>\n",
       "      <td>777.18</td>\n",
       "      <td>133.35</td>\n",
       "      <td>MN</td>\n",
       "    </tr>\n",
       "    <tr>\n",
       "      <th>24</th>\n",
       "      <td>17.6</td>\n",
       "      <td>2.640</td>\n",
       "      <td>5.456</td>\n",
       "      <td>1.760</td>\n",
       "      <td>17.600</td>\n",
       "      <td>896.07</td>\n",
       "      <td>155.77</td>\n",
       "      <td>MS</td>\n",
       "    </tr>\n",
       "    <tr>\n",
       "      <th>25</th>\n",
       "      <td>16.1</td>\n",
       "      <td>6.923</td>\n",
       "      <td>5.474</td>\n",
       "      <td>14.812</td>\n",
       "      <td>13.524</td>\n",
       "      <td>790.32</td>\n",
       "      <td>144.45</td>\n",
       "      <td>MO</td>\n",
       "    </tr>\n",
       "    <tr>\n",
       "      <th>26</th>\n",
       "      <td>21.4</td>\n",
       "      <td>8.346</td>\n",
       "      <td>9.416</td>\n",
       "      <td>17.976</td>\n",
       "      <td>18.190</td>\n",
       "      <td>816.21</td>\n",
       "      <td>85.15</td>\n",
       "      <td>MT</td>\n",
       "    </tr>\n",
       "    <tr>\n",
       "      <th>27</th>\n",
       "      <td>14.9</td>\n",
       "      <td>1.937</td>\n",
       "      <td>5.215</td>\n",
       "      <td>13.857</td>\n",
       "      <td>13.410</td>\n",
       "      <td>732.28</td>\n",
       "      <td>114.82</td>\n",
       "      <td>NE</td>\n",
       "    </tr>\n",
       "    <tr>\n",
       "      <th>28</th>\n",
       "      <td>14.7</td>\n",
       "      <td>5.439</td>\n",
       "      <td>4.704</td>\n",
       "      <td>13.965</td>\n",
       "      <td>14.553</td>\n",
       "      <td>1029.87</td>\n",
       "      <td>138.71</td>\n",
       "      <td>NV</td>\n",
       "    </tr>\n",
       "    <tr>\n",
       "      <th>29</th>\n",
       "      <td>11.6</td>\n",
       "      <td>4.060</td>\n",
       "      <td>3.480</td>\n",
       "      <td>10.092</td>\n",
       "      <td>9.628</td>\n",
       "      <td>746.54</td>\n",
       "      <td>120.21</td>\n",
       "      <td>NH</td>\n",
       "    </tr>\n",
       "    <tr>\n",
       "      <th>30</th>\n",
       "      <td>11.2</td>\n",
       "      <td>1.792</td>\n",
       "      <td>3.136</td>\n",
       "      <td>9.632</td>\n",
       "      <td>8.736</td>\n",
       "      <td>1301.52</td>\n",
       "      <td>159.85</td>\n",
       "      <td>NJ</td>\n",
       "    </tr>\n",
       "    <tr>\n",
       "      <th>31</th>\n",
       "      <td>18.4</td>\n",
       "      <td>3.496</td>\n",
       "      <td>4.968</td>\n",
       "      <td>12.328</td>\n",
       "      <td>18.032</td>\n",
       "      <td>869.85</td>\n",
       "      <td>120.75</td>\n",
       "      <td>NM</td>\n",
       "    </tr>\n",
       "    <tr>\n",
       "      <th>32</th>\n",
       "      <td>12.3</td>\n",
       "      <td>3.936</td>\n",
       "      <td>3.567</td>\n",
       "      <td>10.824</td>\n",
       "      <td>9.840</td>\n",
       "      <td>1234.31</td>\n",
       "      <td>150.01</td>\n",
       "      <td>NY</td>\n",
       "    </tr>\n",
       "    <tr>\n",
       "      <th>33</th>\n",
       "      <td>16.8</td>\n",
       "      <td>6.552</td>\n",
       "      <td>5.208</td>\n",
       "      <td>15.792</td>\n",
       "      <td>13.608</td>\n",
       "      <td>708.24</td>\n",
       "      <td>127.82</td>\n",
       "      <td>NC</td>\n",
       "    </tr>\n",
       "    <tr>\n",
       "      <th>34</th>\n",
       "      <td>23.9</td>\n",
       "      <td>5.497</td>\n",
       "      <td>10.038</td>\n",
       "      <td>23.661</td>\n",
       "      <td>20.554</td>\n",
       "      <td>688.75</td>\n",
       "      <td>109.72</td>\n",
       "      <td>ND</td>\n",
       "    </tr>\n",
       "    <tr>\n",
       "      <th>35</th>\n",
       "      <td>14.1</td>\n",
       "      <td>3.948</td>\n",
       "      <td>4.794</td>\n",
       "      <td>13.959</td>\n",
       "      <td>11.562</td>\n",
       "      <td>697.73</td>\n",
       "      <td>133.52</td>\n",
       "      <td>OH</td>\n",
       "    </tr>\n",
       "    <tr>\n",
       "      <th>36</th>\n",
       "      <td>19.9</td>\n",
       "      <td>6.368</td>\n",
       "      <td>5.771</td>\n",
       "      <td>18.308</td>\n",
       "      <td>18.706</td>\n",
       "      <td>881.51</td>\n",
       "      <td>178.86</td>\n",
       "      <td>OK</td>\n",
       "    </tr>\n",
       "    <tr>\n",
       "      <th>37</th>\n",
       "      <td>12.8</td>\n",
       "      <td>4.224</td>\n",
       "      <td>3.328</td>\n",
       "      <td>8.576</td>\n",
       "      <td>11.520</td>\n",
       "      <td>804.71</td>\n",
       "      <td>104.61</td>\n",
       "      <td>OR</td>\n",
       "    </tr>\n",
       "    <tr>\n",
       "      <th>38</th>\n",
       "      <td>18.2</td>\n",
       "      <td>9.100</td>\n",
       "      <td>5.642</td>\n",
       "      <td>17.472</td>\n",
       "      <td>16.016</td>\n",
       "      <td>905.99</td>\n",
       "      <td>153.86</td>\n",
       "      <td>PA</td>\n",
       "    </tr>\n",
       "    <tr>\n",
       "      <th>39</th>\n",
       "      <td>11.1</td>\n",
       "      <td>3.774</td>\n",
       "      <td>4.218</td>\n",
       "      <td>10.212</td>\n",
       "      <td>8.769</td>\n",
       "      <td>1148.99</td>\n",
       "      <td>148.58</td>\n",
       "      <td>RI</td>\n",
       "    </tr>\n",
       "    <tr>\n",
       "      <th>40</th>\n",
       "      <td>23.9</td>\n",
       "      <td>9.082</td>\n",
       "      <td>9.799</td>\n",
       "      <td>22.944</td>\n",
       "      <td>19.359</td>\n",
       "      <td>858.97</td>\n",
       "      <td>116.29</td>\n",
       "      <td>SC</td>\n",
       "    </tr>\n",
       "    <tr>\n",
       "      <th>41</th>\n",
       "      <td>19.4</td>\n",
       "      <td>6.014</td>\n",
       "      <td>6.402</td>\n",
       "      <td>19.012</td>\n",
       "      <td>16.684</td>\n",
       "      <td>669.31</td>\n",
       "      <td>96.87</td>\n",
       "      <td>SD</td>\n",
       "    </tr>\n",
       "    <tr>\n",
       "      <th>42</th>\n",
       "      <td>19.5</td>\n",
       "      <td>4.095</td>\n",
       "      <td>5.655</td>\n",
       "      <td>15.990</td>\n",
       "      <td>15.795</td>\n",
       "      <td>767.91</td>\n",
       "      <td>155.57</td>\n",
       "      <td>TN</td>\n",
       "    </tr>\n",
       "    <tr>\n",
       "      <th>43</th>\n",
       "      <td>19.4</td>\n",
       "      <td>7.760</td>\n",
       "      <td>7.372</td>\n",
       "      <td>17.654</td>\n",
       "      <td>16.878</td>\n",
       "      <td>1004.75</td>\n",
       "      <td>156.83</td>\n",
       "      <td>TX</td>\n",
       "    </tr>\n",
       "    <tr>\n",
       "      <th>44</th>\n",
       "      <td>11.3</td>\n",
       "      <td>4.859</td>\n",
       "      <td>1.808</td>\n",
       "      <td>9.944</td>\n",
       "      <td>10.848</td>\n",
       "      <td>809.38</td>\n",
       "      <td>109.48</td>\n",
       "      <td>UT</td>\n",
       "    </tr>\n",
       "    <tr>\n",
       "      <th>45</th>\n",
       "      <td>13.6</td>\n",
       "      <td>4.080</td>\n",
       "      <td>4.080</td>\n",
       "      <td>13.056</td>\n",
       "      <td>12.920</td>\n",
       "      <td>716.20</td>\n",
       "      <td>109.61</td>\n",
       "      <td>VT</td>\n",
       "    </tr>\n",
       "    <tr>\n",
       "      <th>46</th>\n",
       "      <td>12.7</td>\n",
       "      <td>2.413</td>\n",
       "      <td>3.429</td>\n",
       "      <td>11.049</td>\n",
       "      <td>11.176</td>\n",
       "      <td>768.95</td>\n",
       "      <td>153.72</td>\n",
       "      <td>VA</td>\n",
       "    </tr>\n",
       "    <tr>\n",
       "      <th>47</th>\n",
       "      <td>10.6</td>\n",
       "      <td>4.452</td>\n",
       "      <td>3.498</td>\n",
       "      <td>8.692</td>\n",
       "      <td>9.116</td>\n",
       "      <td>890.03</td>\n",
       "      <td>111.62</td>\n",
       "      <td>WA</td>\n",
       "    </tr>\n",
       "    <tr>\n",
       "      <th>48</th>\n",
       "      <td>23.8</td>\n",
       "      <td>8.092</td>\n",
       "      <td>6.664</td>\n",
       "      <td>23.086</td>\n",
       "      <td>20.706</td>\n",
       "      <td>992.61</td>\n",
       "      <td>152.56</td>\n",
       "      <td>WV</td>\n",
       "    </tr>\n",
       "    <tr>\n",
       "      <th>49</th>\n",
       "      <td>13.8</td>\n",
       "      <td>4.968</td>\n",
       "      <td>4.554</td>\n",
       "      <td>5.382</td>\n",
       "      <td>11.592</td>\n",
       "      <td>670.31</td>\n",
       "      <td>106.62</td>\n",
       "      <td>WI</td>\n",
       "    </tr>\n",
       "    <tr>\n",
       "      <th>50</th>\n",
       "      <td>17.4</td>\n",
       "      <td>7.308</td>\n",
       "      <td>5.568</td>\n",
       "      <td>14.094</td>\n",
       "      <td>15.660</td>\n",
       "      <td>791.14</td>\n",
       "      <td>122.04</td>\n",
       "      <td>WY</td>\n",
       "    </tr>\n",
       "  </tbody>\n",
       "</table>\n",
       "</div>"
      ],
      "text/plain": [
       "    total  speeding  alcohol  not_distracted  no_previous  ins_premium  \\\n",
       "0    18.8     7.332    5.640          18.048       15.040       784.55   \n",
       "1    18.1     7.421    4.525          16.290       17.014      1053.48   \n",
       "2    18.6     6.510    5.208          15.624       17.856       899.47   \n",
       "3    22.4     4.032    5.824          21.056       21.280       827.34   \n",
       "4    12.0     4.200    3.360          10.920       10.680       878.41   \n",
       "5    13.6     5.032    3.808          10.744       12.920       835.50   \n",
       "6    10.8     4.968    3.888           9.396        8.856      1068.73   \n",
       "7    16.2     6.156    4.860          14.094       16.038      1137.87   \n",
       "8     5.9     2.006    1.593           5.900        5.900      1273.89   \n",
       "9    17.9     3.759    5.191          16.468       16.826      1160.13   \n",
       "10   15.6     2.964    3.900          14.820       14.508       913.15   \n",
       "11   17.5     9.450    7.175          14.350       15.225       861.18   \n",
       "12   15.3     5.508    4.437          13.005       14.994       641.96   \n",
       "13   12.8     4.608    4.352          12.032       12.288       803.11   \n",
       "14   14.5     3.625    4.205          13.775       13.775       710.46   \n",
       "15   15.7     2.669    3.925          15.229       13.659       649.06   \n",
       "16   17.8     4.806    4.272          13.706       15.130       780.45   \n",
       "17   21.4     4.066    4.922          16.692       16.264       872.51   \n",
       "18   20.5     7.175    6.765          14.965       20.090      1281.55   \n",
       "19   15.1     5.738    4.530          13.137       12.684       661.88   \n",
       "20   12.5     4.250    4.000           8.875       12.375      1048.78   \n",
       "21    8.2     1.886    2.870           7.134        6.560      1011.14   \n",
       "22   14.1     3.384    3.948          13.395       10.857      1110.61   \n",
       "23    9.6     2.208    2.784           8.448        8.448       777.18   \n",
       "24   17.6     2.640    5.456           1.760       17.600       896.07   \n",
       "25   16.1     6.923    5.474          14.812       13.524       790.32   \n",
       "26   21.4     8.346    9.416          17.976       18.190       816.21   \n",
       "27   14.9     1.937    5.215          13.857       13.410       732.28   \n",
       "28   14.7     5.439    4.704          13.965       14.553      1029.87   \n",
       "29   11.6     4.060    3.480          10.092        9.628       746.54   \n",
       "30   11.2     1.792    3.136           9.632        8.736      1301.52   \n",
       "31   18.4     3.496    4.968          12.328       18.032       869.85   \n",
       "32   12.3     3.936    3.567          10.824        9.840      1234.31   \n",
       "33   16.8     6.552    5.208          15.792       13.608       708.24   \n",
       "34   23.9     5.497   10.038          23.661       20.554       688.75   \n",
       "35   14.1     3.948    4.794          13.959       11.562       697.73   \n",
       "36   19.9     6.368    5.771          18.308       18.706       881.51   \n",
       "37   12.8     4.224    3.328           8.576       11.520       804.71   \n",
       "38   18.2     9.100    5.642          17.472       16.016       905.99   \n",
       "39   11.1     3.774    4.218          10.212        8.769      1148.99   \n",
       "40   23.9     9.082    9.799          22.944       19.359       858.97   \n",
       "41   19.4     6.014    6.402          19.012       16.684       669.31   \n",
       "42   19.5     4.095    5.655          15.990       15.795       767.91   \n",
       "43   19.4     7.760    7.372          17.654       16.878      1004.75   \n",
       "44   11.3     4.859    1.808           9.944       10.848       809.38   \n",
       "45   13.6     4.080    4.080          13.056       12.920       716.20   \n",
       "46   12.7     2.413    3.429          11.049       11.176       768.95   \n",
       "47   10.6     4.452    3.498           8.692        9.116       890.03   \n",
       "48   23.8     8.092    6.664          23.086       20.706       992.61   \n",
       "49   13.8     4.968    4.554           5.382       11.592       670.31   \n",
       "50   17.4     7.308    5.568          14.094       15.660       791.14   \n",
       "\n",
       "    ins_losses abbrev  \n",
       "0       145.08     AL  \n",
       "1       133.93     AK  \n",
       "2       110.35     AZ  \n",
       "3       142.39     AR  \n",
       "4       165.63     CA  \n",
       "5       139.91     CO  \n",
       "6       167.02     CT  \n",
       "7       151.48     DE  \n",
       "8       136.05     DC  \n",
       "9       144.18     FL  \n",
       "10      142.80     GA  \n",
       "11      120.92     HI  \n",
       "12       82.75     ID  \n",
       "13      139.15     IL  \n",
       "14      108.92     IN  \n",
       "15      114.47     IA  \n",
       "16      133.80     KS  \n",
       "17      137.13     KY  \n",
       "18      194.78     LA  \n",
       "19       96.57     ME  \n",
       "20      192.70     MD  \n",
       "21      135.63     MA  \n",
       "22      152.26     MI  \n",
       "23      133.35     MN  \n",
       "24      155.77     MS  \n",
       "25      144.45     MO  \n",
       "26       85.15     MT  \n",
       "27      114.82     NE  \n",
       "28      138.71     NV  \n",
       "29      120.21     NH  \n",
       "30      159.85     NJ  \n",
       "31      120.75     NM  \n",
       "32      150.01     NY  \n",
       "33      127.82     NC  \n",
       "34      109.72     ND  \n",
       "35      133.52     OH  \n",
       "36      178.86     OK  \n",
       "37      104.61     OR  \n",
       "38      153.86     PA  \n",
       "39      148.58     RI  \n",
       "40      116.29     SC  \n",
       "41       96.87     SD  \n",
       "42      155.57     TN  \n",
       "43      156.83     TX  \n",
       "44      109.48     UT  \n",
       "45      109.61     VT  \n",
       "46      153.72     VA  \n",
       "47      111.62     WA  \n",
       "48      152.56     WV  \n",
       "49      106.62     WI  \n",
       "50      122.04     WY  "
      ]
     },
     "execution_count": 137,
     "metadata": {},
     "output_type": "execute_result"
    }
   ],
   "source": [
    "# Get automobiles crashes dataframes\n",
    "auto_crashes = pd.read_csv('https://raw.githubusercontent.com/mwaskom/seaborn-data/refs/heads/master/car_crashes.csv')"
   ]
  },
  {
   "cell_type": "code",
   "execution_count": 147,
   "id": "9efa4e99",
   "metadata": {},
   "outputs": [],
   "source": [
    "auto_crashes = auto_crashes.rename(columns={\"abbrev\": \"STATE_CODE\"})\n",
    "auto_crashes_upd = auto_crashes.merge(geo_data_gr,how= 'left',on='STATE_CODE')"
   ]
  },
  {
   "cell_type": "code",
   "execution_count": 214,
   "id": "3b8b53e7",
   "metadata": {},
   "outputs": [
    {
     "data": {
      "application/vnd.plotly.v1+json": {
       "config": {
        "plotlyServerURL": "https://plot.ly"
       },
       "data": [
        {
         "coloraxis": "coloraxis",
         "geo": "geo",
         "hovertemplate": "STATE_CODE=%{location}<br>alcohol=%{z}<extra></extra>",
         "locationmode": "USA-states",
         "locations": [
          "AL",
          "AK",
          "AZ",
          "AR",
          "CA",
          "CO",
          "CT",
          "DE",
          "DC",
          "FL",
          "GA",
          "HI",
          "ID",
          "IL",
          "IN",
          "IA",
          "KS",
          "KY",
          "LA",
          "ME",
          "MD",
          "MA",
          "MI",
          "MN",
          "MS",
          "MO",
          "MT",
          "NE",
          "NV",
          "NH",
          "NJ",
          "NM",
          "NY",
          "NC",
          "ND",
          "OH",
          "OK",
          "OR",
          "PA",
          "RI",
          "SC",
          "SD",
          "TN",
          "TX",
          "UT",
          "VT",
          "VA",
          "WA",
          "WV",
          "WI",
          "WY"
         ],
         "name": "",
         "type": "choropleth",
         "z": [
          5.64,
          4.525,
          5.208000000000001,
          5.824,
          3.36,
          3.808,
          3.888,
          4.86,
          1.5930000000000002,
          5.190999999999999,
          3.9,
          7.175,
          4.437,
          4.352,
          4.205,
          3.925,
          4.272,
          4.922,
          6.765,
          4.53,
          4,
          2.87,
          3.948,
          2.784,
          5.456,
          5.474000000000001,
          9.416,
          5.215,
          4.704,
          3.48,
          3.136,
          4.968,
          3.5670000000000006,
          5.208000000000001,
          10.038,
          4.794,
          5.770999999999999,
          3.3280000000000003,
          5.642,
          4.218,
          9.799,
          6.401999999999999,
          5.655,
          7.371999999999999,
          1.808,
          4.08,
          3.429,
          3.498,
          6.664,
          4.554,
          5.568
         ]
        },
        {
         "locationmode": "USA-states",
         "locations": [
          "AL",
          "AK",
          "AZ",
          "AR",
          "CA",
          "CO",
          "CT",
          "DE",
          "DC",
          "FL",
          "GA",
          "HI",
          "ID",
          "IL",
          "IN",
          "IA",
          "KS",
          "KY",
          "LA",
          "ME",
          "MD",
          "MA",
          "MI",
          "MN",
          "MS",
          "MO",
          "MT",
          "NE",
          "NV",
          "NH",
          "NJ",
          "NM",
          "NY",
          "NC",
          "ND",
          "OH",
          "OK",
          "OR",
          "PA",
          "RI",
          "SC",
          "SD",
          "TN",
          "TX",
          "UT",
          "VT",
          "VA",
          "WA",
          "WV",
          "WI",
          "WY"
         ],
         "mode": "text",
         "text": [
          5.6,
          4.5,
          5.2,
          5.8,
          3.4,
          3.8,
          3.9,
          4.9,
          1.6,
          5.2,
          3.9,
          7.2,
          4.4,
          4.4,
          4.2,
          3.9,
          4.3,
          4.9,
          6.8,
          4.5,
          4,
          2.9,
          3.9,
          2.8,
          5.5,
          5.5,
          9.4,
          5.2,
          4.7,
          3.5,
          3.1,
          5,
          3.6,
          5.2,
          10,
          4.8,
          5.8,
          3.3,
          5.6,
          4.2,
          9.8,
          6.4,
          5.7,
          7.4,
          1.8,
          4.1,
          3.4,
          3.5,
          6.7,
          4.6,
          5.6
         ],
         "textfont": {
          "color": "white",
          "family": "helvetica",
          "size": 14
         },
         "type": "scattergeo"
        }
       ],
       "layout": {
        "coloraxis": {
         "colorbar": {
          "title": {
           "text": "alcohol"
          }
         },
         "colorscale": [
          [
           0,
           "#0d0887"
          ],
          [
           0.1111111111111111,
           "#46039f"
          ],
          [
           0.2222222222222222,
           "#7201a8"
          ],
          [
           0.3333333333333333,
           "#9c179e"
          ],
          [
           0.4444444444444444,
           "#bd3786"
          ],
          [
           0.5555555555555556,
           "#d8576b"
          ],
          [
           0.6666666666666666,
           "#ed7953"
          ],
          [
           0.7777777777777778,
           "#fb9f3a"
          ],
          [
           0.8888888888888888,
           "#fdca26"
          ],
          [
           1,
           "#f0f921"
          ]
         ]
        },
        "geo": {
         "center": {},
         "domain": {
          "x": [
           0,
           1
          ],
          "y": [
           0,
           1
          ]
         },
         "scope": "usa"
        },
        "legend": {
         "tracegroupgap": 0
        },
        "margin": {
         "t": 60
        },
        "template": {
         "data": {
          "bar": [
           {
            "error_x": {
             "color": "#2a3f5f"
            },
            "error_y": {
             "color": "#2a3f5f"
            },
            "marker": {
             "line": {
              "color": "#E5ECF6",
              "width": 0.5
             },
             "pattern": {
              "fillmode": "overlay",
              "size": 10,
              "solidity": 0.2
             }
            },
            "type": "bar"
           }
          ],
          "barpolar": [
           {
            "marker": {
             "line": {
              "color": "#E5ECF6",
              "width": 0.5
             },
             "pattern": {
              "fillmode": "overlay",
              "size": 10,
              "solidity": 0.2
             }
            },
            "type": "barpolar"
           }
          ],
          "carpet": [
           {
            "aaxis": {
             "endlinecolor": "#2a3f5f",
             "gridcolor": "white",
             "linecolor": "white",
             "minorgridcolor": "white",
             "startlinecolor": "#2a3f5f"
            },
            "baxis": {
             "endlinecolor": "#2a3f5f",
             "gridcolor": "white",
             "linecolor": "white",
             "minorgridcolor": "white",
             "startlinecolor": "#2a3f5f"
            },
            "type": "carpet"
           }
          ],
          "choropleth": [
           {
            "colorbar": {
             "outlinewidth": 0,
             "ticks": ""
            },
            "type": "choropleth"
           }
          ],
          "contour": [
           {
            "colorbar": {
             "outlinewidth": 0,
             "ticks": ""
            },
            "colorscale": [
             [
              0,
              "#0d0887"
             ],
             [
              0.1111111111111111,
              "#46039f"
             ],
             [
              0.2222222222222222,
              "#7201a8"
             ],
             [
              0.3333333333333333,
              "#9c179e"
             ],
             [
              0.4444444444444444,
              "#bd3786"
             ],
             [
              0.5555555555555556,
              "#d8576b"
             ],
             [
              0.6666666666666666,
              "#ed7953"
             ],
             [
              0.7777777777777778,
              "#fb9f3a"
             ],
             [
              0.8888888888888888,
              "#fdca26"
             ],
             [
              1,
              "#f0f921"
             ]
            ],
            "type": "contour"
           }
          ],
          "contourcarpet": [
           {
            "colorbar": {
             "outlinewidth": 0,
             "ticks": ""
            },
            "type": "contourcarpet"
           }
          ],
          "heatmap": [
           {
            "colorbar": {
             "outlinewidth": 0,
             "ticks": ""
            },
            "colorscale": [
             [
              0,
              "#0d0887"
             ],
             [
              0.1111111111111111,
              "#46039f"
             ],
             [
              0.2222222222222222,
              "#7201a8"
             ],
             [
              0.3333333333333333,
              "#9c179e"
             ],
             [
              0.4444444444444444,
              "#bd3786"
             ],
             [
              0.5555555555555556,
              "#d8576b"
             ],
             [
              0.6666666666666666,
              "#ed7953"
             ],
             [
              0.7777777777777778,
              "#fb9f3a"
             ],
             [
              0.8888888888888888,
              "#fdca26"
             ],
             [
              1,
              "#f0f921"
             ]
            ],
            "type": "heatmap"
           }
          ],
          "heatmapgl": [
           {
            "colorbar": {
             "outlinewidth": 0,
             "ticks": ""
            },
            "colorscale": [
             [
              0,
              "#0d0887"
             ],
             [
              0.1111111111111111,
              "#46039f"
             ],
             [
              0.2222222222222222,
              "#7201a8"
             ],
             [
              0.3333333333333333,
              "#9c179e"
             ],
             [
              0.4444444444444444,
              "#bd3786"
             ],
             [
              0.5555555555555556,
              "#d8576b"
             ],
             [
              0.6666666666666666,
              "#ed7953"
             ],
             [
              0.7777777777777778,
              "#fb9f3a"
             ],
             [
              0.8888888888888888,
              "#fdca26"
             ],
             [
              1,
              "#f0f921"
             ]
            ],
            "type": "heatmapgl"
           }
          ],
          "histogram": [
           {
            "marker": {
             "pattern": {
              "fillmode": "overlay",
              "size": 10,
              "solidity": 0.2
             }
            },
            "type": "histogram"
           }
          ],
          "histogram2d": [
           {
            "colorbar": {
             "outlinewidth": 0,
             "ticks": ""
            },
            "colorscale": [
             [
              0,
              "#0d0887"
             ],
             [
              0.1111111111111111,
              "#46039f"
             ],
             [
              0.2222222222222222,
              "#7201a8"
             ],
             [
              0.3333333333333333,
              "#9c179e"
             ],
             [
              0.4444444444444444,
              "#bd3786"
             ],
             [
              0.5555555555555556,
              "#d8576b"
             ],
             [
              0.6666666666666666,
              "#ed7953"
             ],
             [
              0.7777777777777778,
              "#fb9f3a"
             ],
             [
              0.8888888888888888,
              "#fdca26"
             ],
             [
              1,
              "#f0f921"
             ]
            ],
            "type": "histogram2d"
           }
          ],
          "histogram2dcontour": [
           {
            "colorbar": {
             "outlinewidth": 0,
             "ticks": ""
            },
            "colorscale": [
             [
              0,
              "#0d0887"
             ],
             [
              0.1111111111111111,
              "#46039f"
             ],
             [
              0.2222222222222222,
              "#7201a8"
             ],
             [
              0.3333333333333333,
              "#9c179e"
             ],
             [
              0.4444444444444444,
              "#bd3786"
             ],
             [
              0.5555555555555556,
              "#d8576b"
             ],
             [
              0.6666666666666666,
              "#ed7953"
             ],
             [
              0.7777777777777778,
              "#fb9f3a"
             ],
             [
              0.8888888888888888,
              "#fdca26"
             ],
             [
              1,
              "#f0f921"
             ]
            ],
            "type": "histogram2dcontour"
           }
          ],
          "mesh3d": [
           {
            "colorbar": {
             "outlinewidth": 0,
             "ticks": ""
            },
            "type": "mesh3d"
           }
          ],
          "parcoords": [
           {
            "line": {
             "colorbar": {
              "outlinewidth": 0,
              "ticks": ""
             }
            },
            "type": "parcoords"
           }
          ],
          "pie": [
           {
            "automargin": true,
            "type": "pie"
           }
          ],
          "scatter": [
           {
            "fillpattern": {
             "fillmode": "overlay",
             "size": 10,
             "solidity": 0.2
            },
            "type": "scatter"
           }
          ],
          "scatter3d": [
           {
            "line": {
             "colorbar": {
              "outlinewidth": 0,
              "ticks": ""
             }
            },
            "marker": {
             "colorbar": {
              "outlinewidth": 0,
              "ticks": ""
             }
            },
            "type": "scatter3d"
           }
          ],
          "scattercarpet": [
           {
            "marker": {
             "colorbar": {
              "outlinewidth": 0,
              "ticks": ""
             }
            },
            "type": "scattercarpet"
           }
          ],
          "scattergeo": [
           {
            "marker": {
             "colorbar": {
              "outlinewidth": 0,
              "ticks": ""
             }
            },
            "type": "scattergeo"
           }
          ],
          "scattergl": [
           {
            "marker": {
             "colorbar": {
              "outlinewidth": 0,
              "ticks": ""
             }
            },
            "type": "scattergl"
           }
          ],
          "scattermapbox": [
           {
            "marker": {
             "colorbar": {
              "outlinewidth": 0,
              "ticks": ""
             }
            },
            "type": "scattermapbox"
           }
          ],
          "scatterpolar": [
           {
            "marker": {
             "colorbar": {
              "outlinewidth": 0,
              "ticks": ""
             }
            },
            "type": "scatterpolar"
           }
          ],
          "scatterpolargl": [
           {
            "marker": {
             "colorbar": {
              "outlinewidth": 0,
              "ticks": ""
             }
            },
            "type": "scatterpolargl"
           }
          ],
          "scatterternary": [
           {
            "marker": {
             "colorbar": {
              "outlinewidth": 0,
              "ticks": ""
             }
            },
            "type": "scatterternary"
           }
          ],
          "surface": [
           {
            "colorbar": {
             "outlinewidth": 0,
             "ticks": ""
            },
            "colorscale": [
             [
              0,
              "#0d0887"
             ],
             [
              0.1111111111111111,
              "#46039f"
             ],
             [
              0.2222222222222222,
              "#7201a8"
             ],
             [
              0.3333333333333333,
              "#9c179e"
             ],
             [
              0.4444444444444444,
              "#bd3786"
             ],
             [
              0.5555555555555556,
              "#d8576b"
             ],
             [
              0.6666666666666666,
              "#ed7953"
             ],
             [
              0.7777777777777778,
              "#fb9f3a"
             ],
             [
              0.8888888888888888,
              "#fdca26"
             ],
             [
              1,
              "#f0f921"
             ]
            ],
            "type": "surface"
           }
          ],
          "table": [
           {
            "cells": {
             "fill": {
              "color": "#EBF0F8"
             },
             "line": {
              "color": "white"
             }
            },
            "header": {
             "fill": {
              "color": "#C8D4E3"
             },
             "line": {
              "color": "white"
             }
            },
            "type": "table"
           }
          ]
         },
         "layout": {
          "annotationdefaults": {
           "arrowcolor": "#2a3f5f",
           "arrowhead": 0,
           "arrowwidth": 1
          },
          "autotypenumbers": "strict",
          "coloraxis": {
           "colorbar": {
            "outlinewidth": 0,
            "ticks": ""
           }
          },
          "colorscale": {
           "diverging": [
            [
             0,
             "#8e0152"
            ],
            [
             0.1,
             "#c51b7d"
            ],
            [
             0.2,
             "#de77ae"
            ],
            [
             0.3,
             "#f1b6da"
            ],
            [
             0.4,
             "#fde0ef"
            ],
            [
             0.5,
             "#f7f7f7"
            ],
            [
             0.6,
             "#e6f5d0"
            ],
            [
             0.7,
             "#b8e186"
            ],
            [
             0.8,
             "#7fbc41"
            ],
            [
             0.9,
             "#4d9221"
            ],
            [
             1,
             "#276419"
            ]
           ],
           "sequential": [
            [
             0,
             "#0d0887"
            ],
            [
             0.1111111111111111,
             "#46039f"
            ],
            [
             0.2222222222222222,
             "#7201a8"
            ],
            [
             0.3333333333333333,
             "#9c179e"
            ],
            [
             0.4444444444444444,
             "#bd3786"
            ],
            [
             0.5555555555555556,
             "#d8576b"
            ],
            [
             0.6666666666666666,
             "#ed7953"
            ],
            [
             0.7777777777777778,
             "#fb9f3a"
            ],
            [
             0.8888888888888888,
             "#fdca26"
            ],
            [
             1,
             "#f0f921"
            ]
           ],
           "sequentialminus": [
            [
             0,
             "#0d0887"
            ],
            [
             0.1111111111111111,
             "#46039f"
            ],
            [
             0.2222222222222222,
             "#7201a8"
            ],
            [
             0.3333333333333333,
             "#9c179e"
            ],
            [
             0.4444444444444444,
             "#bd3786"
            ],
            [
             0.5555555555555556,
             "#d8576b"
            ],
            [
             0.6666666666666666,
             "#ed7953"
            ],
            [
             0.7777777777777778,
             "#fb9f3a"
            ],
            [
             0.8888888888888888,
             "#fdca26"
            ],
            [
             1,
             "#f0f921"
            ]
           ]
          },
          "colorway": [
           "#636efa",
           "#EF553B",
           "#00cc96",
           "#ab63fa",
           "#FFA15A",
           "#19d3f3",
           "#FF6692",
           "#B6E880",
           "#FF97FF",
           "#FECB52"
          ],
          "font": {
           "color": "#2a3f5f"
          },
          "geo": {
           "bgcolor": "white",
           "lakecolor": "white",
           "landcolor": "#E5ECF6",
           "showlakes": true,
           "showland": true,
           "subunitcolor": "white"
          },
          "hoverlabel": {
           "align": "left"
          },
          "hovermode": "closest",
          "mapbox": {
           "style": "light"
          },
          "paper_bgcolor": "white",
          "plot_bgcolor": "#E5ECF6",
          "polar": {
           "angularaxis": {
            "gridcolor": "white",
            "linecolor": "white",
            "ticks": ""
           },
           "bgcolor": "#E5ECF6",
           "radialaxis": {
            "gridcolor": "white",
            "linecolor": "white",
            "ticks": ""
           }
          },
          "scene": {
           "xaxis": {
            "backgroundcolor": "#E5ECF6",
            "gridcolor": "white",
            "gridwidth": 2,
            "linecolor": "white",
            "showbackground": true,
            "ticks": "",
            "zerolinecolor": "white"
           },
           "yaxis": {
            "backgroundcolor": "#E5ECF6",
            "gridcolor": "white",
            "gridwidth": 2,
            "linecolor": "white",
            "showbackground": true,
            "ticks": "",
            "zerolinecolor": "white"
           },
           "zaxis": {
            "backgroundcolor": "#E5ECF6",
            "gridcolor": "white",
            "gridwidth": 2,
            "linecolor": "white",
            "showbackground": true,
            "ticks": "",
            "zerolinecolor": "white"
           }
          },
          "shapedefaults": {
           "line": {
            "color": "#2a3f5f"
           }
          },
          "ternary": {
           "aaxis": {
            "gridcolor": "white",
            "linecolor": "white",
            "ticks": ""
           },
           "baxis": {
            "gridcolor": "white",
            "linecolor": "white",
            "ticks": ""
           },
           "bgcolor": "#E5ECF6",
           "caxis": {
            "gridcolor": "white",
            "linecolor": "white",
            "ticks": ""
           }
          },
          "title": {
           "x": 0.05
          },
          "xaxis": {
           "automargin": true,
           "gridcolor": "white",
           "linecolor": "white",
           "ticks": "",
           "title": {
            "standoff": 15
           },
           "zerolinecolor": "white",
           "zerolinewidth": 2
          },
          "yaxis": {
           "automargin": true,
           "gridcolor": "white",
           "linecolor": "white",
           "ticks": "",
           "title": {
            "standoff": 15
           },
           "zerolinecolor": "white",
           "zerolinewidth": 2
          }
         }
        }
       }
      },
      "text/html": [
       "<div>                            <div id=\"e8f37c7e-8eb1-4b09-88a0-fe3e3f4392ce\" class=\"plotly-graph-div\" style=\"height:525px; width:100%;\"></div>            <script type=\"text/javascript\">                require([\"plotly\"], function(Plotly) {                    window.PLOTLYENV=window.PLOTLYENV || {};                                    if (document.getElementById(\"e8f37c7e-8eb1-4b09-88a0-fe3e3f4392ce\")) {                    Plotly.newPlot(                        \"e8f37c7e-8eb1-4b09-88a0-fe3e3f4392ce\",                        [{\"coloraxis\":\"coloraxis\",\"geo\":\"geo\",\"hovertemplate\":\"STATE_CODE=%{location}<br>alcohol=%{z}<extra></extra>\",\"locationmode\":\"USA-states\",\"locations\":[\"AL\",\"AK\",\"AZ\",\"AR\",\"CA\",\"CO\",\"CT\",\"DE\",\"DC\",\"FL\",\"GA\",\"HI\",\"ID\",\"IL\",\"IN\",\"IA\",\"KS\",\"KY\",\"LA\",\"ME\",\"MD\",\"MA\",\"MI\",\"MN\",\"MS\",\"MO\",\"MT\",\"NE\",\"NV\",\"NH\",\"NJ\",\"NM\",\"NY\",\"NC\",\"ND\",\"OH\",\"OK\",\"OR\",\"PA\",\"RI\",\"SC\",\"SD\",\"TN\",\"TX\",\"UT\",\"VT\",\"VA\",\"WA\",\"WV\",\"WI\",\"WY\"],\"name\":\"\",\"z\":[5.64,4.525,5.208000000000001,5.824,3.36,3.808,3.888,4.86,1.5930000000000002,5.190999999999999,3.9,7.175,4.437,4.352,4.205,3.925,4.272,4.922,6.765,4.53,4.0,2.87,3.948,2.784,5.456,5.474000000000001,9.416,5.215,4.704,3.48,3.136,4.968,3.5670000000000006,5.208000000000001,10.038,4.794,5.770999999999999,3.3280000000000003,5.642,4.218,9.799,6.401999999999999,5.655,7.371999999999999,1.808,4.08,3.429,3.498,6.664,4.554,5.568],\"type\":\"choropleth\"},{\"locationmode\":\"USA-states\",\"locations\":[\"AL\",\"AK\",\"AZ\",\"AR\",\"CA\",\"CO\",\"CT\",\"DE\",\"DC\",\"FL\",\"GA\",\"HI\",\"ID\",\"IL\",\"IN\",\"IA\",\"KS\",\"KY\",\"LA\",\"ME\",\"MD\",\"MA\",\"MI\",\"MN\",\"MS\",\"MO\",\"MT\",\"NE\",\"NV\",\"NH\",\"NJ\",\"NM\",\"NY\",\"NC\",\"ND\",\"OH\",\"OK\",\"OR\",\"PA\",\"RI\",\"SC\",\"SD\",\"TN\",\"TX\",\"UT\",\"VT\",\"VA\",\"WA\",\"WV\",\"WI\",\"WY\"],\"mode\":\"text\",\"text\":[5.6,4.5,5.2,5.8,3.4,3.8,3.9,4.9,1.6,5.2,3.9,7.2,4.4,4.4,4.2,3.9,4.3,4.9,6.8,4.5,4.0,2.9,3.9,2.8,5.5,5.5,9.4,5.2,4.7,3.5,3.1,5.0,3.6,5.2,10.0,4.8,5.8,3.3,5.6,4.2,9.8,6.4,5.7,7.4,1.8,4.1,3.4,3.5,6.7,4.6,5.6],\"textfont\":{\"color\":\"white\",\"family\":\"helvetica\",\"size\":14},\"type\":\"scattergeo\"}],                        {\"template\":{\"data\":{\"histogram2dcontour\":[{\"type\":\"histogram2dcontour\",\"colorbar\":{\"outlinewidth\":0,\"ticks\":\"\"},\"colorscale\":[[0.0,\"#0d0887\"],[0.1111111111111111,\"#46039f\"],[0.2222222222222222,\"#7201a8\"],[0.3333333333333333,\"#9c179e\"],[0.4444444444444444,\"#bd3786\"],[0.5555555555555556,\"#d8576b\"],[0.6666666666666666,\"#ed7953\"],[0.7777777777777778,\"#fb9f3a\"],[0.8888888888888888,\"#fdca26\"],[1.0,\"#f0f921\"]]}],\"choropleth\":[{\"type\":\"choropleth\",\"colorbar\":{\"outlinewidth\":0,\"ticks\":\"\"}}],\"histogram2d\":[{\"type\":\"histogram2d\",\"colorbar\":{\"outlinewidth\":0,\"ticks\":\"\"},\"colorscale\":[[0.0,\"#0d0887\"],[0.1111111111111111,\"#46039f\"],[0.2222222222222222,\"#7201a8\"],[0.3333333333333333,\"#9c179e\"],[0.4444444444444444,\"#bd3786\"],[0.5555555555555556,\"#d8576b\"],[0.6666666666666666,\"#ed7953\"],[0.7777777777777778,\"#fb9f3a\"],[0.8888888888888888,\"#fdca26\"],[1.0,\"#f0f921\"]]}],\"heatmap\":[{\"type\":\"heatmap\",\"colorbar\":{\"outlinewidth\":0,\"ticks\":\"\"},\"colorscale\":[[0.0,\"#0d0887\"],[0.1111111111111111,\"#46039f\"],[0.2222222222222222,\"#7201a8\"],[0.3333333333333333,\"#9c179e\"],[0.4444444444444444,\"#bd3786\"],[0.5555555555555556,\"#d8576b\"],[0.6666666666666666,\"#ed7953\"],[0.7777777777777778,\"#fb9f3a\"],[0.8888888888888888,\"#fdca26\"],[1.0,\"#f0f921\"]]}],\"heatmapgl\":[{\"type\":\"heatmapgl\",\"colorbar\":{\"outlinewidth\":0,\"ticks\":\"\"},\"colorscale\":[[0.0,\"#0d0887\"],[0.1111111111111111,\"#46039f\"],[0.2222222222222222,\"#7201a8\"],[0.3333333333333333,\"#9c179e\"],[0.4444444444444444,\"#bd3786\"],[0.5555555555555556,\"#d8576b\"],[0.6666666666666666,\"#ed7953\"],[0.7777777777777778,\"#fb9f3a\"],[0.8888888888888888,\"#fdca26\"],[1.0,\"#f0f921\"]]}],\"contourcarpet\":[{\"type\":\"contourcarpet\",\"colorbar\":{\"outlinewidth\":0,\"ticks\":\"\"}}],\"contour\":[{\"type\":\"contour\",\"colorbar\":{\"outlinewidth\":0,\"ticks\":\"\"},\"colorscale\":[[0.0,\"#0d0887\"],[0.1111111111111111,\"#46039f\"],[0.2222222222222222,\"#7201a8\"],[0.3333333333333333,\"#9c179e\"],[0.4444444444444444,\"#bd3786\"],[0.5555555555555556,\"#d8576b\"],[0.6666666666666666,\"#ed7953\"],[0.7777777777777778,\"#fb9f3a\"],[0.8888888888888888,\"#fdca26\"],[1.0,\"#f0f921\"]]}],\"surface\":[{\"type\":\"surface\",\"colorbar\":{\"outlinewidth\":0,\"ticks\":\"\"},\"colorscale\":[[0.0,\"#0d0887\"],[0.1111111111111111,\"#46039f\"],[0.2222222222222222,\"#7201a8\"],[0.3333333333333333,\"#9c179e\"],[0.4444444444444444,\"#bd3786\"],[0.5555555555555556,\"#d8576b\"],[0.6666666666666666,\"#ed7953\"],[0.7777777777777778,\"#fb9f3a\"],[0.8888888888888888,\"#fdca26\"],[1.0,\"#f0f921\"]]}],\"mesh3d\":[{\"type\":\"mesh3d\",\"colorbar\":{\"outlinewidth\":0,\"ticks\":\"\"}}],\"scatter\":[{\"fillpattern\":{\"fillmode\":\"overlay\",\"size\":10,\"solidity\":0.2},\"type\":\"scatter\"}],\"parcoords\":[{\"type\":\"parcoords\",\"line\":{\"colorbar\":{\"outlinewidth\":0,\"ticks\":\"\"}}}],\"scatterpolargl\":[{\"type\":\"scatterpolargl\",\"marker\":{\"colorbar\":{\"outlinewidth\":0,\"ticks\":\"\"}}}],\"bar\":[{\"error_x\":{\"color\":\"#2a3f5f\"},\"error_y\":{\"color\":\"#2a3f5f\"},\"marker\":{\"line\":{\"color\":\"#E5ECF6\",\"width\":0.5},\"pattern\":{\"fillmode\":\"overlay\",\"size\":10,\"solidity\":0.2}},\"type\":\"bar\"}],\"scattergeo\":[{\"type\":\"scattergeo\",\"marker\":{\"colorbar\":{\"outlinewidth\":0,\"ticks\":\"\"}}}],\"scatterpolar\":[{\"type\":\"scatterpolar\",\"marker\":{\"colorbar\":{\"outlinewidth\":0,\"ticks\":\"\"}}}],\"histogram\":[{\"marker\":{\"pattern\":{\"fillmode\":\"overlay\",\"size\":10,\"solidity\":0.2}},\"type\":\"histogram\"}],\"scattergl\":[{\"type\":\"scattergl\",\"marker\":{\"colorbar\":{\"outlinewidth\":0,\"ticks\":\"\"}}}],\"scatter3d\":[{\"type\":\"scatter3d\",\"line\":{\"colorbar\":{\"outlinewidth\":0,\"ticks\":\"\"}},\"marker\":{\"colorbar\":{\"outlinewidth\":0,\"ticks\":\"\"}}}],\"scattermapbox\":[{\"type\":\"scattermapbox\",\"marker\":{\"colorbar\":{\"outlinewidth\":0,\"ticks\":\"\"}}}],\"scatterternary\":[{\"type\":\"scatterternary\",\"marker\":{\"colorbar\":{\"outlinewidth\":0,\"ticks\":\"\"}}}],\"scattercarpet\":[{\"type\":\"scattercarpet\",\"marker\":{\"colorbar\":{\"outlinewidth\":0,\"ticks\":\"\"}}}],\"carpet\":[{\"aaxis\":{\"endlinecolor\":\"#2a3f5f\",\"gridcolor\":\"white\",\"linecolor\":\"white\",\"minorgridcolor\":\"white\",\"startlinecolor\":\"#2a3f5f\"},\"baxis\":{\"endlinecolor\":\"#2a3f5f\",\"gridcolor\":\"white\",\"linecolor\":\"white\",\"minorgridcolor\":\"white\",\"startlinecolor\":\"#2a3f5f\"},\"type\":\"carpet\"}],\"table\":[{\"cells\":{\"fill\":{\"color\":\"#EBF0F8\"},\"line\":{\"color\":\"white\"}},\"header\":{\"fill\":{\"color\":\"#C8D4E3\"},\"line\":{\"color\":\"white\"}},\"type\":\"table\"}],\"barpolar\":[{\"marker\":{\"line\":{\"color\":\"#E5ECF6\",\"width\":0.5},\"pattern\":{\"fillmode\":\"overlay\",\"size\":10,\"solidity\":0.2}},\"type\":\"barpolar\"}],\"pie\":[{\"automargin\":true,\"type\":\"pie\"}]},\"layout\":{\"autotypenumbers\":\"strict\",\"colorway\":[\"#636efa\",\"#EF553B\",\"#00cc96\",\"#ab63fa\",\"#FFA15A\",\"#19d3f3\",\"#FF6692\",\"#B6E880\",\"#FF97FF\",\"#FECB52\"],\"font\":{\"color\":\"#2a3f5f\"},\"hovermode\":\"closest\",\"hoverlabel\":{\"align\":\"left\"},\"paper_bgcolor\":\"white\",\"plot_bgcolor\":\"#E5ECF6\",\"polar\":{\"bgcolor\":\"#E5ECF6\",\"angularaxis\":{\"gridcolor\":\"white\",\"linecolor\":\"white\",\"ticks\":\"\"},\"radialaxis\":{\"gridcolor\":\"white\",\"linecolor\":\"white\",\"ticks\":\"\"}},\"ternary\":{\"bgcolor\":\"#E5ECF6\",\"aaxis\":{\"gridcolor\":\"white\",\"linecolor\":\"white\",\"ticks\":\"\"},\"baxis\":{\"gridcolor\":\"white\",\"linecolor\":\"white\",\"ticks\":\"\"},\"caxis\":{\"gridcolor\":\"white\",\"linecolor\":\"white\",\"ticks\":\"\"}},\"coloraxis\":{\"colorbar\":{\"outlinewidth\":0,\"ticks\":\"\"}},\"colorscale\":{\"sequential\":[[0.0,\"#0d0887\"],[0.1111111111111111,\"#46039f\"],[0.2222222222222222,\"#7201a8\"],[0.3333333333333333,\"#9c179e\"],[0.4444444444444444,\"#bd3786\"],[0.5555555555555556,\"#d8576b\"],[0.6666666666666666,\"#ed7953\"],[0.7777777777777778,\"#fb9f3a\"],[0.8888888888888888,\"#fdca26\"],[1.0,\"#f0f921\"]],\"sequentialminus\":[[0.0,\"#0d0887\"],[0.1111111111111111,\"#46039f\"],[0.2222222222222222,\"#7201a8\"],[0.3333333333333333,\"#9c179e\"],[0.4444444444444444,\"#bd3786\"],[0.5555555555555556,\"#d8576b\"],[0.6666666666666666,\"#ed7953\"],[0.7777777777777778,\"#fb9f3a\"],[0.8888888888888888,\"#fdca26\"],[1.0,\"#f0f921\"]],\"diverging\":[[0,\"#8e0152\"],[0.1,\"#c51b7d\"],[0.2,\"#de77ae\"],[0.3,\"#f1b6da\"],[0.4,\"#fde0ef\"],[0.5,\"#f7f7f7\"],[0.6,\"#e6f5d0\"],[0.7,\"#b8e186\"],[0.8,\"#7fbc41\"],[0.9,\"#4d9221\"],[1,\"#276419\"]]},\"xaxis\":{\"gridcolor\":\"white\",\"linecolor\":\"white\",\"ticks\":\"\",\"title\":{\"standoff\":15},\"zerolinecolor\":\"white\",\"automargin\":true,\"zerolinewidth\":2},\"yaxis\":{\"gridcolor\":\"white\",\"linecolor\":\"white\",\"ticks\":\"\",\"title\":{\"standoff\":15},\"zerolinecolor\":\"white\",\"automargin\":true,\"zerolinewidth\":2},\"scene\":{\"xaxis\":{\"backgroundcolor\":\"#E5ECF6\",\"gridcolor\":\"white\",\"linecolor\":\"white\",\"showbackground\":true,\"ticks\":\"\",\"zerolinecolor\":\"white\",\"gridwidth\":2},\"yaxis\":{\"backgroundcolor\":\"#E5ECF6\",\"gridcolor\":\"white\",\"linecolor\":\"white\",\"showbackground\":true,\"ticks\":\"\",\"zerolinecolor\":\"white\",\"gridwidth\":2},\"zaxis\":{\"backgroundcolor\":\"#E5ECF6\",\"gridcolor\":\"white\",\"linecolor\":\"white\",\"showbackground\":true,\"ticks\":\"\",\"zerolinecolor\":\"white\",\"gridwidth\":2}},\"shapedefaults\":{\"line\":{\"color\":\"#2a3f5f\"}},\"annotationdefaults\":{\"arrowcolor\":\"#2a3f5f\",\"arrowhead\":0,\"arrowwidth\":1},\"geo\":{\"bgcolor\":\"white\",\"landcolor\":\"#E5ECF6\",\"subunitcolor\":\"white\",\"showland\":true,\"showlakes\":true,\"lakecolor\":\"white\"},\"title\":{\"x\":0.05},\"mapbox\":{\"style\":\"light\"}}},\"geo\":{\"domain\":{\"x\":[0.0,1.0],\"y\":[0.0,1.0]},\"center\":{},\"scope\":\"usa\"},\"coloraxis\":{\"colorbar\":{\"title\":{\"text\":\"alcohol\"}},\"colorscale\":[[0.0,\"#0d0887\"],[0.1111111111111111,\"#46039f\"],[0.2222222222222222,\"#7201a8\"],[0.3333333333333333,\"#9c179e\"],[0.4444444444444444,\"#bd3786\"],[0.5555555555555556,\"#d8576b\"],[0.6666666666666666,\"#ed7953\"],[0.7777777777777778,\"#fb9f3a\"],[0.8888888888888888,\"#fdca26\"],[1.0,\"#f0f921\"]]},\"legend\":{\"tracegroupgap\":0},\"margin\":{\"t\":60}},                        {\"responsive\": true}                    ).then(function(){\n",
       "                            \n",
       "var gd = document.getElementById('e8f37c7e-8eb1-4b09-88a0-fe3e3f4392ce');\n",
       "var x = new MutationObserver(function (mutations, observer) {{\n",
       "        var display = window.getComputedStyle(gd).display;\n",
       "        if (!display || display === 'none') {{\n",
       "            console.log([gd, 'removed!']);\n",
       "            Plotly.purge(gd);\n",
       "            observer.disconnect();\n",
       "        }}\n",
       "}});\n",
       "\n",
       "// Listen for the removal of the full notebook cells\n",
       "var notebookContainer = gd.closest('#notebook-container');\n",
       "if (notebookContainer) {{\n",
       "    x.observe(notebookContainer, {childList: true});\n",
       "}}\n",
       "\n",
       "// Listen for the clearing of the current output cell\n",
       "var outputEl = gd.closest('.output');\n",
       "if (outputEl) {{\n",
       "    x.observe(outputEl, {childList: true});\n",
       "}}\n",
       "\n",
       "                        })                };                });            </script>        </div>"
      ]
     },
     "metadata": {},
     "output_type": "display_data"
    }
   ],
   "source": [
    "fig_alc = px.choropleth(auto_crashes_upd,\n",
    "                    locations='STATE_CODE',\n",
    "                    locationmode=\"USA-states\",\n",
    "                    scope=\"usa\",\n",
    "                    color='alcohol',\n",
    "                    \n",
    "                   )\n",
    "fig_alc.add_scattergeo(\n",
    "    locations=auto_crashes_upd['STATE_CODE'],\n",
    "    locationmode=\"USA-states\",\n",
    "    text = round(auto_crashes_upd['alcohol'],1),\n",
    "    mode = 'text',\n",
    "    textfont=dict(\n",
    "            family=\"helvetica\",\n",
    "            size=14,\n",
    "            color=\"white\"))\n",
    "\n",
    "fig_alc.show()"
   ]
  },
  {
   "cell_type": "code",
   "execution_count": 215,
   "id": "cf9a35d6",
   "metadata": {},
   "outputs": [
    {
     "data": {
      "application/vnd.plotly.v1+json": {
       "config": {
        "plotlyServerURL": "https://plot.ly"
       },
       "data": [
        {
         "coloraxis": "coloraxis",
         "geo": "geo",
         "hovertemplate": "STATE_CODE=%{location}<br>speeding=%{z}<extra></extra>",
         "locationmode": "USA-states",
         "locations": [
          "AL",
          "AK",
          "AZ",
          "AR",
          "CA",
          "CO",
          "CT",
          "DE",
          "DC",
          "FL",
          "GA",
          "HI",
          "ID",
          "IL",
          "IN",
          "IA",
          "KS",
          "KY",
          "LA",
          "ME",
          "MD",
          "MA",
          "MI",
          "MN",
          "MS",
          "MO",
          "MT",
          "NE",
          "NV",
          "NH",
          "NJ",
          "NM",
          "NY",
          "NC",
          "ND",
          "OH",
          "OK",
          "OR",
          "PA",
          "RI",
          "SC",
          "SD",
          "TN",
          "TX",
          "UT",
          "VT",
          "VA",
          "WA",
          "WV",
          "WI",
          "WY"
         ],
         "name": "",
         "type": "choropleth",
         "z": [
          7.332000000000001,
          7.421,
          6.51,
          4.032,
          4.2,
          5.032,
          4.968,
          6.156000000000001,
          2.006,
          3.759,
          2.964,
          9.45,
          5.508000000000001,
          4.6080000000000005,
          3.625,
          2.669,
          4.806,
          4.066,
          7.175,
          5.738,
          4.25,
          1.886,
          3.384,
          2.208,
          2.64,
          6.923000000000001,
          8.345999999999998,
          1.9370000000000005,
          5.439,
          4.06,
          1.7919999999999998,
          3.496,
          3.936,
          6.5520000000000005,
          5.496999999999999,
          3.948,
          6.367999999999999,
          4.224,
          9.1,
          3.774,
          9.082,
          6.013999999999999,
          4.095,
          7.76,
          4.859,
          4.08,
          2.413,
          4.452,
          8.092,
          4.968,
          7.308
         ]
        },
        {
         "locationmode": "USA-states",
         "locations": [
          "AL",
          "AK",
          "AZ",
          "AR",
          "CA",
          "CO",
          "CT",
          "DE",
          "DC",
          "FL",
          "GA",
          "HI",
          "ID",
          "IL",
          "IN",
          "IA",
          "KS",
          "KY",
          "LA",
          "ME",
          "MD",
          "MA",
          "MI",
          "MN",
          "MS",
          "MO",
          "MT",
          "NE",
          "NV",
          "NH",
          "NJ",
          "NM",
          "NY",
          "NC",
          "ND",
          "OH",
          "OK",
          "OR",
          "PA",
          "RI",
          "SC",
          "SD",
          "TN",
          "TX",
          "UT",
          "VT",
          "VA",
          "WA",
          "WV",
          "WI",
          "WY"
         ],
         "mode": "text",
         "text": [
          7.3,
          7.4,
          6.5,
          4,
          4.2,
          5,
          5,
          6.2,
          2,
          3.8,
          3,
          9.4,
          5.5,
          4.6,
          3.6,
          2.7,
          4.8,
          4.1,
          7.2,
          5.7,
          4.2,
          1.9,
          3.4,
          2.2,
          2.6,
          6.9,
          8.3,
          1.9,
          5.4,
          4.1,
          1.8,
          3.5,
          3.9,
          6.6,
          5.5,
          3.9,
          6.4,
          4.2,
          9.1,
          3.8,
          9.1,
          6,
          4.1,
          7.8,
          4.9,
          4.1,
          2.4,
          4.5,
          8.1,
          5,
          7.3
         ],
         "textfont": {
          "color": "white",
          "family": "helvetica",
          "size": 14
         },
         "type": "scattergeo"
        }
       ],
       "layout": {
        "coloraxis": {
         "colorbar": {
          "title": {
           "text": "speeding"
          }
         },
         "colorscale": [
          [
           0,
           "#0d0887"
          ],
          [
           0.1111111111111111,
           "#46039f"
          ],
          [
           0.2222222222222222,
           "#7201a8"
          ],
          [
           0.3333333333333333,
           "#9c179e"
          ],
          [
           0.4444444444444444,
           "#bd3786"
          ],
          [
           0.5555555555555556,
           "#d8576b"
          ],
          [
           0.6666666666666666,
           "#ed7953"
          ],
          [
           0.7777777777777778,
           "#fb9f3a"
          ],
          [
           0.8888888888888888,
           "#fdca26"
          ],
          [
           1,
           "#f0f921"
          ]
         ]
        },
        "geo": {
         "center": {},
         "domain": {
          "x": [
           0,
           1
          ],
          "y": [
           0,
           1
          ]
         },
         "scope": "usa"
        },
        "legend": {
         "tracegroupgap": 0
        },
        "margin": {
         "t": 60
        },
        "template": {
         "data": {
          "bar": [
           {
            "error_x": {
             "color": "#2a3f5f"
            },
            "error_y": {
             "color": "#2a3f5f"
            },
            "marker": {
             "line": {
              "color": "#E5ECF6",
              "width": 0.5
             },
             "pattern": {
              "fillmode": "overlay",
              "size": 10,
              "solidity": 0.2
             }
            },
            "type": "bar"
           }
          ],
          "barpolar": [
           {
            "marker": {
             "line": {
              "color": "#E5ECF6",
              "width": 0.5
             },
             "pattern": {
              "fillmode": "overlay",
              "size": 10,
              "solidity": 0.2
             }
            },
            "type": "barpolar"
           }
          ],
          "carpet": [
           {
            "aaxis": {
             "endlinecolor": "#2a3f5f",
             "gridcolor": "white",
             "linecolor": "white",
             "minorgridcolor": "white",
             "startlinecolor": "#2a3f5f"
            },
            "baxis": {
             "endlinecolor": "#2a3f5f",
             "gridcolor": "white",
             "linecolor": "white",
             "minorgridcolor": "white",
             "startlinecolor": "#2a3f5f"
            },
            "type": "carpet"
           }
          ],
          "choropleth": [
           {
            "colorbar": {
             "outlinewidth": 0,
             "ticks": ""
            },
            "type": "choropleth"
           }
          ],
          "contour": [
           {
            "colorbar": {
             "outlinewidth": 0,
             "ticks": ""
            },
            "colorscale": [
             [
              0,
              "#0d0887"
             ],
             [
              0.1111111111111111,
              "#46039f"
             ],
             [
              0.2222222222222222,
              "#7201a8"
             ],
             [
              0.3333333333333333,
              "#9c179e"
             ],
             [
              0.4444444444444444,
              "#bd3786"
             ],
             [
              0.5555555555555556,
              "#d8576b"
             ],
             [
              0.6666666666666666,
              "#ed7953"
             ],
             [
              0.7777777777777778,
              "#fb9f3a"
             ],
             [
              0.8888888888888888,
              "#fdca26"
             ],
             [
              1,
              "#f0f921"
             ]
            ],
            "type": "contour"
           }
          ],
          "contourcarpet": [
           {
            "colorbar": {
             "outlinewidth": 0,
             "ticks": ""
            },
            "type": "contourcarpet"
           }
          ],
          "heatmap": [
           {
            "colorbar": {
             "outlinewidth": 0,
             "ticks": ""
            },
            "colorscale": [
             [
              0,
              "#0d0887"
             ],
             [
              0.1111111111111111,
              "#46039f"
             ],
             [
              0.2222222222222222,
              "#7201a8"
             ],
             [
              0.3333333333333333,
              "#9c179e"
             ],
             [
              0.4444444444444444,
              "#bd3786"
             ],
             [
              0.5555555555555556,
              "#d8576b"
             ],
             [
              0.6666666666666666,
              "#ed7953"
             ],
             [
              0.7777777777777778,
              "#fb9f3a"
             ],
             [
              0.8888888888888888,
              "#fdca26"
             ],
             [
              1,
              "#f0f921"
             ]
            ],
            "type": "heatmap"
           }
          ],
          "heatmapgl": [
           {
            "colorbar": {
             "outlinewidth": 0,
             "ticks": ""
            },
            "colorscale": [
             [
              0,
              "#0d0887"
             ],
             [
              0.1111111111111111,
              "#46039f"
             ],
             [
              0.2222222222222222,
              "#7201a8"
             ],
             [
              0.3333333333333333,
              "#9c179e"
             ],
             [
              0.4444444444444444,
              "#bd3786"
             ],
             [
              0.5555555555555556,
              "#d8576b"
             ],
             [
              0.6666666666666666,
              "#ed7953"
             ],
             [
              0.7777777777777778,
              "#fb9f3a"
             ],
             [
              0.8888888888888888,
              "#fdca26"
             ],
             [
              1,
              "#f0f921"
             ]
            ],
            "type": "heatmapgl"
           }
          ],
          "histogram": [
           {
            "marker": {
             "pattern": {
              "fillmode": "overlay",
              "size": 10,
              "solidity": 0.2
             }
            },
            "type": "histogram"
           }
          ],
          "histogram2d": [
           {
            "colorbar": {
             "outlinewidth": 0,
             "ticks": ""
            },
            "colorscale": [
             [
              0,
              "#0d0887"
             ],
             [
              0.1111111111111111,
              "#46039f"
             ],
             [
              0.2222222222222222,
              "#7201a8"
             ],
             [
              0.3333333333333333,
              "#9c179e"
             ],
             [
              0.4444444444444444,
              "#bd3786"
             ],
             [
              0.5555555555555556,
              "#d8576b"
             ],
             [
              0.6666666666666666,
              "#ed7953"
             ],
             [
              0.7777777777777778,
              "#fb9f3a"
             ],
             [
              0.8888888888888888,
              "#fdca26"
             ],
             [
              1,
              "#f0f921"
             ]
            ],
            "type": "histogram2d"
           }
          ],
          "histogram2dcontour": [
           {
            "colorbar": {
             "outlinewidth": 0,
             "ticks": ""
            },
            "colorscale": [
             [
              0,
              "#0d0887"
             ],
             [
              0.1111111111111111,
              "#46039f"
             ],
             [
              0.2222222222222222,
              "#7201a8"
             ],
             [
              0.3333333333333333,
              "#9c179e"
             ],
             [
              0.4444444444444444,
              "#bd3786"
             ],
             [
              0.5555555555555556,
              "#d8576b"
             ],
             [
              0.6666666666666666,
              "#ed7953"
             ],
             [
              0.7777777777777778,
              "#fb9f3a"
             ],
             [
              0.8888888888888888,
              "#fdca26"
             ],
             [
              1,
              "#f0f921"
             ]
            ],
            "type": "histogram2dcontour"
           }
          ],
          "mesh3d": [
           {
            "colorbar": {
             "outlinewidth": 0,
             "ticks": ""
            },
            "type": "mesh3d"
           }
          ],
          "parcoords": [
           {
            "line": {
             "colorbar": {
              "outlinewidth": 0,
              "ticks": ""
             }
            },
            "type": "parcoords"
           }
          ],
          "pie": [
           {
            "automargin": true,
            "type": "pie"
           }
          ],
          "scatter": [
           {
            "fillpattern": {
             "fillmode": "overlay",
             "size": 10,
             "solidity": 0.2
            },
            "type": "scatter"
           }
          ],
          "scatter3d": [
           {
            "line": {
             "colorbar": {
              "outlinewidth": 0,
              "ticks": ""
             }
            },
            "marker": {
             "colorbar": {
              "outlinewidth": 0,
              "ticks": ""
             }
            },
            "type": "scatter3d"
           }
          ],
          "scattercarpet": [
           {
            "marker": {
             "colorbar": {
              "outlinewidth": 0,
              "ticks": ""
             }
            },
            "type": "scattercarpet"
           }
          ],
          "scattergeo": [
           {
            "marker": {
             "colorbar": {
              "outlinewidth": 0,
              "ticks": ""
             }
            },
            "type": "scattergeo"
           }
          ],
          "scattergl": [
           {
            "marker": {
             "colorbar": {
              "outlinewidth": 0,
              "ticks": ""
             }
            },
            "type": "scattergl"
           }
          ],
          "scattermapbox": [
           {
            "marker": {
             "colorbar": {
              "outlinewidth": 0,
              "ticks": ""
             }
            },
            "type": "scattermapbox"
           }
          ],
          "scatterpolar": [
           {
            "marker": {
             "colorbar": {
              "outlinewidth": 0,
              "ticks": ""
             }
            },
            "type": "scatterpolar"
           }
          ],
          "scatterpolargl": [
           {
            "marker": {
             "colorbar": {
              "outlinewidth": 0,
              "ticks": ""
             }
            },
            "type": "scatterpolargl"
           }
          ],
          "scatterternary": [
           {
            "marker": {
             "colorbar": {
              "outlinewidth": 0,
              "ticks": ""
             }
            },
            "type": "scatterternary"
           }
          ],
          "surface": [
           {
            "colorbar": {
             "outlinewidth": 0,
             "ticks": ""
            },
            "colorscale": [
             [
              0,
              "#0d0887"
             ],
             [
              0.1111111111111111,
              "#46039f"
             ],
             [
              0.2222222222222222,
              "#7201a8"
             ],
             [
              0.3333333333333333,
              "#9c179e"
             ],
             [
              0.4444444444444444,
              "#bd3786"
             ],
             [
              0.5555555555555556,
              "#d8576b"
             ],
             [
              0.6666666666666666,
              "#ed7953"
             ],
             [
              0.7777777777777778,
              "#fb9f3a"
             ],
             [
              0.8888888888888888,
              "#fdca26"
             ],
             [
              1,
              "#f0f921"
             ]
            ],
            "type": "surface"
           }
          ],
          "table": [
           {
            "cells": {
             "fill": {
              "color": "#EBF0F8"
             },
             "line": {
              "color": "white"
             }
            },
            "header": {
             "fill": {
              "color": "#C8D4E3"
             },
             "line": {
              "color": "white"
             }
            },
            "type": "table"
           }
          ]
         },
         "layout": {
          "annotationdefaults": {
           "arrowcolor": "#2a3f5f",
           "arrowhead": 0,
           "arrowwidth": 1
          },
          "autotypenumbers": "strict",
          "coloraxis": {
           "colorbar": {
            "outlinewidth": 0,
            "ticks": ""
           }
          },
          "colorscale": {
           "diverging": [
            [
             0,
             "#8e0152"
            ],
            [
             0.1,
             "#c51b7d"
            ],
            [
             0.2,
             "#de77ae"
            ],
            [
             0.3,
             "#f1b6da"
            ],
            [
             0.4,
             "#fde0ef"
            ],
            [
             0.5,
             "#f7f7f7"
            ],
            [
             0.6,
             "#e6f5d0"
            ],
            [
             0.7,
             "#b8e186"
            ],
            [
             0.8,
             "#7fbc41"
            ],
            [
             0.9,
             "#4d9221"
            ],
            [
             1,
             "#276419"
            ]
           ],
           "sequential": [
            [
             0,
             "#0d0887"
            ],
            [
             0.1111111111111111,
             "#46039f"
            ],
            [
             0.2222222222222222,
             "#7201a8"
            ],
            [
             0.3333333333333333,
             "#9c179e"
            ],
            [
             0.4444444444444444,
             "#bd3786"
            ],
            [
             0.5555555555555556,
             "#d8576b"
            ],
            [
             0.6666666666666666,
             "#ed7953"
            ],
            [
             0.7777777777777778,
             "#fb9f3a"
            ],
            [
             0.8888888888888888,
             "#fdca26"
            ],
            [
             1,
             "#f0f921"
            ]
           ],
           "sequentialminus": [
            [
             0,
             "#0d0887"
            ],
            [
             0.1111111111111111,
             "#46039f"
            ],
            [
             0.2222222222222222,
             "#7201a8"
            ],
            [
             0.3333333333333333,
             "#9c179e"
            ],
            [
             0.4444444444444444,
             "#bd3786"
            ],
            [
             0.5555555555555556,
             "#d8576b"
            ],
            [
             0.6666666666666666,
             "#ed7953"
            ],
            [
             0.7777777777777778,
             "#fb9f3a"
            ],
            [
             0.8888888888888888,
             "#fdca26"
            ],
            [
             1,
             "#f0f921"
            ]
           ]
          },
          "colorway": [
           "#636efa",
           "#EF553B",
           "#00cc96",
           "#ab63fa",
           "#FFA15A",
           "#19d3f3",
           "#FF6692",
           "#B6E880",
           "#FF97FF",
           "#FECB52"
          ],
          "font": {
           "color": "#2a3f5f"
          },
          "geo": {
           "bgcolor": "white",
           "lakecolor": "white",
           "landcolor": "#E5ECF6",
           "showlakes": true,
           "showland": true,
           "subunitcolor": "white"
          },
          "hoverlabel": {
           "align": "left"
          },
          "hovermode": "closest",
          "mapbox": {
           "style": "light"
          },
          "paper_bgcolor": "white",
          "plot_bgcolor": "#E5ECF6",
          "polar": {
           "angularaxis": {
            "gridcolor": "white",
            "linecolor": "white",
            "ticks": ""
           },
           "bgcolor": "#E5ECF6",
           "radialaxis": {
            "gridcolor": "white",
            "linecolor": "white",
            "ticks": ""
           }
          },
          "scene": {
           "xaxis": {
            "backgroundcolor": "#E5ECF6",
            "gridcolor": "white",
            "gridwidth": 2,
            "linecolor": "white",
            "showbackground": true,
            "ticks": "",
            "zerolinecolor": "white"
           },
           "yaxis": {
            "backgroundcolor": "#E5ECF6",
            "gridcolor": "white",
            "gridwidth": 2,
            "linecolor": "white",
            "showbackground": true,
            "ticks": "",
            "zerolinecolor": "white"
           },
           "zaxis": {
            "backgroundcolor": "#E5ECF6",
            "gridcolor": "white",
            "gridwidth": 2,
            "linecolor": "white",
            "showbackground": true,
            "ticks": "",
            "zerolinecolor": "white"
           }
          },
          "shapedefaults": {
           "line": {
            "color": "#2a3f5f"
           }
          },
          "ternary": {
           "aaxis": {
            "gridcolor": "white",
            "linecolor": "white",
            "ticks": ""
           },
           "baxis": {
            "gridcolor": "white",
            "linecolor": "white",
            "ticks": ""
           },
           "bgcolor": "#E5ECF6",
           "caxis": {
            "gridcolor": "white",
            "linecolor": "white",
            "ticks": ""
           }
          },
          "title": {
           "x": 0.05
          },
          "xaxis": {
           "automargin": true,
           "gridcolor": "white",
           "linecolor": "white",
           "ticks": "",
           "title": {
            "standoff": 15
           },
           "zerolinecolor": "white",
           "zerolinewidth": 2
          },
          "yaxis": {
           "automargin": true,
           "gridcolor": "white",
           "linecolor": "white",
           "ticks": "",
           "title": {
            "standoff": 15
           },
           "zerolinecolor": "white",
           "zerolinewidth": 2
          }
         }
        }
       }
      },
      "text/html": [
       "<div>                            <div id=\"9d0433a9-3b3b-4fcc-be1f-0fbe51503043\" class=\"plotly-graph-div\" style=\"height:525px; width:100%;\"></div>            <script type=\"text/javascript\">                require([\"plotly\"], function(Plotly) {                    window.PLOTLYENV=window.PLOTLYENV || {};                                    if (document.getElementById(\"9d0433a9-3b3b-4fcc-be1f-0fbe51503043\")) {                    Plotly.newPlot(                        \"9d0433a9-3b3b-4fcc-be1f-0fbe51503043\",                        [{\"coloraxis\":\"coloraxis\",\"geo\":\"geo\",\"hovertemplate\":\"STATE_CODE=%{location}<br>speeding=%{z}<extra></extra>\",\"locationmode\":\"USA-states\",\"locations\":[\"AL\",\"AK\",\"AZ\",\"AR\",\"CA\",\"CO\",\"CT\",\"DE\",\"DC\",\"FL\",\"GA\",\"HI\",\"ID\",\"IL\",\"IN\",\"IA\",\"KS\",\"KY\",\"LA\",\"ME\",\"MD\",\"MA\",\"MI\",\"MN\",\"MS\",\"MO\",\"MT\",\"NE\",\"NV\",\"NH\",\"NJ\",\"NM\",\"NY\",\"NC\",\"ND\",\"OH\",\"OK\",\"OR\",\"PA\",\"RI\",\"SC\",\"SD\",\"TN\",\"TX\",\"UT\",\"VT\",\"VA\",\"WA\",\"WV\",\"WI\",\"WY\"],\"name\":\"\",\"z\":[7.332000000000001,7.421,6.51,4.032,4.2,5.032,4.968,6.156000000000001,2.006,3.759,2.964,9.45,5.508000000000001,4.6080000000000005,3.625,2.669,4.806,4.066,7.175,5.738,4.25,1.886,3.384,2.208,2.64,6.923000000000001,8.345999999999998,1.9370000000000005,5.439,4.06,1.7919999999999998,3.496,3.936,6.5520000000000005,5.496999999999999,3.948,6.367999999999999,4.224,9.1,3.774,9.082,6.013999999999999,4.095,7.76,4.859,4.08,2.413,4.452,8.092,4.968,7.308],\"type\":\"choropleth\"},{\"locationmode\":\"USA-states\",\"locations\":[\"AL\",\"AK\",\"AZ\",\"AR\",\"CA\",\"CO\",\"CT\",\"DE\",\"DC\",\"FL\",\"GA\",\"HI\",\"ID\",\"IL\",\"IN\",\"IA\",\"KS\",\"KY\",\"LA\",\"ME\",\"MD\",\"MA\",\"MI\",\"MN\",\"MS\",\"MO\",\"MT\",\"NE\",\"NV\",\"NH\",\"NJ\",\"NM\",\"NY\",\"NC\",\"ND\",\"OH\",\"OK\",\"OR\",\"PA\",\"RI\",\"SC\",\"SD\",\"TN\",\"TX\",\"UT\",\"VT\",\"VA\",\"WA\",\"WV\",\"WI\",\"WY\"],\"mode\":\"text\",\"text\":[7.3,7.4,6.5,4.0,4.2,5.0,5.0,6.2,2.0,3.8,3.0,9.4,5.5,4.6,3.6,2.7,4.8,4.1,7.2,5.7,4.2,1.9,3.4,2.2,2.6,6.9,8.3,1.9,5.4,4.1,1.8,3.5,3.9,6.6,5.5,3.9,6.4,4.2,9.1,3.8,9.1,6.0,4.1,7.8,4.9,4.1,2.4,4.5,8.1,5.0,7.3],\"textfont\":{\"color\":\"white\",\"family\":\"helvetica\",\"size\":14},\"type\":\"scattergeo\"}],                        {\"template\":{\"data\":{\"histogram2dcontour\":[{\"type\":\"histogram2dcontour\",\"colorbar\":{\"outlinewidth\":0,\"ticks\":\"\"},\"colorscale\":[[0.0,\"#0d0887\"],[0.1111111111111111,\"#46039f\"],[0.2222222222222222,\"#7201a8\"],[0.3333333333333333,\"#9c179e\"],[0.4444444444444444,\"#bd3786\"],[0.5555555555555556,\"#d8576b\"],[0.6666666666666666,\"#ed7953\"],[0.7777777777777778,\"#fb9f3a\"],[0.8888888888888888,\"#fdca26\"],[1.0,\"#f0f921\"]]}],\"choropleth\":[{\"type\":\"choropleth\",\"colorbar\":{\"outlinewidth\":0,\"ticks\":\"\"}}],\"histogram2d\":[{\"type\":\"histogram2d\",\"colorbar\":{\"outlinewidth\":0,\"ticks\":\"\"},\"colorscale\":[[0.0,\"#0d0887\"],[0.1111111111111111,\"#46039f\"],[0.2222222222222222,\"#7201a8\"],[0.3333333333333333,\"#9c179e\"],[0.4444444444444444,\"#bd3786\"],[0.5555555555555556,\"#d8576b\"],[0.6666666666666666,\"#ed7953\"],[0.7777777777777778,\"#fb9f3a\"],[0.8888888888888888,\"#fdca26\"],[1.0,\"#f0f921\"]]}],\"heatmap\":[{\"type\":\"heatmap\",\"colorbar\":{\"outlinewidth\":0,\"ticks\":\"\"},\"colorscale\":[[0.0,\"#0d0887\"],[0.1111111111111111,\"#46039f\"],[0.2222222222222222,\"#7201a8\"],[0.3333333333333333,\"#9c179e\"],[0.4444444444444444,\"#bd3786\"],[0.5555555555555556,\"#d8576b\"],[0.6666666666666666,\"#ed7953\"],[0.7777777777777778,\"#fb9f3a\"],[0.8888888888888888,\"#fdca26\"],[1.0,\"#f0f921\"]]}],\"heatmapgl\":[{\"type\":\"heatmapgl\",\"colorbar\":{\"outlinewidth\":0,\"ticks\":\"\"},\"colorscale\":[[0.0,\"#0d0887\"],[0.1111111111111111,\"#46039f\"],[0.2222222222222222,\"#7201a8\"],[0.3333333333333333,\"#9c179e\"],[0.4444444444444444,\"#bd3786\"],[0.5555555555555556,\"#d8576b\"],[0.6666666666666666,\"#ed7953\"],[0.7777777777777778,\"#fb9f3a\"],[0.8888888888888888,\"#fdca26\"],[1.0,\"#f0f921\"]]}],\"contourcarpet\":[{\"type\":\"contourcarpet\",\"colorbar\":{\"outlinewidth\":0,\"ticks\":\"\"}}],\"contour\":[{\"type\":\"contour\",\"colorbar\":{\"outlinewidth\":0,\"ticks\":\"\"},\"colorscale\":[[0.0,\"#0d0887\"],[0.1111111111111111,\"#46039f\"],[0.2222222222222222,\"#7201a8\"],[0.3333333333333333,\"#9c179e\"],[0.4444444444444444,\"#bd3786\"],[0.5555555555555556,\"#d8576b\"],[0.6666666666666666,\"#ed7953\"],[0.7777777777777778,\"#fb9f3a\"],[0.8888888888888888,\"#fdca26\"],[1.0,\"#f0f921\"]]}],\"surface\":[{\"type\":\"surface\",\"colorbar\":{\"outlinewidth\":0,\"ticks\":\"\"},\"colorscale\":[[0.0,\"#0d0887\"],[0.1111111111111111,\"#46039f\"],[0.2222222222222222,\"#7201a8\"],[0.3333333333333333,\"#9c179e\"],[0.4444444444444444,\"#bd3786\"],[0.5555555555555556,\"#d8576b\"],[0.6666666666666666,\"#ed7953\"],[0.7777777777777778,\"#fb9f3a\"],[0.8888888888888888,\"#fdca26\"],[1.0,\"#f0f921\"]]}],\"mesh3d\":[{\"type\":\"mesh3d\",\"colorbar\":{\"outlinewidth\":0,\"ticks\":\"\"}}],\"scatter\":[{\"fillpattern\":{\"fillmode\":\"overlay\",\"size\":10,\"solidity\":0.2},\"type\":\"scatter\"}],\"parcoords\":[{\"type\":\"parcoords\",\"line\":{\"colorbar\":{\"outlinewidth\":0,\"ticks\":\"\"}}}],\"scatterpolargl\":[{\"type\":\"scatterpolargl\",\"marker\":{\"colorbar\":{\"outlinewidth\":0,\"ticks\":\"\"}}}],\"bar\":[{\"error_x\":{\"color\":\"#2a3f5f\"},\"error_y\":{\"color\":\"#2a3f5f\"},\"marker\":{\"line\":{\"color\":\"#E5ECF6\",\"width\":0.5},\"pattern\":{\"fillmode\":\"overlay\",\"size\":10,\"solidity\":0.2}},\"type\":\"bar\"}],\"scattergeo\":[{\"type\":\"scattergeo\",\"marker\":{\"colorbar\":{\"outlinewidth\":0,\"ticks\":\"\"}}}],\"scatterpolar\":[{\"type\":\"scatterpolar\",\"marker\":{\"colorbar\":{\"outlinewidth\":0,\"ticks\":\"\"}}}],\"histogram\":[{\"marker\":{\"pattern\":{\"fillmode\":\"overlay\",\"size\":10,\"solidity\":0.2}},\"type\":\"histogram\"}],\"scattergl\":[{\"type\":\"scattergl\",\"marker\":{\"colorbar\":{\"outlinewidth\":0,\"ticks\":\"\"}}}],\"scatter3d\":[{\"type\":\"scatter3d\",\"line\":{\"colorbar\":{\"outlinewidth\":0,\"ticks\":\"\"}},\"marker\":{\"colorbar\":{\"outlinewidth\":0,\"ticks\":\"\"}}}],\"scattermapbox\":[{\"type\":\"scattermapbox\",\"marker\":{\"colorbar\":{\"outlinewidth\":0,\"ticks\":\"\"}}}],\"scatterternary\":[{\"type\":\"scatterternary\",\"marker\":{\"colorbar\":{\"outlinewidth\":0,\"ticks\":\"\"}}}],\"scattercarpet\":[{\"type\":\"scattercarpet\",\"marker\":{\"colorbar\":{\"outlinewidth\":0,\"ticks\":\"\"}}}],\"carpet\":[{\"aaxis\":{\"endlinecolor\":\"#2a3f5f\",\"gridcolor\":\"white\",\"linecolor\":\"white\",\"minorgridcolor\":\"white\",\"startlinecolor\":\"#2a3f5f\"},\"baxis\":{\"endlinecolor\":\"#2a3f5f\",\"gridcolor\":\"white\",\"linecolor\":\"white\",\"minorgridcolor\":\"white\",\"startlinecolor\":\"#2a3f5f\"},\"type\":\"carpet\"}],\"table\":[{\"cells\":{\"fill\":{\"color\":\"#EBF0F8\"},\"line\":{\"color\":\"white\"}},\"header\":{\"fill\":{\"color\":\"#C8D4E3\"},\"line\":{\"color\":\"white\"}},\"type\":\"table\"}],\"barpolar\":[{\"marker\":{\"line\":{\"color\":\"#E5ECF6\",\"width\":0.5},\"pattern\":{\"fillmode\":\"overlay\",\"size\":10,\"solidity\":0.2}},\"type\":\"barpolar\"}],\"pie\":[{\"automargin\":true,\"type\":\"pie\"}]},\"layout\":{\"autotypenumbers\":\"strict\",\"colorway\":[\"#636efa\",\"#EF553B\",\"#00cc96\",\"#ab63fa\",\"#FFA15A\",\"#19d3f3\",\"#FF6692\",\"#B6E880\",\"#FF97FF\",\"#FECB52\"],\"font\":{\"color\":\"#2a3f5f\"},\"hovermode\":\"closest\",\"hoverlabel\":{\"align\":\"left\"},\"paper_bgcolor\":\"white\",\"plot_bgcolor\":\"#E5ECF6\",\"polar\":{\"bgcolor\":\"#E5ECF6\",\"angularaxis\":{\"gridcolor\":\"white\",\"linecolor\":\"white\",\"ticks\":\"\"},\"radialaxis\":{\"gridcolor\":\"white\",\"linecolor\":\"white\",\"ticks\":\"\"}},\"ternary\":{\"bgcolor\":\"#E5ECF6\",\"aaxis\":{\"gridcolor\":\"white\",\"linecolor\":\"white\",\"ticks\":\"\"},\"baxis\":{\"gridcolor\":\"white\",\"linecolor\":\"white\",\"ticks\":\"\"},\"caxis\":{\"gridcolor\":\"white\",\"linecolor\":\"white\",\"ticks\":\"\"}},\"coloraxis\":{\"colorbar\":{\"outlinewidth\":0,\"ticks\":\"\"}},\"colorscale\":{\"sequential\":[[0.0,\"#0d0887\"],[0.1111111111111111,\"#46039f\"],[0.2222222222222222,\"#7201a8\"],[0.3333333333333333,\"#9c179e\"],[0.4444444444444444,\"#bd3786\"],[0.5555555555555556,\"#d8576b\"],[0.6666666666666666,\"#ed7953\"],[0.7777777777777778,\"#fb9f3a\"],[0.8888888888888888,\"#fdca26\"],[1.0,\"#f0f921\"]],\"sequentialminus\":[[0.0,\"#0d0887\"],[0.1111111111111111,\"#46039f\"],[0.2222222222222222,\"#7201a8\"],[0.3333333333333333,\"#9c179e\"],[0.4444444444444444,\"#bd3786\"],[0.5555555555555556,\"#d8576b\"],[0.6666666666666666,\"#ed7953\"],[0.7777777777777778,\"#fb9f3a\"],[0.8888888888888888,\"#fdca26\"],[1.0,\"#f0f921\"]],\"diverging\":[[0,\"#8e0152\"],[0.1,\"#c51b7d\"],[0.2,\"#de77ae\"],[0.3,\"#f1b6da\"],[0.4,\"#fde0ef\"],[0.5,\"#f7f7f7\"],[0.6,\"#e6f5d0\"],[0.7,\"#b8e186\"],[0.8,\"#7fbc41\"],[0.9,\"#4d9221\"],[1,\"#276419\"]]},\"xaxis\":{\"gridcolor\":\"white\",\"linecolor\":\"white\",\"ticks\":\"\",\"title\":{\"standoff\":15},\"zerolinecolor\":\"white\",\"automargin\":true,\"zerolinewidth\":2},\"yaxis\":{\"gridcolor\":\"white\",\"linecolor\":\"white\",\"ticks\":\"\",\"title\":{\"standoff\":15},\"zerolinecolor\":\"white\",\"automargin\":true,\"zerolinewidth\":2},\"scene\":{\"xaxis\":{\"backgroundcolor\":\"#E5ECF6\",\"gridcolor\":\"white\",\"linecolor\":\"white\",\"showbackground\":true,\"ticks\":\"\",\"zerolinecolor\":\"white\",\"gridwidth\":2},\"yaxis\":{\"backgroundcolor\":\"#E5ECF6\",\"gridcolor\":\"white\",\"linecolor\":\"white\",\"showbackground\":true,\"ticks\":\"\",\"zerolinecolor\":\"white\",\"gridwidth\":2},\"zaxis\":{\"backgroundcolor\":\"#E5ECF6\",\"gridcolor\":\"white\",\"linecolor\":\"white\",\"showbackground\":true,\"ticks\":\"\",\"zerolinecolor\":\"white\",\"gridwidth\":2}},\"shapedefaults\":{\"line\":{\"color\":\"#2a3f5f\"}},\"annotationdefaults\":{\"arrowcolor\":\"#2a3f5f\",\"arrowhead\":0,\"arrowwidth\":1},\"geo\":{\"bgcolor\":\"white\",\"landcolor\":\"#E5ECF6\",\"subunitcolor\":\"white\",\"showland\":true,\"showlakes\":true,\"lakecolor\":\"white\"},\"title\":{\"x\":0.05},\"mapbox\":{\"style\":\"light\"}}},\"geo\":{\"domain\":{\"x\":[0.0,1.0],\"y\":[0.0,1.0]},\"center\":{},\"scope\":\"usa\"},\"coloraxis\":{\"colorbar\":{\"title\":{\"text\":\"speeding\"}},\"colorscale\":[[0.0,\"#0d0887\"],[0.1111111111111111,\"#46039f\"],[0.2222222222222222,\"#7201a8\"],[0.3333333333333333,\"#9c179e\"],[0.4444444444444444,\"#bd3786\"],[0.5555555555555556,\"#d8576b\"],[0.6666666666666666,\"#ed7953\"],[0.7777777777777778,\"#fb9f3a\"],[0.8888888888888888,\"#fdca26\"],[1.0,\"#f0f921\"]]},\"legend\":{\"tracegroupgap\":0},\"margin\":{\"t\":60}},                        {\"responsive\": true}                    ).then(function(){\n",
       "                            \n",
       "var gd = document.getElementById('9d0433a9-3b3b-4fcc-be1f-0fbe51503043');\n",
       "var x = new MutationObserver(function (mutations, observer) {{\n",
       "        var display = window.getComputedStyle(gd).display;\n",
       "        if (!display || display === 'none') {{\n",
       "            console.log([gd, 'removed!']);\n",
       "            Plotly.purge(gd);\n",
       "            observer.disconnect();\n",
       "        }}\n",
       "}});\n",
       "\n",
       "// Listen for the removal of the full notebook cells\n",
       "var notebookContainer = gd.closest('#notebook-container');\n",
       "if (notebookContainer) {{\n",
       "    x.observe(notebookContainer, {childList: true});\n",
       "}}\n",
       "\n",
       "// Listen for the clearing of the current output cell\n",
       "var outputEl = gd.closest('.output');\n",
       "if (outputEl) {{\n",
       "    x.observe(outputEl, {childList: true});\n",
       "}}\n",
       "\n",
       "                        })                };                });            </script>        </div>"
      ]
     },
     "metadata": {},
     "output_type": "display_data"
    }
   ],
   "source": [
    "# Розподіл авто-катастроф через перевищення швидкості\n",
    "fig_speeding = px.choropleth(auto_crashes_upd,\n",
    "                    locations='STATE_CODE',\n",
    "                    locationmode=\"USA-states\",\n",
    "                    scope=\"usa\",\n",
    "                    color='speeding',\n",
    "                    \n",
    "                   )\n",
    "fig_speeding.add_scattergeo(\n",
    "    locations=auto_crashes_upd['STATE_CODE'],\n",
    "    locationmode=\"USA-states\",\n",
    "    text = round(auto_crashes_upd['speeding'],1),\n",
    "    mode = 'text',\n",
    "    textfont=dict(\n",
    "            family=\"helvetica\",\n",
    "            size=14,\n",
    "            color=\"white\"))\n",
    "fig_speeding.show()"
   ]
  },
  {
   "cell_type": "code",
   "execution_count": 173,
   "id": "4bbe4a32",
   "metadata": {
    "scrolled": false
   },
   "outputs": [
    {
     "data": {
      "application/vnd.plotly.v1+json": {
       "config": {
        "plotlyServerURL": "https://plot.ly"
       },
       "data": [
        {
         "geo": "geo",
         "hovertemplate": "<b>%{hovertext}</b><br><br>alcohol=%{marker.color}<br>LATITUDE=%{lat}<br>LONGITUDE=%{lon}<extra></extra>",
         "hovertext": [
          "AL",
          "AK",
          "AZ",
          "AR",
          "CA",
          "CO",
          "CT",
          "DE",
          "DC",
          "FL",
          "GA",
          "HI",
          "ID",
          "IL",
          "IN",
          "IA",
          "KS",
          "KY",
          "LA",
          "ME",
          "MD",
          "MA",
          "MI",
          "MN",
          "MS",
          "MO",
          "MT",
          "NE",
          "NV",
          "NH",
          "NJ",
          "NM",
          "NY",
          "NC",
          "ND",
          "OH",
          "OK",
          "OR",
          "PA",
          "RI",
          "SC",
          "SD",
          "TN",
          "TX",
          "UT",
          "VT",
          "VA",
          "WA",
          "WV",
          "WI",
          "WY"
         ],
         "lat": [
          32.9798035,
          61.409802,
          33.825188999999995,
          35.278806,
          37.3503575,
          39.312654,
          41.632988,
          39.071389,
          38.895,
          28.740850000000002,
          32.985278,
          21.166561,
          43.930751,
          40.411574,
          39.8842465,
          42.0367315,
          38.502247999999994,
          37.433056,
          30.807703500000002,
          44.419489,
          39.134539,
          42.253909,
          43.222682,
          45.387694,
          33.162388,
          38.298619,
          47.0163065,
          41.100186,
          39.0775715,
          43.353228,
          40.494107,
          35.079912500000006,
          42.4725335,
          35.575884,
          47.537023,
          40.426061,
          35.4504225,
          44.6279315,
          40.552621,
          41.701516999999996,
          34.030833,
          44.245722,
          35.9195015,
          31.502639000000002,
          39.76522,
          44.104565,
          37.569811,
          47.370029,
          38.367109,
          44.1991925,
          42.8644395
         ],
         "legendgroup": "",
         "lon": [
          -86.81063900000001,
          -154.381247,
          -111.42363499999999,
          -92.29751,
          -120.523828,
          -105.21426,
          -72.72493,
          -75.572605,
          -77.017691,
          -82.0583885,
          -83.730388,
          -157.1492075,
          -115.675556,
          -89.055228,
          -86.280399,
          -93.34343150000001,
          -97.1810125,
          -84.43358,
          -91.97763850000001,
          -69.52514,
          -76.659844,
          -71.26,
          -84.76882,
          -94.197383,
          -89.693611,
          -92.561925,
          -110.678943,
          -97.87385,
          -116.94328999999999,
          -71.554722,
          -74.525306,
          -106.0750735,
          -74.6793245,
          -79.308889,
          -99.371564,
          -82.663492,
          -96.887305,
          -122.783119,
          -77.469836,
          -71.53320400000001,
          -81.066865,
          -98.474251,
          -86.337923,
          -97.43171749999999,
          -111.8983285,
          -72.6291155,
          -78.169801,
          -121.9595215,
          -81.1195975,
          -89.504933,
          -107.303017
         ],
         "marker": {
          "color": [
           5.64,
           4.525,
           5.208000000000001,
           5.824,
           3.36,
           3.808,
           3.888,
           4.86,
           1.5930000000000002,
           5.190999999999999,
           3.9,
           7.175,
           4.437,
           4.352,
           4.205,
           3.925,
           4.272,
           4.922,
           6.765,
           4.53,
           4,
           2.87,
           3.948,
           2.784,
           5.456,
           5.474000000000001,
           9.416,
           5.215,
           4.704,
           3.48,
           3.136,
           4.968,
           3.5670000000000006,
           5.208000000000001,
           10.038,
           4.794,
           5.770999999999999,
           3.3280000000000003,
           5.642,
           4.218,
           9.799,
           6.401999999999999,
           5.655,
           7.371999999999999,
           1.808,
           4.08,
           3.429,
           3.498,
           6.664,
           4.554,
           5.568
          ],
          "coloraxis": "coloraxis",
          "size": [
           5.64,
           4.525,
           5.208000000000001,
           5.824,
           3.36,
           3.808,
           3.888,
           4.86,
           1.5930000000000002,
           5.190999999999999,
           3.9,
           7.175,
           4.437,
           4.352,
           4.205,
           3.925,
           4.272,
           4.922,
           6.765,
           4.53,
           4,
           2.87,
           3.948,
           2.784,
           5.456,
           5.474000000000001,
           9.416,
           5.215,
           4.704,
           3.48,
           3.136,
           4.968,
           3.5670000000000006,
           5.208000000000001,
           10.038,
           4.794,
           5.770999999999999,
           3.3280000000000003,
           5.642,
           4.218,
           9.799,
           6.401999999999999,
           5.655,
           7.371999999999999,
           1.808,
           4.08,
           3.429,
           3.498,
           6.664,
           4.554,
           5.568
          ],
          "sizemode": "area",
          "sizeref": 0.025095,
          "symbol": "circle"
         },
         "mode": "markers",
         "name": "",
         "showlegend": false,
         "type": "scattergeo"
        },
        {
         "lat": [
          41.355486,
          41.426386,
          41.49571,
          41.641231,
          41.751302,
          41.841787,
          41.998961,
          42.000537,
          42.000021,
          42.000021,
          42.238378,
          null,
          45.106291,
          45.110451,
          45.108875,
          45.226878,
          45.387747,
          45.396713,
          45.559183,
          45.639618,
          45.779842,
          45.843352,
          46.007916,
          46.020628,
          46.022204,
          46.202116,
          46.380994,
          46.560879,
          46.593694,
          46.596872,
          46.576253,
          null,
          43.501247,
          43.613979,
          43.854739,
          43.937293,
          44.085449,
          44.257428,
          44.364838,
          44.432585,
          44.574928,
          44.58392,
          44.776027,
          44.996143,
          45.267082,
          45.518436,
          45.705763,
          45.889912,
          45.985695,
          46.096282,
          46.095223,
          46.656145,
          46.711723,
          null,
          40.641111,
          41.957517,
          null,
          41.677741,
          41.685156,
          41.685156,
          41.694148,
          null,
          41.320036,
          41.466617,
          42.01325,
          null,
          42.054513,
          41.289857,
          41.204669,
          41.10731,
          40.98507,
          null,
          36.506196,
          36.409354,
          36.267011,
          36.023073,
          null,
          36.540586,
          36.999912,
          36.999912,
          null,
          39.720883,
          39.720883,
          40.641111,
          null,
          38.415433,
          38.440832,
          38.57948,
          38.801198,
          39.018161,
          38.993796,
          38.882149,
          38.921836,
          39.019221,
          39.199649,
          39.371628,
          39.349407,
          39.377442,
          39.426147,
          39.654221,
          39.757393,
          39.973297,
          40.233643,
          40.463835,
          40.59083,
          40.641111,
          null,
          34.999673,
          35.021351,
          35.020834,
          null,
          42.505364,
          42.505364,
          42.503246,
          42.494254,
          null,
          40.368596,
          40.119877,
          39.820903,
          39.61505,
          39.44519,
          39.310779,
          39.265278,
          39.074773,
          38.907548,
          38.865768,
          38.930311,
          38.769443,
          38.584777,
          38.439256,
          38.263556,
          38.113281,
          37.971998,
          37.968277,
          37.748678,
          37.719042,
          37.477222,
          37.326921,
          37.081406,
          37.107348,
          36.952293,
          null,
          33.010001,
          32.952847,
          32.808385,
          32.602532,
          32.478716,
          32.306736,
          32.204598,
          32.015695,
          31.85958,
          31.650032,
          31.408729,
          31.297082,
          31.04733,
          31.015575,
          31.013456,
          30.847291,
          30.683244,
          30.556791,
          30.440881,
          30.275258,
          30.176298,
          null,
          36.994099,
          37.009421,
          37.007328,
          36.999912,
          null,
          34.98696,
          35.198627,
          35.261595,
          35.369004,
          35.490211,
          35.51667,
          35.562687,
          35.648961,
          35.737328,
          35.81722,
          35.889722,
          36.025192,
          35.937342,
          36.125728,
          36.106143,
          36.27391,
          36.317293,
          36.460152,
          36.585571,
          null,
          34.979028,
          35.008664,
          35.180101,
          35.171652,
          35.125608,
          35.037242,
          35.103387,
          34.934044,
          34.817643,
          34.807566,
          33.861422,
          null,
          40.960187,
          41.355486,
          null,
          41.355486,
          41.311561,
          41.087725,
          40.999875,
          40.869702,
          40.747461,
          40.586619,
          40.55538,
          40.449547,
          40.190777,
          40.081791,
          39.9495,
          39.887049,
          39.795504,
          null,
          40.001357,
          40.215143,
          40.343171,
          40.501404,
          40.583957,
          null,
          43.501789,
          44.435763,
          45.393018,
          45.470817,
          45.625329,
          45.760799,
          45.872446,
          46.017967,
          null,
          42.488957,
          42.502729,
          42.550866,
          42.633961,
          42.717548,
          42.846145,
          42.836094,
          42.839789,
          42.794287,
          42.873662,
          43.00014,
          43.00014,
          43.00014,
          43.00014,
          null,
          36.023073,
          35.940003,
          35.799236,
          35.701878,
          35.536229,
          35.404997,
          35.113955,
          35.020834,
          null,
          36.540586,
          36.526298,
          36.523662,
          36.523146,
          36.461754,
          36.337937,
          36.230502,
          36.12255,
          36.023073,
          36.023073,
          null,
          33.635983,
          34.51071,
          35.483312,
          36.540586,
          null,
          33.010001,
          33.206836,
          33.469327,
          33.706393,
          34.055105,
          34.261475,
          34.397461,
          34.454099,
          34.72186,
          34.866838,
          34.941459,
          35.020834,
          null,
          33.010001,
          33.043875,
          33.010518,
          33.01212,
          null,
          34.999673,
          34.99913,
          34.985901,
          null,
          34.999673,
          34.805989,
          33.510048,
          31.91198,
          30.384812,
          null,
          41.494651,
          41.647587,
          41.762412,
          42.02436,
          42.01325,
          null,
          42.743489,
          42.054513,
          null,
          42.054513,
          42.035987,
          42.01325,
          null,
          36.995158,
          36.499323,
          null,
          36.999912,
          31.339948,
          null,
          42.001597,
          41.027935,
          41.001994,
          null,
          41.004112,
          43.00014,
          null,
          45.04061,
          43.00014,
          null,
          46.268261,
          46.282033,
          46.277253,
          46.186251,
          46.129097,
          45.938075,
          45.770333,
          45.630083,
          45.591998,
          45.59515,
          45.700983,
          45.732764,
          45.689899,
          45.637499,
          45.672949,
          45.7539,
          45.740671,
          45.850768,
          45.932235,
          45.888336,
          45.992568,
          45.999983,
          null,
          46.017967,
          46.19948,
          46.351357,
          46.513285,
          46.716477,
          46.944525,
          46.999044,
          47.292204,
          47.426614,
          47.546194,
          47.748869,
          47.954205,
          48.137295,
          48.318782,
          48.514584,
          48.642122,
          48.758523,
          48.902442,
          49.000885,
          null,
          45.956601,
          45.961355,
          45.965567,
          45.963448,
          46.017967,
          null,
          34.98696,
          34.976909,
          34.985901,
          null,
          34.979028,
          34.895958,
          34.706512,
          34.540347,
          34.479498,
          34.163057,
          33.985781,
          33.748716,
          33.624356,
          33.461369,
          33.223244,
          33.021628,
          32.793037,
          32.68245,
          32.608888,
          32.49936,
          32.312033,
          32.121528,
          32.084476,
          32.033161,
          null,
          34.98696,
          34.979028,
          null,
          30.990693,
          31.108696,
          31.236233,
          31.40028,
          31.577013,
          31.7654,
          32.083417,
          32.259117,
          32.437969,
          32.750714,
          33.744478,
          34.985901,
          null,
          38.789545,
          38.878454,
          38.982169,
          38.934006,
          null,
          39.723545,
          39.720883,
          39.725663,
          39.7214,
          39.719824,
          39.720883,
          null,
          39.322432,
          39.449944,
          39.592829,
          39.672204,
          39.596524,
          39.522446,
          39.56265,
          39.457902,
          39.418214,
          39.302847,
          39.213421,
          39.720883,
          null,
          36.999912,
          41.001994,
          null,
          36.995158,
          36.99198,
          null,
          40.000815,
          40.033086,
          41.004112,
          41.004112,
          null,
          36.995158,
          36.996192,
          36.997277,
          36.999912,
          36.999912,
          null,
          41.004112,
          41.003596,
          41.002536,
          41.002536,
          41.001994,
          null,
          41.760836,
          41.756056,
          41.751302,
          41.756056,
          41.677741,
          null,
          39.106528,
          39.799742,
          40.77286,
          41.677741,
          null,
          41.708436,
          41.708436,
          40.550083,
          39.392273,
          39.113944,
          39.040382,
          38.869462,
          38.735052,
          38.674203,
          38.50858,
          38.290557,
          38.021736,
          37.819604,
          null,
          43.501247,
          43.446754,
          43.288004,
          43.212324,
          43.002233,
          42.912833,
          42.754083,
          42.658275,
          42.505364,
          null,
          43.501247,
          43.519773,
          43.513417,
          43.500187,
          43.501789,
          null,
          40.583957,
          40.58344,
          40.585017,
          40.592432,
          40.61411,
          40.452208,
          40.368596,
          null,
          42.505364,
          42.429168,
          42.37837,
          42.270418,
          42.189983,
          42.103735,
          41.834914,
          41.608417,
          41.536457,
          41.478786,
          41.429565,
          41.257585,
          41.179812,
          41.024757,
          40.851719,
          40.699842,
          40.551143,
          40.368596,
          null,
          40.583957,
          40.764928,
          40.943806,
          41.116302,
          41.404708,
          41.524287,
          41.556559,
          41.787811,
          41.953434,
          42.141821,
          42.224374,
          42.38948,
          42.488957,
          null,
          42.488957,
          42.580502,
          42.691632,
          42.855679,
          43.016005,
          43.1245,
          43.257308,
          43.501247,
          43.501789,
          null,
          37.931768,
          38.000032,
          38.01538,
          null,
          38.789545,
          38.848275,
          38.934006,
          null,
          36.599859,
          36.565985,
          36.585571,
          null,
          39.322432,
          39.134562,
          39.405502,
          39.139317,
          39.03984,
          38.90915,
          38.780036,
          38.821817,
          38.680017,
          38.555657,
          38.464629,
          38.426027,
          38.497444,
          38.574726,
          38.35722,
          38.179427,
          38.031787,
          37.901098,
          37.728059,
          37.610573,
          37.519028,
          37.441772,
          37.45606,
          37.383041,
          37.418492,
          37.329065,
          37.245453,
          37.315836,
          37.195172,
          37.275606,
          37.366092,
          37.535952,
          null,
          36.585571,
          36.542188,
          36.537434,
          36.545883,
          36.55118,
          null,
          38.934006,
          39.045679,
          39.105985,
          39.213421,
          39.288558,
          39.322432,
          null,
          38.789545,
          38.708594,
          38.614413,
          38.39161,
          38.337118,
          38.3805,
          38.239733,
          null,
          42.743489,
          43.567935,
          43.575351,
          43.613436,
          43.75844,
          44.019846,
          44.226732,
          44.379152,
          44.676007,
          44.804604,
          45.007253,
          null,
          42.727082,
          42.743489,
          null,
          33.635983,
          33.831785,
          33.938161,
          33.870414,
          33.881007,
          33.879431,
          33.797937,
          33.756131,
          33.805327,
          33.751351,
          33.918059,
          33.773598,
          33.838142,
          33.993713,
          33.893694,
          34.13448,
          34.110657,
          34.164633,
          34.235559,
          34.442963,
          34.3763,
          34.457794,
          34.565229,
          35.519848,
          36.499323,
          36.499323,
          36.499323,
          36.499323,
          null,
          33.01212,
          31.94265,
          31.829944,
          31.675431,
          31.443662,
          31.216131,
          31.079602,
          30.71394,
          30.605471,
          30.366803,
          30.30014,
          30.100644,
          29.968352,
          29.821772,
          29.68948,
          null,
          33.635983,
          33.57038,
          33.583609,
          33.579914,
          33.01212,
          null,
          36.499323,
          33.879948,
          31.999287,
          31.999287,
          31.999287,
          31.999287,
          31.914099,
          31.754289,
          null,
          45.956601,
          45.04061,
          null,
          44.506147,
          44.541597,
          45.049602,
          45.057018,
          45.045881,
          45.051178,
          45.04061,
          null,
          45.956601,
          47.171565,
          49.00564,
          null,
          30.990693,
          30.984879,
          30.927725,
          30.851528,
          30.608649,
          30.411271,
          30.274199,
          null,
          30.72983,
          30.74833,
          30.821892,
          30.788018,
          30.440364,
          30.350938,
          30.525553,
          30.675311,
          30.721355,
          30.990693,
          null,
          39.106528,
          39.083248,
          38.986923,
          38.760994,
          38.690068,
          38.609117,
          38.637151,
          38.57948,
          38.634515,
          38.65144,
          38.511216,
          38.415433,
          null,
          36.599859,
          36.567045,
          36.60991,
          36.597741,
          36.625775,
          36.633733,
          36.639004,
          36.61097,
          36.656497,
          36.654378,
          36.497204,
          36.506196,
          null,
          36.952293,
          36.851756,
          36.694582,
          36.611512,
          36.506196,
          null,
          38.415433,
          38.320194,
          38.113281,
          37.957167,
          37.805315,
          37.675659,
          37.554478,
          37.535952,
          null,
          37.819604,
          37.744983,
          37.605819,
          37.511612,
          37.438594,
          37.354981,
          37.136442,
          37.053888,
          37.146493,
          37.200469,
          37.103627,
          36.952293,
          null,
          39.106528,
          39.059425,
          38.855174,
          38.781096,
          38.779494,
          38.691127,
          38.72712,
          38.535038,
          38.461994,
          38.290015,
          38.258802,
          37.960887,
          38.046619,
          38.169376,
          37.969879,
          37.858749,
          37.976235,
          37.88097,
          37.783611,
          37.936005,
          37.826477,
          37.90425,
          37.793662,
          37.819604,
          null,
          36.599859,
          36.656497,
          36.718379,
          36.815763,
          36.934826,
          37.040143,
          37.121094,
          37.238037,
          37.535952,
          null,
          40.001357,
          39.868006,
          39.870125,
          39.725121,
          39.539912,
          39.444673,
          39.234582,
          39.139859,
          38.068839,
          36.999912,
          null,
          36.999912,
          36.998853,
          36.997277,
          36.995158,
          36.994099,
          36.993039,
          36.99198,
          null,
          40.001357,
          40.001357,
          40.000815,
          40.000815,
          40.000815,
          40.000815,
          null,
          36.99198,
          38.459875,
          40.000815,
          null,
          39.795504,
          39.847361,
          39.802377,
          39.723545,
          null,
          39.795504,
          39.691247,
          39.498649,
          null,
          39.723545,
          38.449307,
          38.448765,
          null,
          36.994099,
          41.993122,
          null,
          36.994099,
          36.189755,
          36.156424,
          36.004004,
          36.043692,
          36.114618,
          36.114618,
          35.991318,
          35.854272,
          35.63891,
          35.445227,
          35.249425,
          35.053106,
          null,
          41.992605,
          41.997359,
          42.000021,
          null,
          32.717357,
          32.716298,
          32.916337,
          33.0539,
          33.203684,
          33.379875,
          33.609525,
          34.067275,
          34.272585,
          34.464667,
          34.653053,
          34.82821,
          34.96368,
          35.053106,
          null,
          41.992605,
          41.999478,
          null,
          41.992605,
          38.995398,
          37.644421,
          36.322047,
          35.053106,
          null,
          45.999983,
          46.177776,
          46.33017,
          47.722927,
          48.999309,
          null,
          42.001597,
          41.993122,
          null,
          42.001597,
          44.488163,
          44.506147,
          null,
          45.999983,
          45.807359,
          45.726408,
          45.574531,
          45.444358,
          45.186648,
          44.863851,
          44.665956,
          44.438942,
          44.279132,
          44.21141,
          44.081211,
          43.797069,
          42.000021,
          null,
          44.506147,
          44.561156,
          44.701406,
          44.728924,
          44.530486,
          44.498214,
          44.56064,
          44.462222,
          44.498731,
          44.360083,
          44.619912,
          44.765433,
          44.789773,
          44.862792,
          45.124223,
          45.249073,
          45.564997,
          45.702585,
          45.730103,
          45.589336,
          45.470274,
          45.569234,
          45.825369,
          45.889912,
          46.14708,
          46.410087,
          46.631805,
          46.641339,
          46.786318,
          47.095369,
          47.250398,
          47.345121,
          47.50493,
          47.684842,
          47.950484,
          49.000369,
          null,
          41.993122,
          42.000021,
          null,
          43.090083,
          43.080032,
          43.219739,
          43.367896,
          43.466339,
          45.286125,
          null,
          42.727082,
          42.718091,
          42.816508,
          42.884256,
          42.865187,
          null,
          42.727082,
          42.830797,
          42.960453,
          43.222918,
          43.285369,
          43.521892,
          43.721388,
          43.808696,
          44.045761,
          44.20663,
          44.304014,
          44.352151,
          44.468035,
          44.592395,
          44.735797,
          45.007796,
          45.008312,
          null
         ],
         "line": {
          "color": "brown",
          "width": 1
         },
         "lon": [
          -74.679028,
          -74.840439,
          -75.010816,
          -75.075386,
          -75.048928,
          -75.16799,
          -75.385471,
          -76.743837,
          -78.200648,
          -79.760087,
          -79.760087,
          null,
          -87.5978,
          -87.612915,
          -87.613975,
          -87.747326,
          -87.673248,
          -87.893389,
          -87.847888,
          -87.787013,
          -87.875406,
          -88.111929,
          -88.166964,
          -88.361707,
          -88.644274,
          -89.22106,
          -90.096304,
          -90.176738,
          -90.333912,
          -90.334971,
          -90.39688,
          null,
          -91.228199,
          -91.254657,
          -91.257292,
          -91.28959,
          -91.627709,
          -91.879606,
          -91.949989,
          -92.062153,
          -92.385492,
          -92.505072,
          -92.796656,
          -92.766477,
          -92.765417,
          -92.689221,
          -92.899828,
          -92.756968,
          -92.5437,
          -92.296583,
          -92.264828,
          -92.274879,
          -92.011898,
          null,
          -80.51893,
          -80.516268,
          null,
          -84.806756,
          -84.295056,
          -83.839967,
          -83.462678,
          null,
          -71.853826,
          -71.792951,
          -71.800909,
          null,
          -73.497937,
          -73.553489,
          -73.475174,
          -73.69268,
          -73.656687,
          null,
          -89.498356,
          -89.524272,
          -89.585121,
          -89.662919,
          null,
          -94.628611,
          -94.617501,
          -94.622798,
          null,
          -79.477521,
          -80.51893,
          -80.51893,
          null,
          -82.58901,
          -82.340834,
          -82.210661,
          -82.194797,
          -82.05403,
          -81.91856,
          -81.905874,
          -81.816964,
          -81.785752,
          -81.745005,
          -81.522228,
          -81.401047,
          -81.266094,
          -81.150752,
          -80.878753,
          -80.861829,
          -80.764987,
          -80.661789,
          -80.615229,
          -80.657552,
          -80.51893,
          null,
          -88.166964,
          -89.263926,
          -90.24924,
          null,
          -90.640818,
          -89.620054,
          -88.576552,
          -87.806599,
          null,
          -91.430331,
          -91.517638,
          -91.428212,
          -91.262589,
          -91.071567,
          -90.841375,
          -90.749287,
          -90.665701,
          -90.64981,
          -90.535528,
          -90.346599,
          -90.156094,
          -90.212731,
          -90.305335,
          -90.369879,
          -90.228079,
          -90.030158,
          -89.916909,
          -89.654987,
          -89.553908,
          -89.479287,
          -89.516339,
          -89.388285,
          -89.280333,
          -89.103057,
          null,
          -91.156239,
          -91.084797,
          -91.175799,
          -91.03082,
          -91.072084,
          -90.942971,
          -91.081618,
          -91.128179,
          -91.32132,
          -91.411288,
          -91.50229,
          -91.624531,
          -91.583784,
          -90.701667,
          -89.759219,
          -89.787796,
          -89.853941,
          -89.790457,
          -89.658682,
          -89.623232,
          -89.604706,
          null,
          -114.030528,
          -112.417603,
          -110.496221,
          -109.045225,
          null,
          -84.320972,
          -84.298751,
          -84.087084,
          -84.01776,
          -83.87596,
          -83.673285,
          -83.438338,
          -83.209722,
          -83.110787,
          -82.920282,
          -82.925579,
          -82.674225,
          -82.593248,
          -82.22389,
          -82.051394,
          -81.897399,
          -81.693664,
          -81.704775,
          -81.679376,
          null,
          -83.076371,
          -82.976377,
          -82.436616,
          -81.51427,
          -81.045978,
          -81.03802,
          -80.937483,
          -80.780852,
          -80.783513,
          -79.67278,
          -78.554114,
          null,
          -73.912796,
          -74.679028,
          null,
          -74.679028,
          -74.801268,
          -74.975909,
          -75.135718,
          -75.082259,
          -75.199203,
          -75.203957,
          -75.095488,
          -75.078022,
          -74.763183,
          -74.891754,
          -75.12882,
          -75.200805,
          -75.405573,
          null,
          -95.322884,
          -95.45254,
          -95.608112,
          -95.776371,
          -95.796499,
          null,
          -96.45266,
          -96.439431,
          -96.560612,
          -96.735769,
          -96.834704,
          -96.780728,
          -96.556891,
          -96.539451,
          null,
          -96.455296,
          -96.623037,
          -96.708768,
          -96.75427,
          -97.028387,
          -97.287157,
          -97.644344,
          -97.881927,
          -97.968201,
          -98.335956,
          -98.594183,
          -100.599745,
          -102.099912,
          -104.052558,
          null,
          -89.662919,
          -89.673513,
          -89.775109,
          -89.950266,
          -89.988894,
          -90.147102,
          -90.134932,
          -90.24924,
          null,
          -94.628611,
          -93.412587,
          -92.307177,
          -91.251479,
          -90.112194,
          -90.029099,
          -90.141805,
          -90.253995,
          -90.315386,
          -89.662919,
          null,
          -94.479912,
          -94.451361,
          -94.430174,
          -94.628611,
          null,
          -91.156239,
          -91.108077,
          -91.223444,
          -91.200681,
          -90.982141,
          -90.876308,
          -90.699549,
          -90.584207,
          -90.450313,
          -90.446618,
          -90.268283,
          -90.24924,
          null,
          -91.156239,
          -92.001304,
          -93.094028,
          -94.059757,
          null,
          -88.166964,
          -86.909677,
          -85.625388,
          null,
          -88.166964,
          -88.095522,
          -88.27334,
          -88.449531,
          -88.417802,
          null,
          -71.120382,
          -71.1479,
          -71.305074,
          -71.379152,
          -71.800909,
          null,
          -73.282033,
          -73.497937,
          null,
          -73.497937,
          -72.732222,
          -71.800909,
          null,
          -103.003216,
          -103.001614,
          null,
          -109.045225,
          -109.043649,
          null,
          -111.050245,
          -111.054482,
          -109.053183,
          null,
          -104.045142,
          -104.052558,
          null,
          -104.077957,
          -104.052558,
          null,
          -123.984132,
          -123.776703,
          -123.471373,
          -123.228493,
          -122.937969,
          -122.752243,
          -122.725785,
          -122.651707,
          -122.420455,
          -122.174914,
          -121.78809,
          -121.561076,
          -121.203888,
          -121.04674,
          -120.837192,
          -120.609635,
          -120.158267,
          -119.787308,
          -119.592049,
          -119.337,
          -118.978236,
          -116.915003,
          null,
          -96.539451,
          -96.538908,
          -96.601359,
          -96.685488,
          -96.733651,
          -96.74582,
          -96.779694,
          -96.820415,
          -96.824653,
          -96.844238,
          -96.893977,
          -97.015158,
          -97.131042,
          -97.148509,
          -97.161221,
          -97.127348,
          -97.120475,
          -97.214138,
          -97.228943,
          null,
          -104.026616,
          -102.116862,
          -100.066858,
          -98.441789,
          -96.539451,
          null,
          -84.320972,
          -84.854376,
          -85.625388,
          null,
          -83.076371,
          -83.185925,
          -83.346251,
          -83.076371,
          -82.902815,
          -82.716548,
          -82.597485,
          -82.249289,
          -82.180508,
          -81.943442,
          -81.827015,
          -81.507397,
          -81.435954,
          -81.376707,
          -81.411098,
          -81.22483,
          -81.126412,
          -81.127988,
          -81.036443,
          -80.865007,
          null,
          -84.320972,
          -83.076371,
          null,
          -85.005193,
          -85.054415,
          -85.1179,
          -85.090382,
          -85.065526,
          -85.119502,
          -85.063924,
          -84.898843,
          -84.986151,
          -85.129553,
          -85.365559,
          -85.625388,
          null,
          -77.041235,
          -76.911579,
          -77.0386,
          -77.119551,
          null,
          -75.787642,
          -76.668183,
          -77.523299,
          -78.232919,
          -78.549903,
          -79.477521,
          null,
          -77.722796,
          -77.801654,
          -77.923352,
          -78.232403,
          -78.425001,
          -78.534012,
          -78.829291,
          -78.963159,
          -79.16108,
          -79.332516,
          -79.485995,
          -79.477521,
          null,
          -109.045225,
          -109.053183,
          null,
          -103.003216,
          -102.041182,
          null,
          -102.050174,
          -102.050174,
          -102.048055,
          -104.045142,
          null,
          -103.003216,
          -104.200198,
          -105.899861,
          -107.479971,
          -109.045225,
          null,
          -104.045142,
          -105.046864,
          -107.049739,
          -108.050944,
          -109.053183,
          null,
          -86.824462,
          -86.824462,
          -85.748146,
          -84.807299,
          -84.806756,
          null,
          -84.82368,
          -84.817866,
          -84.809934,
          -84.806756,
          null,
          -87.521371,
          -87.526151,
          -87.52721,
          -87.528269,
          -87.642035,
          -87.559999,
          -87.507082,
          -87.51504,
          -87.598653,
          -87.671129,
          -87.878558,
          -88.018808,
          -88.05108,
          null,
          -91.228199,
          -91.21391,
          -91.083737,
          -91.173163,
          -91.169985,
          -91.129238,
          -91.064694,
          -90.738177,
          -90.640818,
          null,
          -91.228199,
          -92.540005,
          -94.001027,
          -95.359936,
          -96.45266,
          null,
          -95.796499,
          -94.898491,
          -94.002086,
          -92.851665,
          -91.758425,
          -91.567403,
          -91.430331,
          null,
          -90.640818,
          -90.582605,
          -90.464602,
          -90.416982,
          -90.259808,
          -90.156636,
          -90.21007,
          -90.395278,
          -90.461966,
          -90.690557,
          -91.033999,
          -91.123425,
          -90.999065,
          -90.956742,
          -91.087432,
          -91.15412,
          -91.410229,
          -91.430331,
          null,
          -95.796499,
          -95.862102,
          -95.834067,
          -95.855746,
          -95.958427,
          -96.025089,
          -96.097049,
          -96.104464,
          -96.167432,
          -96.348945,
          -96.346827,
          -96.410311,
          -96.455296,
          null,
          -96.455296,
          -96.453719,
          -96.615648,
          -96.535213,
          -96.483356,
          -96.459533,
          -96.58707,
          -96.586011,
          -96.45266,
          null,
          -75.688165,
          -75.60985,
          -75.377538,
          null,
          -77.041235,
          -77.036481,
          -77.119551,
          null,
          -83.673285,
          -82.186322,
          -81.679376,
          null,
          -77.722796,
          -77.834985,
          -78.345626,
          -78.424484,
          -78.548843,
          -78.74462,
          -78.892802,
          -78.965278,
          -79.076408,
          -79.174826,
          -79.222988,
          -79.36639,
          -79.515089,
          -79.647924,
          -79.74368,
          -79.915142,
          -79.964364,
          -80.157505,
          -80.292975,
          -80.276567,
          -80.298246,
          -80.456996,
          -80.596186,
          -80.720003,
          -80.833252,
          -80.85493,
          -81.228008,
          -81.34813,
          -81.663511,
          -81.815388,
          -81.928094,
          -81.972536,
          null,
          -81.679376,
          -79.992399,
          -77.999549,
          -76.941215,
          -75.868077,
          null,
          -77.119551,
          -77.305818,
          -77.516968,
          -77.443407,
          -77.576215,
          -77.722796,
          null,
          -77.041235,
          -77.059219,
          -77.229622,
          -77.343387,
          -77.210579,
          -77.048108,
          -76.989895,
          null,
          -73.282033,
          -73.23971,
          -73.383112,
          -73.401638,
          -73.338128,
          -73.429673,
          -73.329136,
          -73.384172,
          -73.407969,
          -73.368281,
          -73.347662,
          null,
          -72.45707,
          -73.282033,
          null,
          -94.479912,
          -94.910144,
          -95.190592,
          -95.418124,
          -95.769498,
          -95.977469,
          -96.148906,
          -96.316131,
          -96.462711,
          -96.796618,
          -96.947953,
          -97.104067,
          -97.376583,
          -97.657031,
          -97.95709,
          -98.088323,
          -98.553979,
          -98.851893,
          -99.187403,
          -99.336076,
          -99.599083,
          -99.761528,
          -100.000195,
          -100.000195,
          -100.000195,
          -101.000832,
          -102.001495,
          -103.001614,
          null,
          -94.059757,
          -93.998908,
          -93.834861,
          -93.779309,
          -93.69412,
          -93.578236,
          -93.489844,
          -93.586168,
          -93.650195,
          -93.737503,
          -93.664484,
          -93.66712,
          -93.816878,
          -93.918474,
          -93.836463,
          null,
          -94.479912,
          -94.427538,
          -94.233338,
          -94.002086,
          -94.059757,
          null,
          -103.001614,
          -103.001614,
          -103.001614,
          -103.929775,
          -105.730001,
          -106.630127,
          -106.619533,
          -106.507344,
          null,
          -104.026616,
          -104.077957,
          null,
          -111.085178,
          -111.067194,
          -111.071406,
          -109.102379,
          -107.546634,
          -105.745891,
          -104.077957,
          null,
          -104.026616,
          -104.077414,
          -104.092762,
          null,
          -85.005193,
          -87.045663,
          -87.617153,
          -87.633043,
          -87.404969,
          -87.457886,
          -87.530388,
          null,
          -81.490473,
          -81.701597,
          -81.899517,
          -82.020156,
          -82.022817,
          -82.151931,
          -82.226009,
          -83.8479,
          -84.853316,
          -85.005193,
          null,
          -84.82368,
          -84.481324,
          -84.30459,
          -84.038948,
          -83.826738,
          -83.672742,
          -83.434617,
          -83.258943,
          -83.044641,
          -82.855195,
          -82.775278,
          -82.58901,
          null,
          -83.673285,
          -84.350091,
          -85.231149,
          -85.519012,
          -86.092621,
          -86.677882,
          -87.216583,
          -87.842049,
          -87.874346,
          -88.072784,
          -88.069606,
          -89.498356,
          null,
          -89.103057,
          -89.13427,
          -89.115227,
          -89.273977,
          -89.498356,
          null,
          -82.58901,
          -82.569967,
          -82.580561,
          -82.461499,
          -82.413336,
          -82.267299,
          -82.167279,
          -81.972536,
          null,
          -88.05108,
          -88.044207,
          -88.15743,
          -88.071725,
          -88.247399,
          -88.473871,
          -88.435242,
          -88.566475,
          -88.807778,
          -89.073963,
          -89.141685,
          -89.103057,
          null,
          -84.82368,
          -84.881377,
          -84.799883,
          -84.843265,
          -85.01155,
          -85.167638,
          -85.404187,
          -85.425891,
          -85.566632,
          -85.698407,
          -85.83969,
          -86.059832,
          -86.262507,
          -86.325475,
          -86.499573,
          -86.61016,
          -86.825522,
          -87.055714,
          -87.131394,
          -87.43936,
          -87.653662,
          -87.911373,
          -87.921424,
          -88.05108,
          null,
          -83.673285,
          -83.384362,
          -83.178509,
          -83.089083,
          -82.815508,
          -82.709132,
          -82.684792,
          -82.372589,
          -81.972536,
          null,
          -95.322884,
          -95.085302,
          -94.955103,
          -94.926552,
          -95.067292,
          -94.991096,
          -94.867796,
          -94.604814,
          -94.615382,
          -94.622798,
          null,
          -94.622798,
          -95.50016,
          -97.299844,
          -99.10007,
          -100.100215,
          -101.099792,
          -102.041182,
          null,
          -95.322884,
          -96.699777,
          -99.000076,
          -100.300229,
          -102.048055,
          -102.050174,
          null,
          -102.041182,
          -102.040123,
          -102.050174,
          null,
          -75.405573,
          -75.62096,
          -75.710903,
          -75.787642,
          null,
          -75.405573,
          -75.554272,
          -75.527813,
          null,
          -75.787642,
          -75.714624,
          -75.048385,
          null,
          -114.030528,
          -114.034223,
          null,
          -114.030528,
          -114.023629,
          -114.066495,
          -114.13264,
          -114.269169,
          -114.460734,
          -114.671341,
          -114.739606,
          -114.65018,
          -114.650697,
          -114.630052,
          -114.580856,
          -114.642222,
          null,
          -119.998975,
          -117.028252,
          -117.028252,
          null,
          -114.722656,
          -114.589848,
          -114.479777,
          -114.655993,
          -114.691443,
          -114.743301,
          -114.548558,
          -114.469183,
          -114.165972,
          -114.354901,
          -114.484531,
          -114.567084,
          -114.62212,
          -114.642222,
          null,
          -119.998975,
          -124.213808,
          null,
          -119.998975,
          -120.000034,
          -118.11462,
          -116.32075,
          -114.642222,
          null,
          -116.915003,
          -116.906528,
          -116.998073,
          -117.02665,
          -117.03143,
          null,
          -111.050245,
          -114.034223,
          null,
          -111.050245,
          -111.049728,
          -111.085178,
          null,
          -116.915003,
          -116.678997,
          -116.511255,
          -116.457796,
          -116.558875,
          -116.693285,
          -116.836145,
          -117.051532,
          -117.192299,
          -117.194391,
          -117.007607,
          -116.926656,
          -117.013963,
          -117.028252,
          null,
          -111.085178,
          -111.194189,
          -111.291548,
          -111.400016,
          -111.542385,
          -111.771492,
          -112.336135,
          -112.362593,
          -112.690144,
          -112.87481,
          -113.052086,
          -113.174844,
          -113.378578,
          -113.439427,
          -113.502937,
          -113.680213,
          -113.794496,
          -113.914101,
          -114.035799,
          -114.137937,
          -114.335315,
          -114.513651,
          -114.523702,
          -114.407275,
          -114.49143,
          -114.394046,
          -114.284517,
          -114.58561,
          -114.84332,
          -115.12165,
          -115.288332,
          -115.519067,
          -115.704792,
          -115.704276,
          -115.9678,
          -116.048234,
          null,
          -114.034223,
          -117.028252,
          null,
          -70.645734,
          -70.751025,
          -70.797611,
          -70.98176,
          -70.944165,
          -71.072762,
          null,
          -72.45707,
          -71.248979,
          -71.145781,
          -70.933598,
          -70.815052,
          null,
          -72.45707,
          -72.537505,
          -72.458647,
          -72.434307,
          -72.403611,
          -72.369763,
          -72.260209,
          -72.178199,
          -72.059136,
          -72.036373,
          -72.003041,
          -71.809901,
          -71.585522,
          -71.546377,
          -71.620455,
          -71.503511,
          -71.505087,
          null
         ],
         "mode": "lines",
         "showlegend": false,
         "type": "scattergeo"
        }
       ],
       "layout": {
        "coloraxis": {
         "colorbar": {
          "title": {
           "text": "alcohol"
          }
         },
         "colorscale": [
          [
           0,
           "#0d0887"
          ],
          [
           0.1111111111111111,
           "#46039f"
          ],
          [
           0.2222222222222222,
           "#7201a8"
          ],
          [
           0.3333333333333333,
           "#9c179e"
          ],
          [
           0.4444444444444444,
           "#bd3786"
          ],
          [
           0.5555555555555556,
           "#d8576b"
          ],
          [
           0.6666666666666666,
           "#ed7953"
          ],
          [
           0.7777777777777778,
           "#fb9f3a"
          ],
          [
           0.8888888888888888,
           "#fdca26"
          ],
          [
           1,
           "#f0f921"
          ]
         ]
        },
        "geo": {
         "center": {},
         "countrycolor": "Black",
         "domain": {
          "x": [
           0,
           1
          ],
          "y": [
           0,
           1
          ]
         },
         "resolution": 50,
         "scope": "world",
         "showcountries": true,
         "visible": true
        },
        "legend": {
         "itemsizing": "constant",
         "tracegroupgap": 0
        },
        "margin": {
         "t": 60
        },
        "template": {
         "data": {
          "bar": [
           {
            "error_x": {
             "color": "#2a3f5f"
            },
            "error_y": {
             "color": "#2a3f5f"
            },
            "marker": {
             "line": {
              "color": "#E5ECF6",
              "width": 0.5
             },
             "pattern": {
              "fillmode": "overlay",
              "size": 10,
              "solidity": 0.2
             }
            },
            "type": "bar"
           }
          ],
          "barpolar": [
           {
            "marker": {
             "line": {
              "color": "#E5ECF6",
              "width": 0.5
             },
             "pattern": {
              "fillmode": "overlay",
              "size": 10,
              "solidity": 0.2
             }
            },
            "type": "barpolar"
           }
          ],
          "carpet": [
           {
            "aaxis": {
             "endlinecolor": "#2a3f5f",
             "gridcolor": "white",
             "linecolor": "white",
             "minorgridcolor": "white",
             "startlinecolor": "#2a3f5f"
            },
            "baxis": {
             "endlinecolor": "#2a3f5f",
             "gridcolor": "white",
             "linecolor": "white",
             "minorgridcolor": "white",
             "startlinecolor": "#2a3f5f"
            },
            "type": "carpet"
           }
          ],
          "choropleth": [
           {
            "colorbar": {
             "outlinewidth": 0,
             "ticks": ""
            },
            "type": "choropleth"
           }
          ],
          "contour": [
           {
            "colorbar": {
             "outlinewidth": 0,
             "ticks": ""
            },
            "colorscale": [
             [
              0,
              "#0d0887"
             ],
             [
              0.1111111111111111,
              "#46039f"
             ],
             [
              0.2222222222222222,
              "#7201a8"
             ],
             [
              0.3333333333333333,
              "#9c179e"
             ],
             [
              0.4444444444444444,
              "#bd3786"
             ],
             [
              0.5555555555555556,
              "#d8576b"
             ],
             [
              0.6666666666666666,
              "#ed7953"
             ],
             [
              0.7777777777777778,
              "#fb9f3a"
             ],
             [
              0.8888888888888888,
              "#fdca26"
             ],
             [
              1,
              "#f0f921"
             ]
            ],
            "type": "contour"
           }
          ],
          "contourcarpet": [
           {
            "colorbar": {
             "outlinewidth": 0,
             "ticks": ""
            },
            "type": "contourcarpet"
           }
          ],
          "heatmap": [
           {
            "colorbar": {
             "outlinewidth": 0,
             "ticks": ""
            },
            "colorscale": [
             [
              0,
              "#0d0887"
             ],
             [
              0.1111111111111111,
              "#46039f"
             ],
             [
              0.2222222222222222,
              "#7201a8"
             ],
             [
              0.3333333333333333,
              "#9c179e"
             ],
             [
              0.4444444444444444,
              "#bd3786"
             ],
             [
              0.5555555555555556,
              "#d8576b"
             ],
             [
              0.6666666666666666,
              "#ed7953"
             ],
             [
              0.7777777777777778,
              "#fb9f3a"
             ],
             [
              0.8888888888888888,
              "#fdca26"
             ],
             [
              1,
              "#f0f921"
             ]
            ],
            "type": "heatmap"
           }
          ],
          "heatmapgl": [
           {
            "colorbar": {
             "outlinewidth": 0,
             "ticks": ""
            },
            "colorscale": [
             [
              0,
              "#0d0887"
             ],
             [
              0.1111111111111111,
              "#46039f"
             ],
             [
              0.2222222222222222,
              "#7201a8"
             ],
             [
              0.3333333333333333,
              "#9c179e"
             ],
             [
              0.4444444444444444,
              "#bd3786"
             ],
             [
              0.5555555555555556,
              "#d8576b"
             ],
             [
              0.6666666666666666,
              "#ed7953"
             ],
             [
              0.7777777777777778,
              "#fb9f3a"
             ],
             [
              0.8888888888888888,
              "#fdca26"
             ],
             [
              1,
              "#f0f921"
             ]
            ],
            "type": "heatmapgl"
           }
          ],
          "histogram": [
           {
            "marker": {
             "pattern": {
              "fillmode": "overlay",
              "size": 10,
              "solidity": 0.2
             }
            },
            "type": "histogram"
           }
          ],
          "histogram2d": [
           {
            "colorbar": {
             "outlinewidth": 0,
             "ticks": ""
            },
            "colorscale": [
             [
              0,
              "#0d0887"
             ],
             [
              0.1111111111111111,
              "#46039f"
             ],
             [
              0.2222222222222222,
              "#7201a8"
             ],
             [
              0.3333333333333333,
              "#9c179e"
             ],
             [
              0.4444444444444444,
              "#bd3786"
             ],
             [
              0.5555555555555556,
              "#d8576b"
             ],
             [
              0.6666666666666666,
              "#ed7953"
             ],
             [
              0.7777777777777778,
              "#fb9f3a"
             ],
             [
              0.8888888888888888,
              "#fdca26"
             ],
             [
              1,
              "#f0f921"
             ]
            ],
            "type": "histogram2d"
           }
          ],
          "histogram2dcontour": [
           {
            "colorbar": {
             "outlinewidth": 0,
             "ticks": ""
            },
            "colorscale": [
             [
              0,
              "#0d0887"
             ],
             [
              0.1111111111111111,
              "#46039f"
             ],
             [
              0.2222222222222222,
              "#7201a8"
             ],
             [
              0.3333333333333333,
              "#9c179e"
             ],
             [
              0.4444444444444444,
              "#bd3786"
             ],
             [
              0.5555555555555556,
              "#d8576b"
             ],
             [
              0.6666666666666666,
              "#ed7953"
             ],
             [
              0.7777777777777778,
              "#fb9f3a"
             ],
             [
              0.8888888888888888,
              "#fdca26"
             ],
             [
              1,
              "#f0f921"
             ]
            ],
            "type": "histogram2dcontour"
           }
          ],
          "mesh3d": [
           {
            "colorbar": {
             "outlinewidth": 0,
             "ticks": ""
            },
            "type": "mesh3d"
           }
          ],
          "parcoords": [
           {
            "line": {
             "colorbar": {
              "outlinewidth": 0,
              "ticks": ""
             }
            },
            "type": "parcoords"
           }
          ],
          "pie": [
           {
            "automargin": true,
            "type": "pie"
           }
          ],
          "scatter": [
           {
            "fillpattern": {
             "fillmode": "overlay",
             "size": 10,
             "solidity": 0.2
            },
            "type": "scatter"
           }
          ],
          "scatter3d": [
           {
            "line": {
             "colorbar": {
              "outlinewidth": 0,
              "ticks": ""
             }
            },
            "marker": {
             "colorbar": {
              "outlinewidth": 0,
              "ticks": ""
             }
            },
            "type": "scatter3d"
           }
          ],
          "scattercarpet": [
           {
            "marker": {
             "colorbar": {
              "outlinewidth": 0,
              "ticks": ""
             }
            },
            "type": "scattercarpet"
           }
          ],
          "scattergeo": [
           {
            "marker": {
             "colorbar": {
              "outlinewidth": 0,
              "ticks": ""
             }
            },
            "type": "scattergeo"
           }
          ],
          "scattergl": [
           {
            "marker": {
             "colorbar": {
              "outlinewidth": 0,
              "ticks": ""
             }
            },
            "type": "scattergl"
           }
          ],
          "scattermapbox": [
           {
            "marker": {
             "colorbar": {
              "outlinewidth": 0,
              "ticks": ""
             }
            },
            "type": "scattermapbox"
           }
          ],
          "scatterpolar": [
           {
            "marker": {
             "colorbar": {
              "outlinewidth": 0,
              "ticks": ""
             }
            },
            "type": "scatterpolar"
           }
          ],
          "scatterpolargl": [
           {
            "marker": {
             "colorbar": {
              "outlinewidth": 0,
              "ticks": ""
             }
            },
            "type": "scatterpolargl"
           }
          ],
          "scatterternary": [
           {
            "marker": {
             "colorbar": {
              "outlinewidth": 0,
              "ticks": ""
             }
            },
            "type": "scatterternary"
           }
          ],
          "surface": [
           {
            "colorbar": {
             "outlinewidth": 0,
             "ticks": ""
            },
            "colorscale": [
             [
              0,
              "#0d0887"
             ],
             [
              0.1111111111111111,
              "#46039f"
             ],
             [
              0.2222222222222222,
              "#7201a8"
             ],
             [
              0.3333333333333333,
              "#9c179e"
             ],
             [
              0.4444444444444444,
              "#bd3786"
             ],
             [
              0.5555555555555556,
              "#d8576b"
             ],
             [
              0.6666666666666666,
              "#ed7953"
             ],
             [
              0.7777777777777778,
              "#fb9f3a"
             ],
             [
              0.8888888888888888,
              "#fdca26"
             ],
             [
              1,
              "#f0f921"
             ]
            ],
            "type": "surface"
           }
          ],
          "table": [
           {
            "cells": {
             "fill": {
              "color": "#EBF0F8"
             },
             "line": {
              "color": "white"
             }
            },
            "header": {
             "fill": {
              "color": "#C8D4E3"
             },
             "line": {
              "color": "white"
             }
            },
            "type": "table"
           }
          ]
         },
         "layout": {
          "annotationdefaults": {
           "arrowcolor": "#2a3f5f",
           "arrowhead": 0,
           "arrowwidth": 1
          },
          "autotypenumbers": "strict",
          "coloraxis": {
           "colorbar": {
            "outlinewidth": 0,
            "ticks": ""
           }
          },
          "colorscale": {
           "diverging": [
            [
             0,
             "#8e0152"
            ],
            [
             0.1,
             "#c51b7d"
            ],
            [
             0.2,
             "#de77ae"
            ],
            [
             0.3,
             "#f1b6da"
            ],
            [
             0.4,
             "#fde0ef"
            ],
            [
             0.5,
             "#f7f7f7"
            ],
            [
             0.6,
             "#e6f5d0"
            ],
            [
             0.7,
             "#b8e186"
            ],
            [
             0.8,
             "#7fbc41"
            ],
            [
             0.9,
             "#4d9221"
            ],
            [
             1,
             "#276419"
            ]
           ],
           "sequential": [
            [
             0,
             "#0d0887"
            ],
            [
             0.1111111111111111,
             "#46039f"
            ],
            [
             0.2222222222222222,
             "#7201a8"
            ],
            [
             0.3333333333333333,
             "#9c179e"
            ],
            [
             0.4444444444444444,
             "#bd3786"
            ],
            [
             0.5555555555555556,
             "#d8576b"
            ],
            [
             0.6666666666666666,
             "#ed7953"
            ],
            [
             0.7777777777777778,
             "#fb9f3a"
            ],
            [
             0.8888888888888888,
             "#fdca26"
            ],
            [
             1,
             "#f0f921"
            ]
           ],
           "sequentialminus": [
            [
             0,
             "#0d0887"
            ],
            [
             0.1111111111111111,
             "#46039f"
            ],
            [
             0.2222222222222222,
             "#7201a8"
            ],
            [
             0.3333333333333333,
             "#9c179e"
            ],
            [
             0.4444444444444444,
             "#bd3786"
            ],
            [
             0.5555555555555556,
             "#d8576b"
            ],
            [
             0.6666666666666666,
             "#ed7953"
            ],
            [
             0.7777777777777778,
             "#fb9f3a"
            ],
            [
             0.8888888888888888,
             "#fdca26"
            ],
            [
             1,
             "#f0f921"
            ]
           ]
          },
          "colorway": [
           "#636efa",
           "#EF553B",
           "#00cc96",
           "#ab63fa",
           "#FFA15A",
           "#19d3f3",
           "#FF6692",
           "#B6E880",
           "#FF97FF",
           "#FECB52"
          ],
          "font": {
           "color": "#2a3f5f"
          },
          "geo": {
           "bgcolor": "white",
           "lakecolor": "white",
           "landcolor": "#E5ECF6",
           "showlakes": true,
           "showland": true,
           "subunitcolor": "white"
          },
          "hoverlabel": {
           "align": "left"
          },
          "hovermode": "closest",
          "mapbox": {
           "style": "light"
          },
          "paper_bgcolor": "white",
          "plot_bgcolor": "#E5ECF6",
          "polar": {
           "angularaxis": {
            "gridcolor": "white",
            "linecolor": "white",
            "ticks": ""
           },
           "bgcolor": "#E5ECF6",
           "radialaxis": {
            "gridcolor": "white",
            "linecolor": "white",
            "ticks": ""
           }
          },
          "scene": {
           "xaxis": {
            "backgroundcolor": "#E5ECF6",
            "gridcolor": "white",
            "gridwidth": 2,
            "linecolor": "white",
            "showbackground": true,
            "ticks": "",
            "zerolinecolor": "white"
           },
           "yaxis": {
            "backgroundcolor": "#E5ECF6",
            "gridcolor": "white",
            "gridwidth": 2,
            "linecolor": "white",
            "showbackground": true,
            "ticks": "",
            "zerolinecolor": "white"
           },
           "zaxis": {
            "backgroundcolor": "#E5ECF6",
            "gridcolor": "white",
            "gridwidth": 2,
            "linecolor": "white",
            "showbackground": true,
            "ticks": "",
            "zerolinecolor": "white"
           }
          },
          "shapedefaults": {
           "line": {
            "color": "#2a3f5f"
           }
          },
          "ternary": {
           "aaxis": {
            "gridcolor": "white",
            "linecolor": "white",
            "ticks": ""
           },
           "baxis": {
            "gridcolor": "white",
            "linecolor": "white",
            "ticks": ""
           },
           "bgcolor": "#E5ECF6",
           "caxis": {
            "gridcolor": "white",
            "linecolor": "white",
            "ticks": ""
           }
          },
          "title": {
           "x": 0.05
          },
          "xaxis": {
           "automargin": true,
           "gridcolor": "white",
           "linecolor": "white",
           "ticks": "",
           "title": {
            "standoff": 15
           },
           "zerolinecolor": "white",
           "zerolinewidth": 2
          },
          "yaxis": {
           "automargin": true,
           "gridcolor": "white",
           "linecolor": "white",
           "ticks": "",
           "title": {
            "standoff": 15
           },
           "zerolinecolor": "white",
           "zerolinewidth": 2
          }
         }
        }
       }
      },
      "text/html": [
       "<div>                            <div id=\"24bc4ddc-81c6-4b3d-901a-57836618a26c\" class=\"plotly-graph-div\" style=\"height:525px; width:100%;\"></div>            <script type=\"text/javascript\">                require([\"plotly\"], function(Plotly) {                    window.PLOTLYENV=window.PLOTLYENV || {};                                    if (document.getElementById(\"24bc4ddc-81c6-4b3d-901a-57836618a26c\")) {                    Plotly.newPlot(                        \"24bc4ddc-81c6-4b3d-901a-57836618a26c\",                        [{\"geo\":\"geo\",\"hovertemplate\":\"<b>%{hovertext}</b><br><br>alcohol=%{marker.color}<br>LATITUDE=%{lat}<br>LONGITUDE=%{lon}<extra></extra>\",\"hovertext\":[\"AL\",\"AK\",\"AZ\",\"AR\",\"CA\",\"CO\",\"CT\",\"DE\",\"DC\",\"FL\",\"GA\",\"HI\",\"ID\",\"IL\",\"IN\",\"IA\",\"KS\",\"KY\",\"LA\",\"ME\",\"MD\",\"MA\",\"MI\",\"MN\",\"MS\",\"MO\",\"MT\",\"NE\",\"NV\",\"NH\",\"NJ\",\"NM\",\"NY\",\"NC\",\"ND\",\"OH\",\"OK\",\"OR\",\"PA\",\"RI\",\"SC\",\"SD\",\"TN\",\"TX\",\"UT\",\"VT\",\"VA\",\"WA\",\"WV\",\"WI\",\"WY\"],\"lat\":[32.9798035,61.409802,33.825188999999995,35.278806,37.3503575,39.312654,41.632988,39.071389,38.895,28.740850000000002,32.985278,21.166561,43.930751,40.411574,39.8842465,42.0367315,38.502247999999994,37.433056,30.807703500000002,44.419489,39.134539,42.253909,43.222682,45.387694,33.162388,38.298619,47.0163065,41.100186,39.0775715,43.353228,40.494107,35.079912500000006,42.4725335,35.575884,47.537023,40.426061,35.4504225,44.6279315,40.552621,41.701516999999996,34.030833,44.245722,35.9195015,31.502639000000002,39.76522,44.104565,37.569811,47.370029,38.367109,44.1991925,42.8644395],\"legendgroup\":\"\",\"lon\":[-86.81063900000001,-154.381247,-111.42363499999999,-92.29751,-120.523828,-105.21426,-72.72493,-75.572605,-77.017691,-82.0583885,-83.730388,-157.1492075,-115.675556,-89.055228,-86.280399,-93.34343150000001,-97.1810125,-84.43358,-91.97763850000001,-69.52514,-76.659844,-71.26,-84.76882,-94.197383,-89.693611,-92.561925,-110.678943,-97.87385,-116.94328999999999,-71.554722,-74.525306,-106.0750735,-74.6793245,-79.308889,-99.371564,-82.663492,-96.887305,-122.783119,-77.469836,-71.53320400000001,-81.066865,-98.474251,-86.337923,-97.43171749999999,-111.8983285,-72.6291155,-78.169801,-121.9595215,-81.1195975,-89.504933,-107.303017],\"marker\":{\"color\":[5.64,4.525,5.208000000000001,5.824,3.36,3.808,3.888,4.86,1.5930000000000002,5.190999999999999,3.9,7.175,4.437,4.352,4.205,3.925,4.272,4.922,6.765,4.53,4.0,2.87,3.948,2.784,5.456,5.474000000000001,9.416,5.215,4.704,3.48,3.136,4.968,3.5670000000000006,5.208000000000001,10.038,4.794,5.770999999999999,3.3280000000000003,5.642,4.218,9.799,6.401999999999999,5.655,7.371999999999999,1.808,4.08,3.429,3.498,6.664,4.554,5.568],\"coloraxis\":\"coloraxis\",\"size\":[5.64,4.525,5.208000000000001,5.824,3.36,3.808,3.888,4.86,1.5930000000000002,5.190999999999999,3.9,7.175,4.437,4.352,4.205,3.925,4.272,4.922,6.765,4.53,4.0,2.87,3.948,2.784,5.456,5.474000000000001,9.416,5.215,4.704,3.48,3.136,4.968,3.5670000000000006,5.208000000000001,10.038,4.794,5.770999999999999,3.3280000000000003,5.642,4.218,9.799,6.401999999999999,5.655,7.371999999999999,1.808,4.08,3.429,3.498,6.664,4.554,5.568],\"sizemode\":\"area\",\"sizeref\":0.025095,\"symbol\":\"circle\"},\"mode\":\"markers\",\"name\":\"\",\"showlegend\":false,\"type\":\"scattergeo\"},{\"lat\":[41.355486,41.426386,41.49571,41.641231,41.751302,41.841787,41.998961,42.000537,42.000021,42.000021,42.238378,null,45.106291,45.110451,45.108875,45.226878,45.387747,45.396713,45.559183,45.639618,45.779842,45.843352,46.007916,46.020628,46.022204,46.202116,46.380994,46.560879,46.593694,46.596872,46.576253,null,43.501247,43.613979,43.854739,43.937293,44.085449,44.257428,44.364838,44.432585,44.574928,44.58392,44.776027,44.996143,45.267082,45.518436,45.705763,45.889912,45.985695,46.096282,46.095223,46.656145,46.711723,null,40.641111,41.957517,null,41.677741,41.685156,41.685156,41.694148,null,41.320036,41.466617,42.01325,null,42.054513,41.289857,41.204669,41.10731,40.98507,null,36.506196,36.409354,36.267011,36.023073,null,36.540586,36.999912,36.999912,null,39.720883,39.720883,40.641111,null,38.415433,38.440832,38.57948,38.801198,39.018161,38.993796,38.882149,38.921836,39.019221,39.199649,39.371628,39.349407,39.377442,39.426147,39.654221,39.757393,39.973297,40.233643,40.463835,40.59083,40.641111,null,34.999673,35.021351,35.020834,null,42.505364,42.505364,42.503246,42.494254,null,40.368596,40.119877,39.820903,39.61505,39.44519,39.310779,39.265278,39.074773,38.907548,38.865768,38.930311,38.769443,38.584777,38.439256,38.263556,38.113281,37.971998,37.968277,37.748678,37.719042,37.477222,37.326921,37.081406,37.107348,36.952293,null,33.010001,32.952847,32.808385,32.602532,32.478716,32.306736,32.204598,32.015695,31.85958,31.650032,31.408729,31.297082,31.04733,31.015575,31.013456,30.847291,30.683244,30.556791,30.440881,30.275258,30.176298,null,36.994099,37.009421,37.007328,36.999912,null,34.98696,35.198627,35.261595,35.369004,35.490211,35.51667,35.562687,35.648961,35.737328,35.81722,35.889722,36.025192,35.937342,36.125728,36.106143,36.27391,36.317293,36.460152,36.585571,null,34.979028,35.008664,35.180101,35.171652,35.125608,35.037242,35.103387,34.934044,34.817643,34.807566,33.861422,null,40.960187,41.355486,null,41.355486,41.311561,41.087725,40.999875,40.869702,40.747461,40.586619,40.55538,40.449547,40.190777,40.081791,39.9495,39.887049,39.795504,null,40.001357,40.215143,40.343171,40.501404,40.583957,null,43.501789,44.435763,45.393018,45.470817,45.625329,45.760799,45.872446,46.017967,null,42.488957,42.502729,42.550866,42.633961,42.717548,42.846145,42.836094,42.839789,42.794287,42.873662,43.00014,43.00014,43.00014,43.00014,null,36.023073,35.940003,35.799236,35.701878,35.536229,35.404997,35.113955,35.020834,null,36.540586,36.526298,36.523662,36.523146,36.461754,36.337937,36.230502,36.12255,36.023073,36.023073,null,33.635983,34.51071,35.483312,36.540586,null,33.010001,33.206836,33.469327,33.706393,34.055105,34.261475,34.397461,34.454099,34.72186,34.866838,34.941459,35.020834,null,33.010001,33.043875,33.010518,33.01212,null,34.999673,34.99913,34.985901,null,34.999673,34.805989,33.510048,31.91198,30.384812,null,41.494651,41.647587,41.762412,42.02436,42.01325,null,42.743489,42.054513,null,42.054513,42.035987,42.01325,null,36.995158,36.499323,null,36.999912,31.339948,null,42.001597,41.027935,41.001994,null,41.004112,43.00014,null,45.04061,43.00014,null,46.268261,46.282033,46.277253,46.186251,46.129097,45.938075,45.770333,45.630083,45.591998,45.59515,45.700983,45.732764,45.689899,45.637499,45.672949,45.7539,45.740671,45.850768,45.932235,45.888336,45.992568,45.999983,null,46.017967,46.19948,46.351357,46.513285,46.716477,46.944525,46.999044,47.292204,47.426614,47.546194,47.748869,47.954205,48.137295,48.318782,48.514584,48.642122,48.758523,48.902442,49.000885,null,45.956601,45.961355,45.965567,45.963448,46.017967,null,34.98696,34.976909,34.985901,null,34.979028,34.895958,34.706512,34.540347,34.479498,34.163057,33.985781,33.748716,33.624356,33.461369,33.223244,33.021628,32.793037,32.68245,32.608888,32.49936,32.312033,32.121528,32.084476,32.033161,null,34.98696,34.979028,null,30.990693,31.108696,31.236233,31.40028,31.577013,31.7654,32.083417,32.259117,32.437969,32.750714,33.744478,34.985901,null,38.789545,38.878454,38.982169,38.934006,null,39.723545,39.720883,39.725663,39.7214,39.719824,39.720883,null,39.322432,39.449944,39.592829,39.672204,39.596524,39.522446,39.56265,39.457902,39.418214,39.302847,39.213421,39.720883,null,36.999912,41.001994,null,36.995158,36.99198,null,40.000815,40.033086,41.004112,41.004112,null,36.995158,36.996192,36.997277,36.999912,36.999912,null,41.004112,41.003596,41.002536,41.002536,41.001994,null,41.760836,41.756056,41.751302,41.756056,41.677741,null,39.106528,39.799742,40.77286,41.677741,null,41.708436,41.708436,40.550083,39.392273,39.113944,39.040382,38.869462,38.735052,38.674203,38.50858,38.290557,38.021736,37.819604,null,43.501247,43.446754,43.288004,43.212324,43.002233,42.912833,42.754083,42.658275,42.505364,null,43.501247,43.519773,43.513417,43.500187,43.501789,null,40.583957,40.58344,40.585017,40.592432,40.61411,40.452208,40.368596,null,42.505364,42.429168,42.37837,42.270418,42.189983,42.103735,41.834914,41.608417,41.536457,41.478786,41.429565,41.257585,41.179812,41.024757,40.851719,40.699842,40.551143,40.368596,null,40.583957,40.764928,40.943806,41.116302,41.404708,41.524287,41.556559,41.787811,41.953434,42.141821,42.224374,42.38948,42.488957,null,42.488957,42.580502,42.691632,42.855679,43.016005,43.1245,43.257308,43.501247,43.501789,null,37.931768,38.000032,38.01538,null,38.789545,38.848275,38.934006,null,36.599859,36.565985,36.585571,null,39.322432,39.134562,39.405502,39.139317,39.03984,38.90915,38.780036,38.821817,38.680017,38.555657,38.464629,38.426027,38.497444,38.574726,38.35722,38.179427,38.031787,37.901098,37.728059,37.610573,37.519028,37.441772,37.45606,37.383041,37.418492,37.329065,37.245453,37.315836,37.195172,37.275606,37.366092,37.535952,null,36.585571,36.542188,36.537434,36.545883,36.55118,null,38.934006,39.045679,39.105985,39.213421,39.288558,39.322432,null,38.789545,38.708594,38.614413,38.39161,38.337118,38.3805,38.239733,null,42.743489,43.567935,43.575351,43.613436,43.75844,44.019846,44.226732,44.379152,44.676007,44.804604,45.007253,null,42.727082,42.743489,null,33.635983,33.831785,33.938161,33.870414,33.881007,33.879431,33.797937,33.756131,33.805327,33.751351,33.918059,33.773598,33.838142,33.993713,33.893694,34.13448,34.110657,34.164633,34.235559,34.442963,34.3763,34.457794,34.565229,35.519848,36.499323,36.499323,36.499323,36.499323,null,33.01212,31.94265,31.829944,31.675431,31.443662,31.216131,31.079602,30.71394,30.605471,30.366803,30.30014,30.100644,29.968352,29.821772,29.68948,null,33.635983,33.57038,33.583609,33.579914,33.01212,null,36.499323,33.879948,31.999287,31.999287,31.999287,31.999287,31.914099,31.754289,null,45.956601,45.04061,null,44.506147,44.541597,45.049602,45.057018,45.045881,45.051178,45.04061,null,45.956601,47.171565,49.00564,null,30.990693,30.984879,30.927725,30.851528,30.608649,30.411271,30.274199,null,30.72983,30.74833,30.821892,30.788018,30.440364,30.350938,30.525553,30.675311,30.721355,30.990693,null,39.106528,39.083248,38.986923,38.760994,38.690068,38.609117,38.637151,38.57948,38.634515,38.65144,38.511216,38.415433,null,36.599859,36.567045,36.60991,36.597741,36.625775,36.633733,36.639004,36.61097,36.656497,36.654378,36.497204,36.506196,null,36.952293,36.851756,36.694582,36.611512,36.506196,null,38.415433,38.320194,38.113281,37.957167,37.805315,37.675659,37.554478,37.535952,null,37.819604,37.744983,37.605819,37.511612,37.438594,37.354981,37.136442,37.053888,37.146493,37.200469,37.103627,36.952293,null,39.106528,39.059425,38.855174,38.781096,38.779494,38.691127,38.72712,38.535038,38.461994,38.290015,38.258802,37.960887,38.046619,38.169376,37.969879,37.858749,37.976235,37.88097,37.783611,37.936005,37.826477,37.90425,37.793662,37.819604,null,36.599859,36.656497,36.718379,36.815763,36.934826,37.040143,37.121094,37.238037,37.535952,null,40.001357,39.868006,39.870125,39.725121,39.539912,39.444673,39.234582,39.139859,38.068839,36.999912,null,36.999912,36.998853,36.997277,36.995158,36.994099,36.993039,36.99198,null,40.001357,40.001357,40.000815,40.000815,40.000815,40.000815,null,36.99198,38.459875,40.000815,null,39.795504,39.847361,39.802377,39.723545,null,39.795504,39.691247,39.498649,null,39.723545,38.449307,38.448765,null,36.994099,41.993122,null,36.994099,36.189755,36.156424,36.004004,36.043692,36.114618,36.114618,35.991318,35.854272,35.63891,35.445227,35.249425,35.053106,null,41.992605,41.997359,42.000021,null,32.717357,32.716298,32.916337,33.0539,33.203684,33.379875,33.609525,34.067275,34.272585,34.464667,34.653053,34.82821,34.96368,35.053106,null,41.992605,41.999478,null,41.992605,38.995398,37.644421,36.322047,35.053106,null,45.999983,46.177776,46.33017,47.722927,48.999309,null,42.001597,41.993122,null,42.001597,44.488163,44.506147,null,45.999983,45.807359,45.726408,45.574531,45.444358,45.186648,44.863851,44.665956,44.438942,44.279132,44.21141,44.081211,43.797069,42.000021,null,44.506147,44.561156,44.701406,44.728924,44.530486,44.498214,44.56064,44.462222,44.498731,44.360083,44.619912,44.765433,44.789773,44.862792,45.124223,45.249073,45.564997,45.702585,45.730103,45.589336,45.470274,45.569234,45.825369,45.889912,46.14708,46.410087,46.631805,46.641339,46.786318,47.095369,47.250398,47.345121,47.50493,47.684842,47.950484,49.000369,null,41.993122,42.000021,null,43.090083,43.080032,43.219739,43.367896,43.466339,45.286125,null,42.727082,42.718091,42.816508,42.884256,42.865187,null,42.727082,42.830797,42.960453,43.222918,43.285369,43.521892,43.721388,43.808696,44.045761,44.20663,44.304014,44.352151,44.468035,44.592395,44.735797,45.007796,45.008312,null],\"line\":{\"color\":\"brown\",\"width\":1},\"lon\":[-74.679028,-74.840439,-75.010816,-75.075386,-75.048928,-75.16799,-75.385471,-76.743837,-78.200648,-79.760087,-79.760087,null,-87.5978,-87.612915,-87.613975,-87.747326,-87.673248,-87.893389,-87.847888,-87.787013,-87.875406,-88.111929,-88.166964,-88.361707,-88.644274,-89.22106,-90.096304,-90.176738,-90.333912,-90.334971,-90.39688,null,-91.228199,-91.254657,-91.257292,-91.28959,-91.627709,-91.879606,-91.949989,-92.062153,-92.385492,-92.505072,-92.796656,-92.766477,-92.765417,-92.689221,-92.899828,-92.756968,-92.5437,-92.296583,-92.264828,-92.274879,-92.011898,null,-80.51893,-80.516268,null,-84.806756,-84.295056,-83.839967,-83.462678,null,-71.853826,-71.792951,-71.800909,null,-73.497937,-73.553489,-73.475174,-73.69268,-73.656687,null,-89.498356,-89.524272,-89.585121,-89.662919,null,-94.628611,-94.617501,-94.622798,null,-79.477521,-80.51893,-80.51893,null,-82.58901,-82.340834,-82.210661,-82.194797,-82.05403,-81.91856,-81.905874,-81.816964,-81.785752,-81.745005,-81.522228,-81.401047,-81.266094,-81.150752,-80.878753,-80.861829,-80.764987,-80.661789,-80.615229,-80.657552,-80.51893,null,-88.166964,-89.263926,-90.24924,null,-90.640818,-89.620054,-88.576552,-87.806599,null,-91.430331,-91.517638,-91.428212,-91.262589,-91.071567,-90.841375,-90.749287,-90.665701,-90.64981,-90.535528,-90.346599,-90.156094,-90.212731,-90.305335,-90.369879,-90.228079,-90.030158,-89.916909,-89.654987,-89.553908,-89.479287,-89.516339,-89.388285,-89.280333,-89.103057,null,-91.156239,-91.084797,-91.175799,-91.03082,-91.072084,-90.942971,-91.081618,-91.128179,-91.32132,-91.411288,-91.50229,-91.624531,-91.583784,-90.701667,-89.759219,-89.787796,-89.853941,-89.790457,-89.658682,-89.623232,-89.604706,null,-114.030528,-112.417603,-110.496221,-109.045225,null,-84.320972,-84.298751,-84.087084,-84.01776,-83.87596,-83.673285,-83.438338,-83.209722,-83.110787,-82.920282,-82.925579,-82.674225,-82.593248,-82.22389,-82.051394,-81.897399,-81.693664,-81.704775,-81.679376,null,-83.076371,-82.976377,-82.436616,-81.51427,-81.045978,-81.03802,-80.937483,-80.780852,-80.783513,-79.67278,-78.554114,null,-73.912796,-74.679028,null,-74.679028,-74.801268,-74.975909,-75.135718,-75.082259,-75.199203,-75.203957,-75.095488,-75.078022,-74.763183,-74.891754,-75.12882,-75.200805,-75.405573,null,-95.322884,-95.45254,-95.608112,-95.776371,-95.796499,null,-96.45266,-96.439431,-96.560612,-96.735769,-96.834704,-96.780728,-96.556891,-96.539451,null,-96.455296,-96.623037,-96.708768,-96.75427,-97.028387,-97.287157,-97.644344,-97.881927,-97.968201,-98.335956,-98.594183,-100.599745,-102.099912,-104.052558,null,-89.662919,-89.673513,-89.775109,-89.950266,-89.988894,-90.147102,-90.134932,-90.24924,null,-94.628611,-93.412587,-92.307177,-91.251479,-90.112194,-90.029099,-90.141805,-90.253995,-90.315386,-89.662919,null,-94.479912,-94.451361,-94.430174,-94.628611,null,-91.156239,-91.108077,-91.223444,-91.200681,-90.982141,-90.876308,-90.699549,-90.584207,-90.450313,-90.446618,-90.268283,-90.24924,null,-91.156239,-92.001304,-93.094028,-94.059757,null,-88.166964,-86.909677,-85.625388,null,-88.166964,-88.095522,-88.27334,-88.449531,-88.417802,null,-71.120382,-71.1479,-71.305074,-71.379152,-71.800909,null,-73.282033,-73.497937,null,-73.497937,-72.732222,-71.800909,null,-103.003216,-103.001614,null,-109.045225,-109.043649,null,-111.050245,-111.054482,-109.053183,null,-104.045142,-104.052558,null,-104.077957,-104.052558,null,-123.984132,-123.776703,-123.471373,-123.228493,-122.937969,-122.752243,-122.725785,-122.651707,-122.420455,-122.174914,-121.78809,-121.561076,-121.203888,-121.04674,-120.837192,-120.609635,-120.158267,-119.787308,-119.592049,-119.337,-118.978236,-116.915003,null,-96.539451,-96.538908,-96.601359,-96.685488,-96.733651,-96.74582,-96.779694,-96.820415,-96.824653,-96.844238,-96.893977,-97.015158,-97.131042,-97.148509,-97.161221,-97.127348,-97.120475,-97.214138,-97.228943,null,-104.026616,-102.116862,-100.066858,-98.441789,-96.539451,null,-84.320972,-84.854376,-85.625388,null,-83.076371,-83.185925,-83.346251,-83.076371,-82.902815,-82.716548,-82.597485,-82.249289,-82.180508,-81.943442,-81.827015,-81.507397,-81.435954,-81.376707,-81.411098,-81.22483,-81.126412,-81.127988,-81.036443,-80.865007,null,-84.320972,-83.076371,null,-85.005193,-85.054415,-85.1179,-85.090382,-85.065526,-85.119502,-85.063924,-84.898843,-84.986151,-85.129553,-85.365559,-85.625388,null,-77.041235,-76.911579,-77.0386,-77.119551,null,-75.787642,-76.668183,-77.523299,-78.232919,-78.549903,-79.477521,null,-77.722796,-77.801654,-77.923352,-78.232403,-78.425001,-78.534012,-78.829291,-78.963159,-79.16108,-79.332516,-79.485995,-79.477521,null,-109.045225,-109.053183,null,-103.003216,-102.041182,null,-102.050174,-102.050174,-102.048055,-104.045142,null,-103.003216,-104.200198,-105.899861,-107.479971,-109.045225,null,-104.045142,-105.046864,-107.049739,-108.050944,-109.053183,null,-86.824462,-86.824462,-85.748146,-84.807299,-84.806756,null,-84.82368,-84.817866,-84.809934,-84.806756,null,-87.521371,-87.526151,-87.52721,-87.528269,-87.642035,-87.559999,-87.507082,-87.51504,-87.598653,-87.671129,-87.878558,-88.018808,-88.05108,null,-91.228199,-91.21391,-91.083737,-91.173163,-91.169985,-91.129238,-91.064694,-90.738177,-90.640818,null,-91.228199,-92.540005,-94.001027,-95.359936,-96.45266,null,-95.796499,-94.898491,-94.002086,-92.851665,-91.758425,-91.567403,-91.430331,null,-90.640818,-90.582605,-90.464602,-90.416982,-90.259808,-90.156636,-90.21007,-90.395278,-90.461966,-90.690557,-91.033999,-91.123425,-90.999065,-90.956742,-91.087432,-91.15412,-91.410229,-91.430331,null,-95.796499,-95.862102,-95.834067,-95.855746,-95.958427,-96.025089,-96.097049,-96.104464,-96.167432,-96.348945,-96.346827,-96.410311,-96.455296,null,-96.455296,-96.453719,-96.615648,-96.535213,-96.483356,-96.459533,-96.58707,-96.586011,-96.45266,null,-75.688165,-75.60985,-75.377538,null,-77.041235,-77.036481,-77.119551,null,-83.673285,-82.186322,-81.679376,null,-77.722796,-77.834985,-78.345626,-78.424484,-78.548843,-78.74462,-78.892802,-78.965278,-79.076408,-79.174826,-79.222988,-79.36639,-79.515089,-79.647924,-79.74368,-79.915142,-79.964364,-80.157505,-80.292975,-80.276567,-80.298246,-80.456996,-80.596186,-80.720003,-80.833252,-80.85493,-81.228008,-81.34813,-81.663511,-81.815388,-81.928094,-81.972536,null,-81.679376,-79.992399,-77.999549,-76.941215,-75.868077,null,-77.119551,-77.305818,-77.516968,-77.443407,-77.576215,-77.722796,null,-77.041235,-77.059219,-77.229622,-77.343387,-77.210579,-77.048108,-76.989895,null,-73.282033,-73.23971,-73.383112,-73.401638,-73.338128,-73.429673,-73.329136,-73.384172,-73.407969,-73.368281,-73.347662,null,-72.45707,-73.282033,null,-94.479912,-94.910144,-95.190592,-95.418124,-95.769498,-95.977469,-96.148906,-96.316131,-96.462711,-96.796618,-96.947953,-97.104067,-97.376583,-97.657031,-97.95709,-98.088323,-98.553979,-98.851893,-99.187403,-99.336076,-99.599083,-99.761528,-100.000195,-100.000195,-100.000195,-101.000832,-102.001495,-103.001614,null,-94.059757,-93.998908,-93.834861,-93.779309,-93.69412,-93.578236,-93.489844,-93.586168,-93.650195,-93.737503,-93.664484,-93.66712,-93.816878,-93.918474,-93.836463,null,-94.479912,-94.427538,-94.233338,-94.002086,-94.059757,null,-103.001614,-103.001614,-103.001614,-103.929775,-105.730001,-106.630127,-106.619533,-106.507344,null,-104.026616,-104.077957,null,-111.085178,-111.067194,-111.071406,-109.102379,-107.546634,-105.745891,-104.077957,null,-104.026616,-104.077414,-104.092762,null,-85.005193,-87.045663,-87.617153,-87.633043,-87.404969,-87.457886,-87.530388,null,-81.490473,-81.701597,-81.899517,-82.020156,-82.022817,-82.151931,-82.226009,-83.8479,-84.853316,-85.005193,null,-84.82368,-84.481324,-84.30459,-84.038948,-83.826738,-83.672742,-83.434617,-83.258943,-83.044641,-82.855195,-82.775278,-82.58901,null,-83.673285,-84.350091,-85.231149,-85.519012,-86.092621,-86.677882,-87.216583,-87.842049,-87.874346,-88.072784,-88.069606,-89.498356,null,-89.103057,-89.13427,-89.115227,-89.273977,-89.498356,null,-82.58901,-82.569967,-82.580561,-82.461499,-82.413336,-82.267299,-82.167279,-81.972536,null,-88.05108,-88.044207,-88.15743,-88.071725,-88.247399,-88.473871,-88.435242,-88.566475,-88.807778,-89.073963,-89.141685,-89.103057,null,-84.82368,-84.881377,-84.799883,-84.843265,-85.01155,-85.167638,-85.404187,-85.425891,-85.566632,-85.698407,-85.83969,-86.059832,-86.262507,-86.325475,-86.499573,-86.61016,-86.825522,-87.055714,-87.131394,-87.43936,-87.653662,-87.911373,-87.921424,-88.05108,null,-83.673285,-83.384362,-83.178509,-83.089083,-82.815508,-82.709132,-82.684792,-82.372589,-81.972536,null,-95.322884,-95.085302,-94.955103,-94.926552,-95.067292,-94.991096,-94.867796,-94.604814,-94.615382,-94.622798,null,-94.622798,-95.50016,-97.299844,-99.10007,-100.100215,-101.099792,-102.041182,null,-95.322884,-96.699777,-99.000076,-100.300229,-102.048055,-102.050174,null,-102.041182,-102.040123,-102.050174,null,-75.405573,-75.62096,-75.710903,-75.787642,null,-75.405573,-75.554272,-75.527813,null,-75.787642,-75.714624,-75.048385,null,-114.030528,-114.034223,null,-114.030528,-114.023629,-114.066495,-114.13264,-114.269169,-114.460734,-114.671341,-114.739606,-114.65018,-114.650697,-114.630052,-114.580856,-114.642222,null,-119.998975,-117.028252,-117.028252,null,-114.722656,-114.589848,-114.479777,-114.655993,-114.691443,-114.743301,-114.548558,-114.469183,-114.165972,-114.354901,-114.484531,-114.567084,-114.62212,-114.642222,null,-119.998975,-124.213808,null,-119.998975,-120.000034,-118.11462,-116.32075,-114.642222,null,-116.915003,-116.906528,-116.998073,-117.02665,-117.03143,null,-111.050245,-114.034223,null,-111.050245,-111.049728,-111.085178,null,-116.915003,-116.678997,-116.511255,-116.457796,-116.558875,-116.693285,-116.836145,-117.051532,-117.192299,-117.194391,-117.007607,-116.926656,-117.013963,-117.028252,null,-111.085178,-111.194189,-111.291548,-111.400016,-111.542385,-111.771492,-112.336135,-112.362593,-112.690144,-112.87481,-113.052086,-113.174844,-113.378578,-113.439427,-113.502937,-113.680213,-113.794496,-113.914101,-114.035799,-114.137937,-114.335315,-114.513651,-114.523702,-114.407275,-114.49143,-114.394046,-114.284517,-114.58561,-114.84332,-115.12165,-115.288332,-115.519067,-115.704792,-115.704276,-115.9678,-116.048234,null,-114.034223,-117.028252,null,-70.645734,-70.751025,-70.797611,-70.98176,-70.944165,-71.072762,null,-72.45707,-71.248979,-71.145781,-70.933598,-70.815052,null,-72.45707,-72.537505,-72.458647,-72.434307,-72.403611,-72.369763,-72.260209,-72.178199,-72.059136,-72.036373,-72.003041,-71.809901,-71.585522,-71.546377,-71.620455,-71.503511,-71.505087,null],\"mode\":\"lines\",\"showlegend\":false,\"type\":\"scattergeo\"}],                        {\"template\":{\"data\":{\"histogram2dcontour\":[{\"type\":\"histogram2dcontour\",\"colorbar\":{\"outlinewidth\":0,\"ticks\":\"\"},\"colorscale\":[[0.0,\"#0d0887\"],[0.1111111111111111,\"#46039f\"],[0.2222222222222222,\"#7201a8\"],[0.3333333333333333,\"#9c179e\"],[0.4444444444444444,\"#bd3786\"],[0.5555555555555556,\"#d8576b\"],[0.6666666666666666,\"#ed7953\"],[0.7777777777777778,\"#fb9f3a\"],[0.8888888888888888,\"#fdca26\"],[1.0,\"#f0f921\"]]}],\"choropleth\":[{\"type\":\"choropleth\",\"colorbar\":{\"outlinewidth\":0,\"ticks\":\"\"}}],\"histogram2d\":[{\"type\":\"histogram2d\",\"colorbar\":{\"outlinewidth\":0,\"ticks\":\"\"},\"colorscale\":[[0.0,\"#0d0887\"],[0.1111111111111111,\"#46039f\"],[0.2222222222222222,\"#7201a8\"],[0.3333333333333333,\"#9c179e\"],[0.4444444444444444,\"#bd3786\"],[0.5555555555555556,\"#d8576b\"],[0.6666666666666666,\"#ed7953\"],[0.7777777777777778,\"#fb9f3a\"],[0.8888888888888888,\"#fdca26\"],[1.0,\"#f0f921\"]]}],\"heatmap\":[{\"type\":\"heatmap\",\"colorbar\":{\"outlinewidth\":0,\"ticks\":\"\"},\"colorscale\":[[0.0,\"#0d0887\"],[0.1111111111111111,\"#46039f\"],[0.2222222222222222,\"#7201a8\"],[0.3333333333333333,\"#9c179e\"],[0.4444444444444444,\"#bd3786\"],[0.5555555555555556,\"#d8576b\"],[0.6666666666666666,\"#ed7953\"],[0.7777777777777778,\"#fb9f3a\"],[0.8888888888888888,\"#fdca26\"],[1.0,\"#f0f921\"]]}],\"heatmapgl\":[{\"type\":\"heatmapgl\",\"colorbar\":{\"outlinewidth\":0,\"ticks\":\"\"},\"colorscale\":[[0.0,\"#0d0887\"],[0.1111111111111111,\"#46039f\"],[0.2222222222222222,\"#7201a8\"],[0.3333333333333333,\"#9c179e\"],[0.4444444444444444,\"#bd3786\"],[0.5555555555555556,\"#d8576b\"],[0.6666666666666666,\"#ed7953\"],[0.7777777777777778,\"#fb9f3a\"],[0.8888888888888888,\"#fdca26\"],[1.0,\"#f0f921\"]]}],\"contourcarpet\":[{\"type\":\"contourcarpet\",\"colorbar\":{\"outlinewidth\":0,\"ticks\":\"\"}}],\"contour\":[{\"type\":\"contour\",\"colorbar\":{\"outlinewidth\":0,\"ticks\":\"\"},\"colorscale\":[[0.0,\"#0d0887\"],[0.1111111111111111,\"#46039f\"],[0.2222222222222222,\"#7201a8\"],[0.3333333333333333,\"#9c179e\"],[0.4444444444444444,\"#bd3786\"],[0.5555555555555556,\"#d8576b\"],[0.6666666666666666,\"#ed7953\"],[0.7777777777777778,\"#fb9f3a\"],[0.8888888888888888,\"#fdca26\"],[1.0,\"#f0f921\"]]}],\"surface\":[{\"type\":\"surface\",\"colorbar\":{\"outlinewidth\":0,\"ticks\":\"\"},\"colorscale\":[[0.0,\"#0d0887\"],[0.1111111111111111,\"#46039f\"],[0.2222222222222222,\"#7201a8\"],[0.3333333333333333,\"#9c179e\"],[0.4444444444444444,\"#bd3786\"],[0.5555555555555556,\"#d8576b\"],[0.6666666666666666,\"#ed7953\"],[0.7777777777777778,\"#fb9f3a\"],[0.8888888888888888,\"#fdca26\"],[1.0,\"#f0f921\"]]}],\"mesh3d\":[{\"type\":\"mesh3d\",\"colorbar\":{\"outlinewidth\":0,\"ticks\":\"\"}}],\"scatter\":[{\"fillpattern\":{\"fillmode\":\"overlay\",\"size\":10,\"solidity\":0.2},\"type\":\"scatter\"}],\"parcoords\":[{\"type\":\"parcoords\",\"line\":{\"colorbar\":{\"outlinewidth\":0,\"ticks\":\"\"}}}],\"scatterpolargl\":[{\"type\":\"scatterpolargl\",\"marker\":{\"colorbar\":{\"outlinewidth\":0,\"ticks\":\"\"}}}],\"bar\":[{\"error_x\":{\"color\":\"#2a3f5f\"},\"error_y\":{\"color\":\"#2a3f5f\"},\"marker\":{\"line\":{\"color\":\"#E5ECF6\",\"width\":0.5},\"pattern\":{\"fillmode\":\"overlay\",\"size\":10,\"solidity\":0.2}},\"type\":\"bar\"}],\"scattergeo\":[{\"type\":\"scattergeo\",\"marker\":{\"colorbar\":{\"outlinewidth\":0,\"ticks\":\"\"}}}],\"scatterpolar\":[{\"type\":\"scatterpolar\",\"marker\":{\"colorbar\":{\"outlinewidth\":0,\"ticks\":\"\"}}}],\"histogram\":[{\"marker\":{\"pattern\":{\"fillmode\":\"overlay\",\"size\":10,\"solidity\":0.2}},\"type\":\"histogram\"}],\"scattergl\":[{\"type\":\"scattergl\",\"marker\":{\"colorbar\":{\"outlinewidth\":0,\"ticks\":\"\"}}}],\"scatter3d\":[{\"type\":\"scatter3d\",\"line\":{\"colorbar\":{\"outlinewidth\":0,\"ticks\":\"\"}},\"marker\":{\"colorbar\":{\"outlinewidth\":0,\"ticks\":\"\"}}}],\"scattermapbox\":[{\"type\":\"scattermapbox\",\"marker\":{\"colorbar\":{\"outlinewidth\":0,\"ticks\":\"\"}}}],\"scatterternary\":[{\"type\":\"scatterternary\",\"marker\":{\"colorbar\":{\"outlinewidth\":0,\"ticks\":\"\"}}}],\"scattercarpet\":[{\"type\":\"scattercarpet\",\"marker\":{\"colorbar\":{\"outlinewidth\":0,\"ticks\":\"\"}}}],\"carpet\":[{\"aaxis\":{\"endlinecolor\":\"#2a3f5f\",\"gridcolor\":\"white\",\"linecolor\":\"white\",\"minorgridcolor\":\"white\",\"startlinecolor\":\"#2a3f5f\"},\"baxis\":{\"endlinecolor\":\"#2a3f5f\",\"gridcolor\":\"white\",\"linecolor\":\"white\",\"minorgridcolor\":\"white\",\"startlinecolor\":\"#2a3f5f\"},\"type\":\"carpet\"}],\"table\":[{\"cells\":{\"fill\":{\"color\":\"#EBF0F8\"},\"line\":{\"color\":\"white\"}},\"header\":{\"fill\":{\"color\":\"#C8D4E3\"},\"line\":{\"color\":\"white\"}},\"type\":\"table\"}],\"barpolar\":[{\"marker\":{\"line\":{\"color\":\"#E5ECF6\",\"width\":0.5},\"pattern\":{\"fillmode\":\"overlay\",\"size\":10,\"solidity\":0.2}},\"type\":\"barpolar\"}],\"pie\":[{\"automargin\":true,\"type\":\"pie\"}]},\"layout\":{\"autotypenumbers\":\"strict\",\"colorway\":[\"#636efa\",\"#EF553B\",\"#00cc96\",\"#ab63fa\",\"#FFA15A\",\"#19d3f3\",\"#FF6692\",\"#B6E880\",\"#FF97FF\",\"#FECB52\"],\"font\":{\"color\":\"#2a3f5f\"},\"hovermode\":\"closest\",\"hoverlabel\":{\"align\":\"left\"},\"paper_bgcolor\":\"white\",\"plot_bgcolor\":\"#E5ECF6\",\"polar\":{\"bgcolor\":\"#E5ECF6\",\"angularaxis\":{\"gridcolor\":\"white\",\"linecolor\":\"white\",\"ticks\":\"\"},\"radialaxis\":{\"gridcolor\":\"white\",\"linecolor\":\"white\",\"ticks\":\"\"}},\"ternary\":{\"bgcolor\":\"#E5ECF6\",\"aaxis\":{\"gridcolor\":\"white\",\"linecolor\":\"white\",\"ticks\":\"\"},\"baxis\":{\"gridcolor\":\"white\",\"linecolor\":\"white\",\"ticks\":\"\"},\"caxis\":{\"gridcolor\":\"white\",\"linecolor\":\"white\",\"ticks\":\"\"}},\"coloraxis\":{\"colorbar\":{\"outlinewidth\":0,\"ticks\":\"\"}},\"colorscale\":{\"sequential\":[[0.0,\"#0d0887\"],[0.1111111111111111,\"#46039f\"],[0.2222222222222222,\"#7201a8\"],[0.3333333333333333,\"#9c179e\"],[0.4444444444444444,\"#bd3786\"],[0.5555555555555556,\"#d8576b\"],[0.6666666666666666,\"#ed7953\"],[0.7777777777777778,\"#fb9f3a\"],[0.8888888888888888,\"#fdca26\"],[1.0,\"#f0f921\"]],\"sequentialminus\":[[0.0,\"#0d0887\"],[0.1111111111111111,\"#46039f\"],[0.2222222222222222,\"#7201a8\"],[0.3333333333333333,\"#9c179e\"],[0.4444444444444444,\"#bd3786\"],[0.5555555555555556,\"#d8576b\"],[0.6666666666666666,\"#ed7953\"],[0.7777777777777778,\"#fb9f3a\"],[0.8888888888888888,\"#fdca26\"],[1.0,\"#f0f921\"]],\"diverging\":[[0,\"#8e0152\"],[0.1,\"#c51b7d\"],[0.2,\"#de77ae\"],[0.3,\"#f1b6da\"],[0.4,\"#fde0ef\"],[0.5,\"#f7f7f7\"],[0.6,\"#e6f5d0\"],[0.7,\"#b8e186\"],[0.8,\"#7fbc41\"],[0.9,\"#4d9221\"],[1,\"#276419\"]]},\"xaxis\":{\"gridcolor\":\"white\",\"linecolor\":\"white\",\"ticks\":\"\",\"title\":{\"standoff\":15},\"zerolinecolor\":\"white\",\"automargin\":true,\"zerolinewidth\":2},\"yaxis\":{\"gridcolor\":\"white\",\"linecolor\":\"white\",\"ticks\":\"\",\"title\":{\"standoff\":15},\"zerolinecolor\":\"white\",\"automargin\":true,\"zerolinewidth\":2},\"scene\":{\"xaxis\":{\"backgroundcolor\":\"#E5ECF6\",\"gridcolor\":\"white\",\"linecolor\":\"white\",\"showbackground\":true,\"ticks\":\"\",\"zerolinecolor\":\"white\",\"gridwidth\":2},\"yaxis\":{\"backgroundcolor\":\"#E5ECF6\",\"gridcolor\":\"white\",\"linecolor\":\"white\",\"showbackground\":true,\"ticks\":\"\",\"zerolinecolor\":\"white\",\"gridwidth\":2},\"zaxis\":{\"backgroundcolor\":\"#E5ECF6\",\"gridcolor\":\"white\",\"linecolor\":\"white\",\"showbackground\":true,\"ticks\":\"\",\"zerolinecolor\":\"white\",\"gridwidth\":2}},\"shapedefaults\":{\"line\":{\"color\":\"#2a3f5f\"}},\"annotationdefaults\":{\"arrowcolor\":\"#2a3f5f\",\"arrowhead\":0,\"arrowwidth\":1},\"geo\":{\"bgcolor\":\"white\",\"landcolor\":\"#E5ECF6\",\"subunitcolor\":\"white\",\"showland\":true,\"showlakes\":true,\"lakecolor\":\"white\"},\"title\":{\"x\":0.05},\"mapbox\":{\"style\":\"light\"}}},\"geo\":{\"domain\":{\"x\":[0.0,1.0],\"y\":[0.0,1.0]},\"center\":{},\"visible\":true,\"resolution\":50,\"scope\":\"world\",\"showcountries\":true,\"countrycolor\":\"Black\"},\"coloraxis\":{\"colorbar\":{\"title\":{\"text\":\"alcohol\"}},\"colorscale\":[[0.0,\"#0d0887\"],[0.1111111111111111,\"#46039f\"],[0.2222222222222222,\"#7201a8\"],[0.3333333333333333,\"#9c179e\"],[0.4444444444444444,\"#bd3786\"],[0.5555555555555556,\"#d8576b\"],[0.6666666666666666,\"#ed7953\"],[0.7777777777777778,\"#fb9f3a\"],[0.8888888888888888,\"#fdca26\"],[1.0,\"#f0f921\"]]},\"legend\":{\"tracegroupgap\":0,\"itemsizing\":\"constant\"},\"margin\":{\"t\":60}},                        {\"responsive\": true}                    ).then(function(){\n",
       "                            \n",
       "var gd = document.getElementById('24bc4ddc-81c6-4b3d-901a-57836618a26c');\n",
       "var x = new MutationObserver(function (mutations, observer) {{\n",
       "        var display = window.getComputedStyle(gd).display;\n",
       "        if (!display || display === 'none') {{\n",
       "            console.log([gd, 'removed!']);\n",
       "            Plotly.purge(gd);\n",
       "            observer.disconnect();\n",
       "        }}\n",
       "}});\n",
       "\n",
       "// Listen for the removal of the full notebook cells\n",
       "var notebookContainer = gd.closest('#notebook-container');\n",
       "if (notebookContainer) {{\n",
       "    x.observe(notebookContainer, {childList: true});\n",
       "}}\n",
       "\n",
       "// Listen for the clearing of the current output cell\n",
       "var outputEl = gd.closest('.output');\n",
       "if (outputEl) {{\n",
       "    x.observe(outputEl, {childList: true});\n",
       "}}\n",
       "\n",
       "                        })                };                });            </script>        </div>"
      ]
     },
     "metadata": {},
     "output_type": "display_data"
    }
   ],
   "source": [
    "# Розподіл авто-катастроф через алкогольне сп'яніння\n",
    "fig1 = px.scatter_geo(auto_crashes_upd, lat='LATITUDE', lon='LONGITUDE',\n",
    "                     hover_name='STATE_CODE', size='alcohol', color = 'alcohol'\n",
    "                     \n",
    "                     )\n",
    "fig1 = fig1.add_trace(\n",
    "    go.Scattergeo(\n",
    "        lat=[\n",
    "            v\n",
    "            for sub in [\n",
    "                np.array(f[\"geometry\"][\"coordinates\"])[:, 1].tolist() + [None]\n",
    "                for f in states_geojson[\"features\"]\n",
    "            ]\n",
    "            for v in sub\n",
    "        ],\n",
    "        lon=[\n",
    "            v\n",
    "            for sub in [\n",
    "                np.array(f[\"geometry\"][\"coordinates\"])[:, 0].tolist() + [None]\n",
    "                for f in states_geojson[\"features\"]\n",
    "            ]\n",
    "            for v in sub\n",
    "        ],\n",
    "        line_color=\"brown\",\n",
    "        line_width=1,\n",
    "        mode=\"lines\",\n",
    "        showlegend=False,\n",
    "    )\n",
    ")\n",
    "\n",
    "fig1.update_geos(\n",
    "    visible=True, resolution=50, scope=\"world\", showcountries=True, countrycolor=\"Black\"\n",
    ")\n",
    "\n",
    "fig1.show()"
   ]
  }
 ],
 "metadata": {
  "kernelspec": {
   "display_name": "Python 3 (ipykernel)",
   "language": "python",
   "name": "python3"
  },
  "language_info": {
   "codemirror_mode": {
    "name": "ipython",
    "version": 3
   },
   "file_extension": ".py",
   "mimetype": "text/x-python",
   "name": "python",
   "nbconvert_exporter": "python",
   "pygments_lexer": "ipython3",
   "version": "3.11.5"
  }
 },
 "nbformat": 4,
 "nbformat_minor": 5
}
